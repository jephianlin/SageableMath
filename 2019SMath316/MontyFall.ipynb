{
 "cells": [
  {
   "cell_type": "markdown",
   "metadata": {},
   "source": [
    "# Monty Fall Problem"
   ]
  },
  {
   "cell_type": "markdown",
   "metadata": {},
   "source": [
    "<a rel=\"license\" href=\"http://creativecommons.org/licenses/by/4.0/\"><img alt=\"Creative Commons License\" style=\"border-width:0\" src=\"https://i.creativecommons.org/l/by/4.0/88x31.png\" /></a><br />This work by <span xmlns:cc=\"http://creativecommons.org/ns#\" property=\"cc:attributionName\">嚴家胤</span> is licensed under a <a rel=\"license\" href=\"http://creativecommons.org/licenses/by/4.0/\">Creative Commons Attribution 4.0 International License</a>."
   ]
  },
  {
   "cell_type": "markdown",
   "metadata": {},
   "source": [
    "##### Overview\n",
    "\n"
   ]
  },
  {
   "cell_type": "markdown",
   "metadata": {},
   "source": [
    "##### Algorithm\n",
    "1. 假設有3個箱子，隨機選一個箱子放東西\n",
    "2. 讓玩家選擇其中一項後，隨機開啟另外兩個其中之一的箱子，  \n",
    "如果開到有東西的，則此局不算，重新開始。\n",
    "3. 問玩家在選擇不要換，後開啟選擇的箱子。"
   ]
  },
  {
   "cell_type": "markdown",
   "metadata": {},
   "source": [
    "##### Explanation\n",
    "1. 有3個箱子A、B、C，隨機選一個箱子放球。\n",
    "2. 讓一位玩家選擇其中一個箱子。\n",
    "3. 開啟另外兩個其中一個箱子。\n",
    "4. 如果開到有放球的則此局結束。\n",
    "   沒開到則繼續。\n",
    "5. 然後詢問玩家要不要換，決定後直接開啟。\n",
    "\n"
   ]
  },
  {
   "cell_type": "markdown",
   "metadata": {},
   "source": [
    "##### Implementation"
   ]
  },
  {
   "cell_type": "code",
   "execution_count": 1,
   "metadata": {},
   "outputs": [],
   "source": [
    "from random import choice\n",
    "\n",
    "def Monty_Fall_game():\n",
    "    box = ['A','B','C']\n",
    "    \n",
    "    ball = choice(box)\n",
    "    player = choice(box)\n",
    "    not_selected = [x for x in box if x != player]\n",
    "    opened_box = choice(not_selected) \n",
    "    if opened_box == ball: \n",
    "        return Monty_Fall_game()\n",
    "    else:\n",
    "        change = [x for x in box if x != player and x != opened_box]\n",
    "        \n",
    "        final = choice(change)\n",
    "    return (final == ball)"
   ]
  },
  {
   "cell_type": "code",
   "execution_count": 2,
   "metadata": {},
   "outputs": [],
   "source": [
    "def probability(k):\n",
    "    counter = 0;\n",
    "    for _ in range(k):\n",
    "        if Monty_Fall_game():\n",
    "            counter += 1\n",
    "    return N(counter / k)        \n"
   ]
  },
  {
   "cell_type": "markdown",
   "metadata": {},
   "source": [
    "##### Examples"
   ]
  },
  {
   "cell_type": "code",
   "execution_count": 3,
   "metadata": {},
   "outputs": [
    {
     "data": {
      "text/plain": [
       "0.510000000000000"
      ]
     },
     "execution_count": 3,
     "metadata": {},
     "output_type": "execute_result"
    }
   ],
   "source": [
    "##重複1000次種球的機率\n",
    "probability(1000)"
   ]
  },
  {
   "cell_type": "markdown",
   "metadata": {},
   "source": []
  }
 ],
 "metadata": {
  "kernelspec": {
   "display_name": "SageMath 8.1",
   "language": "",
   "name": "sagemath"
  },
  "language_info": {
   "codemirror_mode": {
    "name": "ipython",
    "version": 2
   },
   "file_extension": ".py",
   "mimetype": "text/x-python",
   "name": "python",
   "nbconvert_exporter": "python",
   "pygments_lexer": "ipython2",
   "version": "2.7.15rc1"
  }
 },
 "nbformat": 4,
 "nbformat_minor": 1
}
