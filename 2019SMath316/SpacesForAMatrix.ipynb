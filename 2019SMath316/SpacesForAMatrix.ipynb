{
 "cells": [
  {
   "cell_type": "markdown",
   "metadata": {},
   "source": [
    "# Spaces related to a matrix"
   ]
  },
  {
   "cell_type": "markdown",
   "metadata": {},
   "source": [
    "##### Overview\n",
    "\n",
    "輸入一個矩陣，利用矩陣的運算來求出該矩陣的行、列空間。"
   ]
  },
  {
   "cell_type": "markdown",
   "metadata": {},
   "source": [
    "##### Review liner algebra\n",
    "\n",
    "$RS(A)=\\{xA: x\\in \\mathbb{F}_{1\\times m}\\}$ 為 $A$ 之**各列任意組合**  \n",
    "$CS(A)=\\{Ax: x\\in \\mathbb{F}_{n\\times 1}\\}$ 為 $A$ 之**各行任意組合**"
   ]
  },
  {
   "cell_type": "markdown",
   "metadata": {},
   "source": [
    "##### Algorithm\n",
    "\n",
    "1. 先輸入矩陣 `A=B=matrix()`.\n",
    "2. 將該矩陣的維度assign給 `m,n`.\n",
    "3. 將矩陣裡的元素設定成有裡數.\n",
    "4. 求出簡化列梯陣後即得到列(行)空間.\n",
    "5. 設定一個迴圈將該矩陣的每一列(行)印出來，並刪除零列(行).\n",
    "6. 最後便得到簡化後的列(行)空間."
   ]
  },
  {
   "cell_type": "markdown",
   "metadata": {},
   "source": [
    "##### Explanation\n",
    "\n",
    "1. 目標是在求列空間與行空間,\n",
    "2. 將矩陣中的元素設成有理數的原因是為了之後在做簡化列梯陣時能出現分數,\n",
    "3. 而在做簡化列梯陣的過程就是將矩陣中每一列成為線性獨立,便能得到列空間.\n",
    "4. 最後行空間的作法與列空間相似,只要先將輸入的矩陣轉置並做一樣的步驟便能得到行空間.\n"
   ]
  },
  {
   "cell_type": "markdown",
   "metadata": {},
   "source": [
    "##### Implementation"
   ]
  },
  {
   "cell_type": "code",
   "execution_count": 1,
   "metadata": {},
   "outputs": [
    {
     "name": "stdout",
     "output_type": "stream",
     "text": [
      "[1 0 0]\n",
      "[0 1 0]\n",
      "[1 0 0]\n",
      "---\n",
      "簡化列梯陣為:\n",
      "[1 0 0]\n",
      "[0 1 0]\n",
      "[0 0 0]\n",
      "---\n",
      "列空間為:\n",
      "[1 0 0]\n",
      "[0 1 0]\n",
      "None\n"
     ]
    }
   ],
   "source": [
    "#Row Space\n",
    "def row_space(matrix):\n",
    "    m,n = A.dimensions()\n",
    "    AA = copy(A) ### make a copy so that we won't modify A\n",
    "    AA = AA.change_ring(QQ) ### change the base ring to rational numbers QQ\n",
    "    R = AA.echelon_form()\n",
    "    print \"簡化列梯陣為:\"\n",
    "    print R\n",
    "    print \"---\"\n",
    "    print \"列空間為:\"\n",
    "    for i in range(m):\n",
    "        if R[i,:]!=zero_matrix(1,n):\n",
    "            print R[i,:]\n",
    "        else:\n",
    "            R.delete_rows([i])\n",
    "\n",
    "A = matrix([[1,0,0],[0,1,0],[1,0,0]])\n",
    "print A\n",
    "print \"---\"\n",
    "print row_space(A)"
   ]
  },
  {
   "cell_type": "code",
   "execution_count": 2,
   "metadata": {},
   "outputs": [
    {
     "name": "stdout",
     "output_type": "stream",
     "text": [
      "[1 0 0]\n",
      "[0 1 0]\n",
      "[1 0 0]\n",
      "---\n",
      "轉置矩陣為:\n",
      "[1 0 1]\n",
      "[0 1 0]\n",
      "[0 0 0]\n",
      "經由列變換後得出:\n",
      "[1 0 1]\n",
      "[0 1 0]\n",
      "[0 0 0]\n",
      "---\n",
      "行空間為:\n",
      "[1 0 1]\n",
      "[0 1 0]\n",
      "None\n"
     ]
    }
   ],
   "source": [
    "#Column Space\n",
    "def col_space(matrix):\n",
    "    m,n=B.dimensions()\n",
    "    BB=copy(B)\n",
    "    BB=BB.change_ring(QQ)\n",
    "    print \"轉置矩陣為:\"\n",
    "    C=BB.transpose()\n",
    "    print C\n",
    "    D=C.echelon_form()\n",
    "    print \"經由列變換後得出:\"\n",
    "    print D\n",
    "    print \"---\"\n",
    "    print \"行空間為:\"\n",
    "    for i in range(n):\n",
    "        if D[i,:]!=zero_matrix(1,m):\n",
    "            print D[i,:]\n",
    "        else:\n",
    "            D.delete_rows([i])\n",
    "\n",
    "B = matrix([[1,0,0],[0,1,0],[1,0,0]])\n",
    "print B\n",
    "print \"---\"\n",
    "print col_space(B)"
   ]
  },
  {
   "cell_type": "markdown",
   "metadata": {},
   "source": [
    "##### Example\n"
   ]
  },
  {
   "cell_type": "code",
   "execution_count": 3,
   "metadata": {
    "scrolled": false
   },
   "outputs": [
    {
     "name": "stdout",
     "output_type": "stream",
     "text": [
      "Example 1\n",
      "[0 1 2]\n",
      "[3 4 5]\n",
      "[6 7 8]\n",
      "---\n",
      "簡化列梯陣為:\n",
      "[ 1  0 -1]\n",
      "[ 0  1  2]\n",
      "[ 0  0  0]\n",
      "---\n",
      "列空間為:\n",
      "[ 1  0 -1]\n",
      "[0 1 2]\n",
      "None\n",
      "轉置矩陣為:\n",
      "[0 3 6]\n",
      "[1 4 7]\n",
      "[2 5 8]\n",
      "經由列變換後得出:\n",
      "[ 1  0 -1]\n",
      "[ 0  1  2]\n",
      "[ 0  0  0]\n",
      "---\n",
      "行空間為:\n",
      "[ 1  0 -1]\n",
      "[0 1 2]\n",
      "None\n",
      "----------------------------------------------------\n",
      "Example 2\n",
      "[1 0 0]\n",
      "[2 0 0]\n",
      "[0 1 0]\n",
      "[3 4 0]\n",
      "[0 0 1]\n",
      "---\n",
      "簡化列梯陣為:\n",
      "[1 0 0]\n",
      "[0 1 0]\n",
      "[0 0 1]\n",
      "[0 0 0]\n",
      "[0 0 0]\n",
      "---\n",
      "列空間為:\n",
      "[1 0 0]\n",
      "[0 1 0]\n",
      "[0 0 1]\n",
      "None\n",
      "轉置矩陣為:\n",
      "[1 2 0 3 0]\n",
      "[0 0 1 4 0]\n",
      "[0 0 0 0 1]\n",
      "經由列變換後得出:\n",
      "[1 2 0 3 0]\n",
      "[0 0 1 4 0]\n",
      "[0 0 0 0 1]\n",
      "---\n",
      "行空間為:\n",
      "[1 2 0 3 0]\n",
      "[0 0 1 4 0]\n",
      "[0 0 0 0 1]\n",
      "None\n",
      "----------------------------------------------------\n",
      "Example 3\n",
      "[ 1  2  8]\n",
      "[ 3  4 18]\n",
      "[ 0  1  3]\n",
      "---\n",
      "簡化列梯陣為:\n",
      "[1 0 2]\n",
      "[0 1 3]\n",
      "[0 0 0]\n",
      "---\n",
      "列空間為:\n",
      "[1 0 2]\n",
      "[0 1 3]\n",
      "None\n",
      "轉置矩陣為:\n",
      "[ 1  3  0]\n",
      "[ 2  4  1]\n",
      "[ 8 18  3]\n",
      "經由列變換後得出:\n",
      "[   1    0  3/2]\n",
      "[   0    1 -1/2]\n",
      "[   0    0    0]\n",
      "---\n",
      "行空間為:\n",
      "[  1   0 3/2]\n",
      "[   0    1 -1/2]\n",
      "None\n"
     ]
    }
   ],
   "source": [
    "#example\n",
    "print \"Example 1\"\n",
    "A=B=matrix(3,range(9))\n",
    "print A\n",
    "print \"---\"\n",
    "print row_space(A)\n",
    "print col_space(B)\n",
    "print \"----------------------------------------------------\"\n",
    "print \"Example 2\"\n",
    "A=B=matrix([[1,0,0],[2,0,0],[0,1,0],[3,4,0],[0,0,1]])\n",
    "print A\n",
    "print \"---\"\n",
    "print row_space(A)\n",
    "print col_space(B)\n",
    "print \"----------------------------------------------------\"\n",
    "print \"Example 3\"\n",
    "A=B=matrix([[1,2,8],[3,4,18],[0,1,3]])\n",
    "print A\n",
    "print \"---\"\n",
    "print row_space(A)\n",
    "print col_space(B)"
   ]
  },
  {
   "cell_type": "markdown",
   "metadata": {},
   "source": []
  }
 ],
 "metadata": {
  "kernelspec": {
   "display_name": "SageMath 8.1",
   "language": "",
   "name": "sagemath"
  },
  "language_info": {
   "codemirror_mode": {
    "name": "ipython",
    "version": 2
   },
   "file_extension": ".py",
   "mimetype": "text/x-python",
   "name": "python",
   "nbconvert_exporter": "python",
   "pygments_lexer": "ipython2",
   "version": "2.7.15rc1"
  }
 },
 "nbformat": 4,
 "nbformat_minor": 1
}
