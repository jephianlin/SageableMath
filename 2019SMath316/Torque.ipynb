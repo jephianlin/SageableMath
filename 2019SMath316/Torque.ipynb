{
 "cells": [
  {
   "cell_type": "markdown",
   "metadata": {},
   "source": [
    "# Torque"
   ]
  },
  {
   "cell_type": "markdown",
   "metadata": {},
   "source": [
    "<a rel=\"license\" href=\"http://creativecommons.org/licenses/by/4.0/\"><img alt=\"Creative Commons License\" style=\"border-width:0\" src=\"https://i.creativecommons.org/l/by/4.0/88x31.png\" /></a><br />This work by <span xmlns:cc=\"http://creativecommons.org/ns#\" property=\"cc:attributionName\">黃仰義</span> is licensed under a <a rel=\"license\" href=\"http://creativecommons.org/licenses/by/4.0/\">Creative Commons Attribution 4.0 International License</a>.\n",
    "\n"
   ]
  },
  {
   "cell_type": "markdown",
   "metadata": {},
   "source": [
    "##### Overview\n",
    "力矩：  \n",
    "我會先給輸入者輸入一個位置，這個位置代表物體的重心 $G(a_1,b_1,c_1)$，  \n",
    "然後再給輸入者輸入兩個向量，一個是受力的點 $O(a_2,b_2,c_2)$，  \n",
    "另一個是力的方向與大小 $F(a_3,b_3,c_3)$\n",
    "\n",
    "算法：  \n",
    "先計算施力方向與受力點─重心連線的角度（令為 $\\theta$），再計算受力點─重心連線的長度（令為 $y$），  \n",
    "接著計算力的大小（令為 $f$），然後力矩為$$fy\\sin\\theta$$\n"
   ]
  },
  {
   "cell_type": "markdown",
   "metadata": {},
   "source": [
    "##### Algorithm\n",
    "1. $\\cos\\theta=\\displaystyle\\frac{(a_1-a_2)\\times a_3+(b_1-b_2)\\times b_3+(c_1-c_2)\\times c_3}{\\sqrt{(a_1-a_2)^{2}+(b_1-b_2)^{2}+(c_1-c_2)^{2}}\\times\\sqrt{a_3^{2}+b_3^{2}+c_3^{2}}}$\n",
    "\n",
    "2. $y=\\sqrt{(a_2-a_1)^{2}+(b_2-b_1)^{2}+(c_2-c_1)^{2}}$\n",
    "\n",
    "3. $f=\\sqrt{(a_3^{2}+b_3^{2}+c_3^{2})}$\n",
    "\n",
    "4. $x=fy\\sqrt{1-\\cos^{2}\\theta}$\n",
    "\n",
    "5. output $x$\n",
    "\n"
   ]
  },
  {
   "cell_type": "markdown",
   "metadata": {},
   "source": [
    "##### Explanation\n",
    "因為力矩的定義是，力乘上力臂，力臂就是將重心與力臂的延伸線作相連接，且連接點要垂直，重心與這連接點的距離即為力臂。\n",
    "\n",
    "為了要計算力臂的長度，我們先算出力與重心到受力點練線的角度，但角度無法直接算出來，所以我們藉由餘弦定理$\\cos$等於與角相鄰的兩邊向量內積除以兩邊向量長度的乘積，即可求得$\\cos\\theta$\n",
    "\n",
    "然後再利用畢達哥拉斯恆等式$$\\sin^{2}\\theta+\\cos^{2}\\theta=1$$來計算出$$\\sin\\theta=\\sqrt{1-\\cos^{2}\\theta}$$\n",
    "\n",
    "求出角度後，接著便要計算受力點與重心的距離，然後令為$y$ $$y=\\sqrt{(a_2-a_1)^{2}+(b_2-b_1)^{2}}$$\n",
    "\n",
    "這時便可求得力臂等於$y\\sin\\theta=y\\sqrt{1-\\cos^{2}\\theta}$\n",
    "\n",
    "接著將力的大小算出，也就是力的長度，即$f=|F|$，最後帶入力矩的公式：力乘以力臂\n",
    "\n",
    "$$fy\\sqrt{1-\\cos^{2}\\theta}$$\n",
    "\n",
    "其算出的數值便是力矩"
   ]
  },
  {
   "cell_type": "markdown",
   "metadata": {},
   "source": [
    "##### Implementation"
   ]
  },
  {
   "cell_type": "code",
   "execution_count": 1,
   "metadata": {},
   "outputs": [],
   "source": [
    "def torque(G, O, F):\n",
    "    a1,b1,c1 = G\n",
    "    a2,b2,c2 = O\n",
    "    a3,b3,c3 = F\n",
    "    cos_numerator = (a1-a2)*a3 + (b1-b2)*b3 + (c1-c2)*c3\n",
    "    cos_denominator = sqrt((a1-a2)^2 + (b1-b2)^2 + (c1-c2)^2) * sqrt(a3^2 + b3^2 + c3^2)\n",
    "    cos_value = cos_numerator / cos_denominator\n",
    "    y = sqrt((a1-a2)^2 + (b1-b2)^2 + (c1-c2)^2)\n",
    "    f = sqrt(a3^2 + b3^2 + c3^2)\n",
    "    x = f*y*sqrt(1-cos_value^2)\n",
    "    return N(x)"
   ]
  },
  {
   "cell_type": "markdown",
   "metadata": {},
   "source": [
    "##### Examples"
   ]
  },
  {
   "cell_type": "code",
   "execution_count": 2,
   "metadata": {},
   "outputs": [],
   "source": [
    "def torque(G, O, F):\n",
    "    a1,b1,c1 = G\n",
    "    a2,b2,c2 = O\n",
    "    a3,b3,c3 = F\n",
    "    cos_numerator = (a1-a2)*a3 + (b1-b2)*b3 + (c1-c2)*c3\n",
    "    cos_denominator = sqrt((a1-a2)^2 + (b1-b2)^2 + (c1-c2)^2) * sqrt(a3^2 + b3^2 + c3^2)\n",
    "    cos_value = cos_numerator / cos_denominator\n",
    "    y = sqrt((a1-a2)^2 + (b1-b2)^2 + (c1-c2)^2)\n",
    "    f = sqrt(a3^2 + b3^2 + c3^2)\n",
    "    x = f * y * sqrt(1 - cos_value^2)\n",
    "    return N(x)"
   ]
  },
  {
   "cell_type": "code",
   "execution_count": 3,
   "metadata": {},
   "outputs": [
    {
     "data": {
      "text/plain": [
       "2.44948974278318"
      ]
     },
     "execution_count": 3,
     "metadata": {},
     "output_type": "execute_result"
    }
   ],
   "source": [
    "a1=0\n",
    "b1=0\n",
    "c1=0\n",
    "a2=1\n",
    "b2=1\n",
    "c2=1\n",
    "a3=3\n",
    "b3=2\n",
    "c3=1\n",
    "\n",
    "G = [a1,b1,c1]\n",
    "O = [a2,b2,c2]\n",
    "F = [a3,b3,c3]\n",
    "\n",
    "torque(G, O, F)"
   ]
  },
  {
   "cell_type": "code",
   "execution_count": 4,
   "metadata": {},
   "outputs": [
    {
     "data": {
      "text/plain": [
       "65.3987767469698"
      ]
     },
     "execution_count": 4,
     "metadata": {},
     "output_type": "execute_result"
    }
   ],
   "source": [
    "a1=3\n",
    "b1=4\n",
    "c1=1\n",
    "a2=9\n",
    "b2=8\n",
    "c2=10\n",
    "a3=5\n",
    "b3=6\n",
    "c3=1\n",
    "\n",
    "G = [a1,b1,c1]\n",
    "O = [a2,b2,c2]\n",
    "F = [a3,b3,c3]\n",
    "\n",
    "torque(G, O, F)"
   ]
  },
  {
   "cell_type": "code",
   "execution_count": 5,
   "metadata": {},
   "outputs": [
    {
     "data": {
      "text/plain": [
       "4967.33716794018"
      ]
     },
     "execution_count": 5,
     "metadata": {},
     "output_type": "execute_result"
    }
   ],
   "source": [
    "a1=12.5\n",
    "b1=89\n",
    "c1=0.5\n",
    "a2=42\n",
    "b2=35\n",
    "c2=36.3\n",
    "a3=4\n",
    "b3=5\n",
    "c3=79\n",
    "\n",
    "G = [a1,b1,c1]\n",
    "O = [a2,b2,c2]\n",
    "F = [a3,b3,c3]\n",
    "\n",
    "torque(G, O, F)"
   ]
  },
  {
   "cell_type": "code",
   "execution_count": null,
   "metadata": {},
   "outputs": [],
   "source": []
  }
 ],
 "metadata": {
  "kernelspec": {
   "display_name": "SageMath (stable)",
   "language": "sagemath",
   "name": "sagemath"
  },
  "language_info": {
   "codemirror_mode": {
    "name": "ipython",
    "version": 2
   },
   "file_extension": ".py",
   "mimetype": "text/x-python",
   "name": "python",
   "nbconvert_exporter": "python",
   "pygments_lexer": "ipython2",
   "version": "2.7.15"
  }
 },
 "nbformat": 4,
 "nbformat_minor": 1
}
