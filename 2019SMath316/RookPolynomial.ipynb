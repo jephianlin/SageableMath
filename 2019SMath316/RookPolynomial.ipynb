{
 "cells": [
  {
   "cell_type": "markdown",
   "metadata": {
    "hideOutput": false
   },
   "source": [
    "# Rook polynomial"
   ]
  },
  {
   "cell_type": "markdown",
   "metadata": {},
   "source": [
    "<a rel=\"license\" href=\"http://creativecommons.org/licenses/by/4.0/\"><img alt=\"Creative Commons License\" style=\"border-width:0\" src=\"https://i.creativecommons.org/l/by/4.0/88x31.png\" /></a><br />This work by <span xmlns:cc=\"http://creativecommons.org/ns#\" property=\"cc:attributionName\">HuangJinZhang</span> is licensed under a <a rel=\"license\" \n",
    "href=\"http://creativecommons.org/licenses/by/4.0/\">Creative Commons Attribution 4.0 International License</a>."
   ]
  },
  {
   "cell_type": "markdown",
   "metadata": {},
   "source": [
    "##### Introduction\n",
    "\n",
    "首先定義 $r_{B_k}(x)$ 為在棋盤 $B$ 中放入不同行不同列 $k$ 個棋子的可能種數，\n",
    "\n",
    "例如：當 $B$ 為 $3\\times 3$ 的棋盤\n",
    "$$\n",
    "┏―┳―┳―┓\\\\\n",
    "┣―╋―╋―┫\\\\\n",
    "┣―╋―╋―┫\\\\\n",
    "┗―┻―┻―┛\n",
    "$$\n",
    " \n",
    "$ B_n $ 表示在board置入n個不同行不同列的城堡棋子\n",
    "\n",
    "$r_{B_0}(x)$ = $1$, $r_{B_1}(x)$ = $9$, $r_{B_2}(x)$ = $18$,$r_{B_3}(x)$ = $6$\n",
    "    \n",
    "考慮 $B$ 為 $m\\times n$ 的棋盤（ $m\\leq n$ ）  \n",
    "\n",
    "然後我們定義$ R_{(m,n)}(x)=\\sum_{k=0}^{m}r_{B_k}x^k $。  \n",
    "\n",
    "考慮一般的square board\n",
    "\n",
    "Let $R_n(x)=R_{(n,n)}(x)$.\n",
    "\n",
    "$R_1(x)$\t=\t$r_1(x)x+r_0(x)$ = $x+1$\n",
    "\n",
    "$R_2(x)$\t=\t$r_2(x)x^2+r_1(x)x+r_0(x)$ = $2x^2+4x+1$\t\n",
    "\n",
    "$R_3(x)$    =   $r_3(x)x^3+r_2(x)x^2+r_1(x)x+r_0(x)$ = $6x^3+18x^2+9x+1$\n",
    "\n",
    "$R_4(x)$\t=\t$r_4(x)x^4+r_3(x)x^3+r_2(x)x^2+r_1(x)x+r_0(x)$ = $24x^4+96x^3+72x^2+16x+1$\n"
   ]
  },
  {
   "cell_type": "markdown",
   "metadata": {},
   "source": [
    "##### Overview\n",
    "\n",
    "\"rook polynomial\" 是由John Riordan創造的。\n",
    "\n",
    "在探討的是，在各種的board中，如何擺置不同行也不同列的城堡棋，依照\n",
    "\n",
    "擺的數量不同，情況也會有所不同，進而藉由未知數$x$來表示我們擺的棋子\n",
    "\n",
    "及其不同的種數，然而每個board也並非為完整沒有限制的。"
   ]
  },
  {
   "cell_type": "markdown",
   "metadata": {},
   "source": [
    "##### Algorithm\n",
    "\n",
    "\n",
    "Let $B$ be a board (a set of grid points).  \n",
    "Suppose $(i,j)$ is a point in $B$.  \n",
    "Let $B-(i,j)$ be the board obtained from $B$ by removing the point $(i,j)$.  \n",
    "Let $B(i,j)$ be the board obtained from $B$ by removing the $i$-th row and the $j$-th column.  \n",
    "Then $R_B(x) = R_{B-(i,j)}(x) + x R_{B(i,j)}(x)$.  \n",
    "\n",
    "for example.\n",
    "$$\n",
    "B=\n",
    "\\begin{pmatrix}\n",
    "0 & 0 & 0  \\\\\n",
    "1 & 0 & 0  \\\\\n",
    "1 & 1 & 1  \n",
    "\\end{pmatrix}\n",
    "$$\n",
    "$針對(3,3)格子$\n",
    "$$\n",
    "B-(3,3)=\n",
    "\\begin{pmatrix}\n",
    "0 & 0 & 0  \\\\\n",
    "1 & 0 & 0  \\\\\n",
    "1 & 1 & 0  \n",
    "\\end{pmatrix}\n",
    "B(3,3)=\n",
    "\\begin{pmatrix}\n",
    "0 & 0   \\\\\n",
    "1 & 0  \n",
    "\\end{pmatrix}\n",
    "$$\n",
    "可得到$R_B(x) = R_{B-(3,3)}(x) + x R_{B(3,3)}(x)=(1 + 3 x + 1 x^2 )+x\\times(1 + 1 x)=1 + 4 x + 2 x^2 $\n"
   ]
  },
  {
   "cell_type": "markdown",
   "metadata": {},
   "source": [
    "##### Explanation\n",
    "for $n$x$n$ board \n",
    "\n",
    "$B_{m,n}$ = \n",
    "$$\n",
    "\\begin{pmatrix}\n",
    "  b_{11} & b_{12} & \\cdots & b_{1n} \\\\\n",
    "  b_{21} & b_{22} & \\cdots & b_{2n} \\\\\n",
    "  \\vdots  & \\vdots  & \\ddots & \\vdots  \\\\\n",
    "  b_{m1} & b_{m2} & \\cdots & b_{mn} \n",
    "\\end{pmatrix}\n",
    "$$\n",
    "where $b_{ij} = 0\\text{ or }1$ (0: black 1:white)\n",
    "\n",
    "for example : \n",
    "$B_1$=\n",
    "$$\n",
    "\\begin{pmatrix}\n",
    "  0 & 1 & 1 \\\\\n",
    "  1 & 1 & 1 \\\\\n",
    "  1 & 1 & 1  \n",
    "\\end{pmatrix}\n",
    "$$\n",
    "means $b_{11}$ is forbiddened and its rook polynomial is $R_{B_1}(x)=1+8x+14x^2+4x^3$\n",
    "\n",
    "and in \n",
    "$$\n",
    "C=\n",
    "\\begin{pmatrix}\n",
    "1 & 1 & 1 & 0 & 0 & 0 & 0 \\\\\n",
    "0 & 1 & 1 & 0 & 0 & 0 & 0 \\\\\n",
    "0 & 0 & 0 & 1 & 1 & 0 & 0 \\\\\n",
    "0 & 0 & 0 & 0 & 1 & 1 & 1\n",
    "\\end{pmatrix}\n",
    "$$\n",
    "\n",
    "$$\n",
    "C_1=\n",
    "\\begin{pmatrix}\n",
    "1 & 1 & 1  \\\\\n",
    "0 & 1 & 1 \\\\\n",
    "\\end{pmatrix}\n",
    "$$\n",
    "$$\n",
    "C_2=\n",
    "\\begin{pmatrix}\n",
    "1 & 1 & 0 & 0 \\\\\n",
    "0 & 1 & 1 & 1\n",
    "\\end{pmatrix}\n",
    "$$\n",
    "令 $r(C,x)$: rook polynomial,  \n",
    "$r(C_1,x)$, $r(C_2,x)$ 分別表左上及右下角禁區放的方法數,  \n",
    "則 $r(C_1,x) = 1x^0 + 5x^1 + 4x^2$, 其中  \n",
    "$1x^0$ 是表示在此區放 0 個 rook 有 1 種方法  \n",
    "$5x^1$ 是表示在此區放 1 個 rook 有 5 種方法  \n",
    "$4x^2$ 是表示在此區放 2 個 rook 有 4 種方法  \n",
    "同理可以列出 $r(C_2,x) = 1 + 5x + 5x^2$\n",
    "\n",
    "$=>$ \n",
    "$$ \\begin{aligned} r(C,x) &= r(C_1,x)\\times r(C_2,x) \\\\  \n",
    " &=(1 + 5x + 4x^2)\\times(1 + 5x + 5x^2)  \\\\\n",
    " &= 1 + 10x + 34x^2 + 45x^3 + 20x^4  \n",
    " \\end{aligned}$$\n",
    "\n"
   ]
  },
  {
   "cell_type": "markdown",
   "metadata": {},
   "source": [
    "##### Implementation"
   ]
  },
  {
   "cell_type": "code",
   "execution_count": 1,
   "metadata": {},
   "outputs": [
    {
     "name": "stdout",
     "output_type": "stream",
     "text": [
      "This is board(2,2)\n",
      "[(0, 0), (0, 1), (1, 0), (1, 1)]\n"
     ]
    }
   ],
   "source": [
    "### sample code for Rn\n",
    "\n",
    "def rec_board(m,n):\n",
    "    board = []\n",
    "    for i in range(m):\n",
    "        for j in range(n):\n",
    "            board.append((i,j))\n",
    "    return board\n",
    "\n",
    "print \"This is board(2,2)\"\n",
    "print rec_board(2,2)\n",
    "\n",
    "def rook_polynomial(board):\n",
    "    \"\"\"\n",
    "    Input:\n",
    "        board: a list of possible positions\n",
    "    Output:\n",
    "        the rook polynomial of the board\n",
    "    \"\"\"\n",
    "    ### trivial and base cases\n",
    "    if len(board) == 0:\n",
    "        return 1\n",
    "    elif len(board) == 1:\n",
    "        return x + 1\n",
    "    else:\n",
    "        i,j = board[0] ### pick a position\n",
    "        board_minus_ij = copy(board)\n",
    "        ### do something to create board_minus_ij\n",
    "        ### board_minus_ij = board - (i,j)\n",
    "        board_minus_ij.remove((i,j))\n",
    "        \n",
    "        board_ij = [pos for pos in board if pos[0] != i and pos[1] != j]\n",
    "        \n",
    "        #pos去掉i列j行 p[0]代表列,p[1]代表行\n",
    "        \n",
    "        ### previous code:\n",
    "        #board_ij = copy(board)\n",
    "        ### do something to create board_ij \n",
    "        ###\n",
    "        #for pos in board:\n",
    "        #    if pos[0] == i or pos[1] == j:\n",
    "        #        board_ij.remove(pos)\n",
    "        return expand(rook_polynomial(board_minus_ij) + x*rook_polynomial(board_ij))\n",
    "    \n",
    "### This is called recursive programming"
   ]
  },
  {
   "cell_type": "code",
   "execution_count": 2,
   "metadata": {},
   "outputs": [
    {
     "name": "stdout",
     "output_type": "stream",
     "text": [
      "[(0, 0), (0, 1), (0, 2), (1, 0), (1, 1), (1, 2)]\n",
      "6*x^2 + 6*x + 1\n"
     ]
    },
    {
     "data": {
      "text/plain": [
       "13"
      ]
     },
     "execution_count": 2,
     "metadata": {},
     "output_type": "execute_result"
    }
   ],
   "source": [
    "B = rec_board(2,3)\n",
    "print B\n",
    "f = rook_polynomial(B)\n",
    "print f\n",
    "\n",
    "f.subs(x=1)"
   ]
  },
  {
   "cell_type": "markdown",
   "metadata": {},
   "source": [
    "##### Examples"
   ]
  },
  {
   "cell_type": "code",
   "execution_count": 3,
   "metadata": {
    "scrolled": true
   },
   "outputs": [],
   "source": [
    "import random\n",
    "\n",
    "def rec_board(m,n):\n",
    "    board = []\n",
    "    for i in range(m):\n",
    "        for j in range(n):\n",
    "            board.append((i,j))\n",
    "    return board\n",
    "\n",
    "def random_board(m,n):\n",
    "    \"\"\"\n",
    "    Input:\n",
    "        m,n: dimensions of the board\n",
    "        k: number of positions\n",
    "    Output:\n",
    "        a board in the m x n board with k random positions\n",
    "    \"\"\"\n",
    "    k= random.randint(0,N(m*n))\n",
    "    B = rec_board(m,n)\n",
    "    random.shuffle(B)\n",
    "    return B[:k]"
   ]
  },
  {
   "cell_type": "code",
   "execution_count": 4,
   "metadata": {
    "scrolled": true
   },
   "outputs": [
    {
     "name": "stdout",
     "output_type": "stream",
     "text": [
      "[(1, 3), (4, 2), (1, 0), (2, 2), (2, 0), (0, 0), (3, 1), (4, 1), (3, 0), (1, 1), (2, 1), (2, 3), (3, 2), (4, 4), (3, 4), (1, 4), (3, 3)]\n"
     ]
    }
   ],
   "source": [
    "A=random_board(5,5)\n",
    "print A"
   ]
  },
  {
   "cell_type": "code",
   "execution_count": 5,
   "metadata": {},
   "outputs": [
    {
     "name": "stdout",
     "output_type": "stream",
     "text": [
      "11*x^5 + 103*x^4 + 172*x^3 + 90*x^2 + 17*x + 1\n"
     ]
    }
   ],
   "source": [
    "g=rook_polynomial(A)\n",
    "print g "
   ]
  },
  {
   "cell_type": "code",
   "execution_count": 6,
   "metadata": {
    "scrolled": true
   },
   "outputs": [
    {
     "data": {
      "text/plain": [
       "394"
      ]
     },
     "execution_count": 6,
     "metadata": {},
     "output_type": "execute_result"
    }
   ],
   "source": [
    "g.subs(x=1) \n",
    "##可能的種數"
   ]
  },
  {
   "cell_type": "markdown",
   "metadata": {},
   "source": [
    "#### 參考的式子與資料"
   ]
  },
  {
   "cell_type": "markdown",
   "metadata": {},
   "source": [
    "Jephien:  Here are some hint for general board.  \n",
    "Let $B$ be a board (a set of grid points).  \n",
    "Suppose $(i,j)$ is a point in $B$.  \n",
    "Let $B-(i,j)$ be the board obtained from $B$ by removing the point $(i,j)$.  \n",
    "Let $B(i,j)$ be the board obtained from $B$ by removing the $i$-th row and the $j$-th column.  \n",
    "Then $R_B(x) = R_{B-(i,j)}(x) + x R_{B(i,j)}(x)$.  \n",
    "(This is my thought, you may check if that is correct.)"
   ]
  },
  {
   "cell_type": "code",
   "execution_count": 7,
   "metadata": {},
   "outputs": [
    {
     "name": "stdout",
     "output_type": "stream",
     "text": [
      "[(0, 0), (0, 1), (0, 2), (0, 3), (1, 0), (1, 1), (1, 2), (1, 3)]\n",
      "8\n",
      "(1, 1)\n"
     ]
    },
    {
     "data": {
      "text/plain": [
       "[(0, 0), (0, 1), (0, 2), (1, 0), (1, 1), (1, 2), (1, 3)]"
      ]
     },
     "execution_count": 7,
     "metadata": {},
     "output_type": "execute_result"
    }
   ],
   "source": [
    "def rec_board(m,n):\n",
    "    board = []\n",
    "    for i in range(m):\n",
    "        for j in range(n):\n",
    "            board.append((i,j))\n",
    "    return board\n",
    "\n",
    "#print \"This is board(2,2)\"\n",
    "B = rec_board(2,4)\n",
    "print B\n",
    "print len(B)\n",
    "print B[5]\n",
    "B.remove(B[3])\n",
    "B"
   ]
  },
  {
   "cell_type": "code",
   "execution_count": 8,
   "metadata": {},
   "outputs": [
    {
     "name": "stdout",
     "output_type": "stream",
     "text": [
      "[1, 2, 3]\n",
      "[5, 2, 3]\n",
      "[5, 2, 3]\n"
     ]
    }
   ],
   "source": [
    "a = [1,2,3]\n",
    "b = a\n",
    "\n",
    "print a\n",
    "b[0] = 5\n",
    "\n",
    "print a\n",
    "print b"
   ]
  },
  {
   "cell_type": "code",
   "execution_count": 9,
   "metadata": {},
   "outputs": [
    {
     "name": "stdout",
     "output_type": "stream",
     "text": [
      "[1, 2, 3]\n",
      "[1, 2, 3]\n",
      "[5, 2, 3]\n"
     ]
    }
   ],
   "source": [
    "a = [1,2,3]\n",
    "b = copy(a)\n",
    "\n",
    "print a\n",
    "b[0] = 5\n",
    "\n",
    "print a\n",
    "print b"
   ]
  },
  {
   "cell_type": "code",
   "execution_count": 10,
   "metadata": {},
   "outputs": [
    {
     "name": "stdout",
     "output_type": "stream",
     "text": [
      "(x + 4)*(x + 1)\n"
     ]
    }
   ],
   "source": [
    "f = (x+1) * (x+4)\n",
    "print f"
   ]
  },
  {
   "cell_type": "code",
   "execution_count": 11,
   "metadata": {},
   "outputs": [
    {
     "name": "stdout",
     "output_type": "stream",
     "text": [
      "x^2 + 5*x + 4\n"
     ]
    }
   ],
   "source": [
    "print expand(f)"
   ]
  },
  {
   "cell_type": "code",
   "execution_count": 12,
   "metadata": {},
   "outputs": [
    {
     "data": {
      "text/plain": [
       "385"
      ]
     },
     "execution_count": 12,
     "metadata": {},
     "output_type": "execute_result"
    }
   ],
   "source": [
    "sum([k^2 for k in range(1,11)])"
   ]
  },
  {
   "cell_type": "code",
   "execution_count": 13,
   "metadata": {},
   "outputs": [
    {
     "data": {
      "text/plain": [
       "9455"
      ]
     },
     "execution_count": 13,
     "metadata": {},
     "output_type": "execute_result"
    }
   ],
   "source": [
    "n = 30\n",
    "sum([k^2 for k in range(1,n+1)])"
   ]
  },
  {
   "cell_type": "code",
   "execution_count": null,
   "metadata": {},
   "outputs": [],
   "source": []
  }
 ],
 "metadata": {
  "kernelspec": {
   "display_name": "SageMath 8.1",
   "language": "",
   "name": "sagemath"
  },
  "language_info": {
   "codemirror_mode": {
    "name": "ipython",
    "version": 2
   },
   "file_extension": ".py",
   "mimetype": "text/x-python",
   "name": "python",
   "nbconvert_exporter": "python",
   "pygments_lexer": "ipython2",
   "version": "2.7.15rc1"
  }
 },
 "nbformat": 4,
 "nbformat_minor": 1
}
