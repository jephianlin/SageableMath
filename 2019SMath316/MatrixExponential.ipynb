{
 "cells": [
  {
   "cell_type": "markdown",
   "metadata": {},
   "source": [
    "# Matrix exponential"
   ]
  },
  {
   "cell_type": "markdown",
   "metadata": {},
   "source": [
    "<a rel=\"license\" href=\"http://creativecommons.org/licenses/by/4.0/\"><img alt=\"Creative Commons License\" style=\"border-width:0\" src=\"https://i.creativecommons.org/l/by/4.0/88x31.png\" /></a><br />This work by <span xmlns:cc=\"http://creativecommons.org/ns#\" property=\"cc:attributionName\"> 林崇文 </span> is licensed under a <a rel=\"license\" href=\"http://creativecommons.org/licenses/by/4.0/\">Creative Commons Attribution 4.0 International License</a>.\n"
   ]
  },
  {
   "cell_type": "markdown",
   "metadata": {},
   "source": [
    "##### Overview\n",
    "\n",
    "我們的目標是寫出一個函數，然後在人們輸入一個矩陣 $A$ 以及一個  \n",
    "正整數 $N$ 的情況下，使得我們的函數最終能夠輸出一個泰勒級數的  \n",
    "前 $N$ 項和"
   ]
  },
  {
   "cell_type": "markdown",
   "metadata": {},
   "source": [
    "##### Algorithm\n",
    "\n",
    "1. Create an $n\\times n$ matrix \n",
    "$A=\\begin{bmatrix}\n",
    "x_{11} & \\cdots & x_{n1} \\\\\n",
    "\\vdots & \\ddots & \\vdots \\\\\n",
    "x_{1n} & \\cdots & x_{nn} \n",
    "\\end{bmatrix}$ \n",
    "and input an integer $N$.  \n",
    "2. Then compute $A^k$ for $k = 0,\\ldots,N$ and also add the term $\\frac{1}{k!}A^k$   \n",
    "to the current total.  "
   ]
  },
  {
   "cell_type": "markdown",
   "metadata": {},
   "source": [
    "##### Explanation\n",
    "目標是想找到矩陣的指數 $e^A$ 運算過後出來所得的值\n",
    "\n",
    "對於 $n \\times n$ 階矩陣 $A$，我們可以定義矩陣指數 (matrix exponential)，方法是仿照指數函數的冪級數定義，如下的常數指數：\n",
    "\n",
    "> $e^x = 1 + x + \\frac{x^2}{2!} + \\frac{x^3}{3!} + \\cdots$\n",
    "\n",
    "將變數 $x$ 以矩陣 $A$ 取代，常數 $1$ 以單位矩陣 $I$ 取代，矩陣指數 $e^A$ 即為下列冪矩陣級數\n",
    "\n",
    "> $e^A = I + A + \\frac{A^2}{2!} + \\frac{A^3}{3!} + \\cdots$\n",
    "\n",
    "對於任一 $x$，指數函數 $e^x$ 總會收斂；同樣地，對於任一 $A$，矩陣指數 $e^A$ 也總會收斂。證明於下，令：\n",
    "\n",
    "> $e_m(A) = \\sum_{k=0}^{m}\\frac{A^k}{k!}$\n",
    "\n",
    "若 $m > p$ ，則\n",
    "\n",
    "> $e_m(A) - e_p(A) = \\sum_{k=0}^{m}\\frac{A^k}{k!} - \\sum_{k=0}^{p}\\frac{A^k}{k!} =  \\sum_{k=p+1}^{m}\\frac{A^k}{k!}$\n",
    "\n",
    "使用矩陣範數的不等式性質，\n",
    "\n",
    ">$\\|e_m(A) - e_p(A)\\| \\leq \\sum_{k=p+1}^{m}\\frac{\\|A\\|^k}{k!}$\n",
    "\n",
    "上式將問題帶回純量的情況。當 $m$ 和 $p$ 同趨於無窮大，不等式右邊趨於零。"
   ]
  },
  {
   "cell_type": "markdown",
   "metadata": {},
   "source": [
    "##### Implementation"
   ]
  },
  {
   "cell_type": "code",
   "execution_count": 1,
   "metadata": {},
   "outputs": [],
   "source": [
    "def matrix_exponential(A, N):\n",
    "\n",
    "    n = A.dimensions()[0]\n",
    "    current = identity_matrix(n)\n",
    "    extra = A\n",
    "\n",
    "    for p in range(1,N+1):\n",
    "        current = current + extra\n",
    "        extra = extra * A / (p+1)\n",
    "\n",
    "    return current"
   ]
  },
  {
   "cell_type": "code",
   "execution_count": 2,
   "metadata": {},
   "outputs": [
    {
     "data": {
      "text/plain": [
       "[2757.73213796075 3830.83971400187 5148.75408439439 1196.01097321682]\n",
       "[3970.57351849152 5518.37372994342 7414.96317963041 1722.19483056945]\n",
       "[5184.41489902228 7203.90774588497 9682.17227486642 2248.37868792207]\n",
       "[809.560920353845 1123.68934396104 1511.13939682401 351.789238235083]"
      ]
     },
     "execution_count": 2,
     "metadata": {},
     "output_type": "execute_result"
    }
   ],
   "source": [
    "### 輸入一個矩陣 A\n",
    "\n",
    "A = matrix([\n",
    "    [1,2,3,1],\n",
    "    [2,3,4,1],\n",
    "    [3,4,5,1],\n",
    "    [1,0,1,0]\n",
    "])\n",
    "\n",
    "N(matrix_exponential(A,100))"
   ]
  },
  {
   "cell_type": "markdown",
   "metadata": {},
   "source": [
    "##### Examples"
   ]
  },
  {
   "cell_type": "code",
   "execution_count": 3,
   "metadata": {},
   "outputs": [
    {
     "name": "stdout",
     "output_type": "stream",
     "text": [
      " when A =\n",
      "[1 0 0]\n",
      "[0 1 0]\n",
      "[0 0 1]\n",
      "the exponential of A in Taylor 0 is\n",
      "[1 0 0]\n",
      "[0 1 0]\n",
      "[0 0 1]\n"
     ]
    }
   ],
   "source": [
    "### Example 1\n",
    "def matrix_exponential(A, N):\n",
    "\n",
    "    n = A.dimensions()[0]\n",
    "    current = identity_matrix(n)\n",
    "    extra = A\n",
    "\n",
    "    for p in range(1,N+1):\n",
    "        current = current + extra\n",
    "        extra = extra * A / (p+1)\n",
    "\n",
    "    return current\n",
    "\n",
    "A = matrix([\n",
    "    [1,0,0],\n",
    "    [0,1,0],\n",
    "    [0,0,1]\n",
    "])\n",
    "print' when A ='\n",
    "print A\n",
    "print 'the exponential of A in Taylor 0 is'\n",
    "print matrix_exponential(A,0)"
   ]
  },
  {
   "cell_type": "code",
   "execution_count": 4,
   "metadata": {},
   "outputs": [
    {
     "name": "stdout",
     "output_type": "stream",
     "text": [
      " when A =\n",
      "[1 0 0 0]\n",
      "[0 1 0 0]\n",
      "[0 0 1 0]\n",
      "[0 0 0 1]\n",
      "the exponential of A in Taylor 4 is\n",
      "[65/24     0     0     0]\n",
      "[    0 65/24     0     0]\n",
      "[    0     0 65/24     0]\n",
      "[    0     0     0 65/24]\n"
     ]
    }
   ],
   "source": [
    "### Example 2\n",
    "def matrix_exponential(A, N):\n",
    "\n",
    "    n = A.dimensions()[0]\n",
    "    current = identity_matrix(n)\n",
    "    extra = A\n",
    "\n",
    "    for p in range(1,N+1):\n",
    "        current = current + extra\n",
    "        extra = extra * A / (p+1)\n",
    "\n",
    "    return current\n",
    "\n",
    "A = matrix([\n",
    "    [1,0,0,0],\n",
    "    [0,1,0,0],\n",
    "    [0,0,1,0],\n",
    "    [0,0,0,1]\n",
    "])\n",
    "\n",
    "print' when A ='\n",
    "print A\n",
    "print 'the exponential of A in Taylor 4 is'\n",
    "print matrix_exponential(A,4)"
   ]
  },
  {
   "cell_type": "code",
   "execution_count": 5,
   "metadata": {},
   "outputs": [
    {
     "name": "stdout",
     "output_type": "stream",
     "text": [
      " when A =\n",
      "[1 1 1 1]\n",
      "[1 1 1 1]\n",
      "[1 1 1 1]\n",
      "[1 1 1 1]\n",
      "the exponential of A in Taylor 1 is\n",
      "[2 1 1 1]\n",
      "[1 2 1 1]\n",
      "[1 1 2 1]\n",
      "[1 1 1 2]\n"
     ]
    }
   ],
   "source": [
    "### Example 3\n",
    "def matrix_exponential(A, N):\n",
    "\n",
    "    n = A.dimensions()[0]\n",
    "    current = identity_matrix(n)\n",
    "    extra = A\n",
    "\n",
    "    for p in range(1,N+1):\n",
    "        current = current + extra\n",
    "        extra = extra * A / (p+1)\n",
    "\n",
    "    return current\n",
    "\n",
    "A = matrix([\n",
    "    [1,1,1,1],\n",
    "    [1,1,1,1],\n",
    "    [1,1,1,1],\n",
    "    [1,1,1,1]\n",
    "])\n",
    "print' when A ='\n",
    "print A\n",
    "print 'the exponential of A in Taylor 1 is'\n",
    "print matrix_exponential(A,1)"
   ]
  },
  {
   "cell_type": "code",
   "execution_count": 6,
   "metadata": {
    "scrolled": true
   },
   "outputs": [
    {
     "name": "stdout",
     "output_type": "stream",
     "text": [
      " when A =\n",
      "[1 0 0 0]\n",
      "[0 0 0 0]\n",
      "[0 0 0 1]\n",
      "[0 0 0 0]\n",
      "the exponential of A in Taylor 5 is\n",
      "[163/60      0      0      0]\n",
      "[     0      1      0      0]\n",
      "[     0      0      1      1]\n",
      "[     0      0      0      1]\n"
     ]
    }
   ],
   "source": [
    "### Example 4\n",
    "def matrix_exponential(A, N):\n",
    "\n",
    "    n = A.dimensions()[0]\n",
    "    current = identity_matrix(n)\n",
    "    extra = A\n",
    "\n",
    "    for p in range(1,N+1):\n",
    "        current = current + extra\n",
    "        extra = extra * A / (p+1)\n",
    "\n",
    "    return current\n",
    "\n",
    "A = matrix([\n",
    "    [1,0,0,0],\n",
    "    [0,0,0,0],\n",
    "    [0,0,0,1],\n",
    "    [0,0,0,0]\n",
    "])\n",
    "print' when A ='\n",
    "print A\n",
    "print 'the exponential of A in Taylor 5 is'\n",
    "print matrix_exponential(A,5)"
   ]
  },
  {
   "cell_type": "code",
   "execution_count": 7,
   "metadata": {},
   "outputs": [
    {
     "name": "stdout",
     "output_type": "stream",
     "text": [
      " when A =\n",
      "[1 0 0 0 1]\n",
      "[0 0 0 0 0]\n",
      "[0 0 0 0 0]\n",
      "[0 0 0 0 0]\n",
      "[1 0 0 0 1]\n",
      "the exponential of A in Taylor 10 is\n",
      "[19819/4725          0          0          0 15094/4725]\n",
      "[         0          1          0          0          0]\n",
      "[         0          0          1          0          0]\n",
      "[         0          0          0          1          0]\n",
      "[15094/4725          0          0          0 19819/4725]\n"
     ]
    }
   ],
   "source": [
    "### Example 5\n",
    "def matrix_exponential(A, N):\n",
    "\n",
    "    n = A.dimensions()[0]\n",
    "    current = identity_matrix(n)\n",
    "    extra = A\n",
    "\n",
    "    for p in range(1,N+1):\n",
    "        current = current + extra\n",
    "        extra = extra * A / (p+1)\n",
    "\n",
    "    return current\n",
    "\n",
    "A = matrix([\n",
    "    [1,0,0,0,1],\n",
    "    [0,0,0,0,0],\n",
    "    [0,0,0,0,0],\n",
    "    [0,0,0,0,0],\n",
    "    [1,0,0,0,1]\n",
    "])\n",
    "print' when A ='\n",
    "print A\n",
    "print 'the exponential of A in Taylor 10 is'\n",
    "print matrix_exponential(A,10)"
   ]
  },
  {
   "cell_type": "code",
   "execution_count": null,
   "metadata": {},
   "outputs": [],
   "source": []
  }
 ],
 "metadata": {
  "kernelspec": {
   "display_name": "SageMath 8.1",
   "language": "",
   "name": "sagemath"
  },
  "language_info": {
   "codemirror_mode": {
    "name": "ipython",
    "version": 2
   },
   "file_extension": ".py",
   "mimetype": "text/x-python",
   "name": "python",
   "nbconvert_exporter": "python",
   "pygments_lexer": "ipython2",
   "version": "2.7.15rc1"
  }
 },
 "nbformat": 4,
 "nbformat_minor": 1
}
