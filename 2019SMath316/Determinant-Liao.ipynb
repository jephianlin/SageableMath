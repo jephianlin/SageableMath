{
 "cells": [
  {
   "cell_type": "markdown",
   "metadata": {},
   "source": [
    "# Determinant"
   ]
  },
  {
   "cell_type": "markdown",
   "metadata": {},
   "source": [
    "<a rel=\"license\" href=\"http://creativecommons.org/licenses/by/4.0/\"><img alt=\"Creative Commons License\" style=\"border-width:0\" src=\"https://i.creativecommons.org/l/by/4.0/88x31.png\" /></a><br />This work by <span xmlns:cc=\"http://creativecommons.org/ns#\" property=\"cc:attributionName\">廖紹翔</span> is licensed under a <a rel=\"license\" href=\"http://creativecommons.org/licenses/by/4.0/\">Creative Commons Attribution 4.0 International License</a>."
   ]
  },
  {
   "cell_type": "markdown",
   "metadata": {},
   "source": [
    "##### Overview\n",
    "\n",
    "Give an $n\\times n$ matrix,  \n",
    "we want to calculate the **determinant** of the matrix."
   ]
  },
  {
   "cell_type": "markdown",
   "metadata": {},
   "source": [
    "##### Algorithm\n",
    "1. Given an $n\\times n$  matrix\n",
    "$\\begin{bmatrix}\n",
    " a_{1,1}&a_{1,2} & \\cdots & a_{1,n}\\\\\n",
    " a_{2,1}&a_{2,2} & \\cdots & a_{2,n}\\\\\n",
    " \\vdots & \\vdots & \\ddots & \\vdots \\\\\n",
    " a_{n,1}&a_{n,2} & \\cdots & a_{n,n}\\\\\n",
    "\\end{bmatrix}\n",
    "$\n",
    "2. Do row operations to change the matrix into an upper triangular matrix.\n",
    "3. And times all diagonal element then we get the determinant of the matrix.\n",
    "\n",
    "\n"
   ]
  },
  {
   "cell_type": "markdown",
   "metadata": {},
   "source": [
    "##### Explanation\n",
    "The goal is to calculate the determinant of the $n \\times n$ matrix.\n",
    "\n",
    "> $\\begin{bmatrix}\n",
    " a_{1,1}&a_{1,2} & \\cdots & a_{1,n}\\\\\n",
    " a_{2,1}&a_{2,2} & \\cdots & a_{2,n}\\\\\n",
    " \\vdots & \\vdots & \\ddots & \\vdots \\\\\n",
    " a_{n,1}&a_{n,2} & \\cdots & a_{n,n}\\\\\n",
    "\\end{bmatrix}$\n",
    "\n",
    "First we add $-\\frac{a_{i,1}}{a_{1,1}}\\times\\begin{bmatrix}\n",
    "a_{1,1}&a_{1,2} & \\cdots & a_{1,n}\n",
    "\\end{bmatrix}\n",
    "$ to the $i$ row for $i = 2,3,\\cdots,n-1,n$. \n",
    "Now we have\n",
    ">$\\begin{bmatrix}\n",
    " a_{1,1}&a_{1,2} & \\cdots & a_{1,n}\\\\\n",
    " 0&a_{2,2}-\\frac{a_{2,1}}{a_{1,1}}\\times a_{1,2} & \\cdots & a_{2,n}-\\frac{a_{2,1}}{a_{1,1}}\\times a_{1,n}\\\\\n",
    " \\vdots & \\vdots & \\ddots & \\vdots \\\\\n",
    " 0&a_{n,2}-\\frac{a_{n,1}}{a_{1,1}}\\times a_{1,2} & \\cdots & a_{n,n}-\\frac{a_{n,1}}{a_{1,1}}\\times a_{1,n}\\\\\n",
    "\\end{bmatrix}$\n",
    "\n",
    "將該矩陣去除第一行及第一列後存成一個新方陣，使用迴圈做相同運算。"
   ]
  },
  {
   "cell_type": "markdown",
   "metadata": {},
   "source": [
    "##### Example for 3*3 matrix"
   ]
  },
  {
   "cell_type": "code",
   "execution_count": 1,
   "metadata": {},
   "outputs": [
    {
     "name": "stdout",
     "output_type": "stream",
     "text": [
      "the determinant of M is\n"
     ]
    },
    {
     "data": {
      "text/html": [
       "<html><script type=\"math/tex; mode=display\">\\newcommand{\\Bold}[1]{\\mathbf{#1}}-79</script></html>"
      ],
      "text/plain": [
       "-79"
      ]
     },
     "metadata": {},
     "output_type": "display_data"
    }
   ],
   "source": [
    "A = matrix(QQ, [\n",
    "        [1,7,5],\n",
    "        [5,6,7],\n",
    "        [5,0,6]\n",
    "    ])\n",
    "A[1,:] +=  -A[1,0]/A[0,0] * A[0,:]\n",
    "A[2,:] +=  -A[2,0]/A[0,0] * A[0,:]\n",
    "b = A[0,0]\n",
    "B = A[1:3,1:3]\n",
    "B[1,:] +=  -B[1,0]/B[0,0] * B[0,:]\n",
    "b = b*B[0,0]\n",
    "C = B[1:2,1:2]\n",
    "b = b*C[0,0]\n",
    "print(\"the determinant of M is\")\n",
    "show(b)"
   ]
  },
  {
   "cell_type": "markdown",
   "metadata": {},
   "source": [
    "##### Here you can try my determinant calculator"
   ]
  },
  {
   "cell_type": "code",
   "execution_count": 2,
   "metadata": {},
   "outputs": [
    {
     "name": "stdout",
     "output_type": "stream",
     "text": [
      "the determinant of M is\n"
     ]
    },
    {
     "data": {
      "text/html": [
       "<html><script type=\"math/tex; mode=display\">\\newcommand{\\Bold}[1]{\\mathbf{#1}}-79</script></html>"
      ],
      "text/plain": [
       "-79"
      ]
     },
     "metadata": {},
     "output_type": "display_data"
    }
   ],
   "source": [
    "##Enter a n*n matrix M\n",
    "M = matrix(QQ, [\n",
    "        [1,7,5],\n",
    "        [5,6,7],\n",
    "        [5,0,6]\n",
    "    ])\n",
    "\n",
    "#Below are my codes.\n",
    "m,n = M.dimensions()\n",
    "a = 1\n",
    "c = 0\n",
    "for i in range(1,m):\n",
    "    if M[0,0]==0:\n",
    "        c = c+1\n",
    "        K=M[0,:]\n",
    "        M[0,:]=M[i,:]\n",
    "        M[i,:]=K;\n",
    "    if M[0,0]!=0:\n",
    "        break;\n",
    "if M[0,0]==0:\n",
    "    a=0;\n",
    "if M[0,0]!=0:\n",
    "    for i in range(m):\n",
    "        if m-i>1:\n",
    "            a = a*M[0,0];\n",
    "            for j in range(m-i-1):\n",
    "                if j==m-i-2:\n",
    "                    M[j+1,:] +=  -M[j+1,0]/M[0,0] * M[0,:]\n",
    "                    M = M[1:m-i,1:m-i];\n",
    "                if j!=m-i-2:\n",
    "                    M[j+1,:] +=  -M[j+1,0]/M[0,0] * M[0,:];\n",
    "        if m-i<=1:\n",
    "            a = a*M[0,0];\n",
    "print(\"the determinant of M is\")\n",
    "if a==0:\n",
    "    show(a)\n",
    "if a!=0:\n",
    "    if c%2!=0:\n",
    "        show(-a)\n",
    "    if c%2==0:\n",
    "        show(a)"
   ]
  },
  {
   "cell_type": "code",
   "execution_count": 3,
   "metadata": {},
   "outputs": [],
   "source": [
    "### Jephian:  Let's make it a function for convenience.\n",
    "\n",
    "def matrix_determinant(M):\n",
    "    #Below is your code.\n",
    "    m,n = M.dimensions()\n",
    "    a = 1\n",
    "    c = 0\n",
    "    for i in range(1,m):\n",
    "        if M[0,0]==0:\n",
    "            c = c+1\n",
    "            K=M[0,:]\n",
    "            M[0,:]=M[i,:]\n",
    "            M[i,:]=K;\n",
    "        if M[0,0]!=0:\n",
    "            break;\n",
    "    if M[0,0]==0:\n",
    "        a=0;\n",
    "    if M[0,0]!=0:\n",
    "        for i in range(m):\n",
    "            if m-i>1:\n",
    "                a = a*M[0,0];\n",
    "                for j in range(m-i-1):\n",
    "                    if j==m-i-2:\n",
    "                        M[j+1,:] +=  -M[j+1,0]/M[0,0] * M[0,:]\n",
    "                        M = M[1:m-i,1:m-i];\n",
    "                    if j!=m-i-2:\n",
    "                        M[j+1,:] +=  -M[j+1,0]/M[0,0] * M[0,:];\n",
    "            if m-i<=1:\n",
    "                a = a*M[0,0];\n",
    "    print(\"the determinant of M is\")\n",
    "    if a==0:\n",
    "        show(a)\n",
    "    if a!=0:\n",
    "        if c%2!=0:\n",
    "            show(-a)\n",
    "        if c%2==0:\n",
    "            show(a)"
   ]
  },
  {
   "cell_type": "code",
   "execution_count": 4,
   "metadata": {},
   "outputs": [
    {
     "name": "stdout",
     "output_type": "stream",
     "text": [
      "the determinant of M is\n"
     ]
    },
    {
     "data": {
      "text/html": [
       "<html><script type=\"math/tex; mode=display\">\\newcommand{\\Bold}[1]{\\mathbf{#1}}18</script></html>"
      ],
      "text/plain": [
       "18"
      ]
     },
     "metadata": {},
     "output_type": "display_data"
    },
    {
     "name": "stdout",
     "output_type": "stream",
     "text": [
      "sage answer: -18\n"
     ]
    }
   ],
   "source": [
    "M = matrix(QQ, [\n",
    "    [0,2,3],\n",
    "    [3,5,6],\n",
    "    [0,8,9]\n",
    "])\n",
    "\n",
    "matrix_determinant(M)\n",
    "\n",
    "print 'sage answer:', M.determinant()"
   ]
  },
  {
   "cell_type": "code",
   "execution_count": 0,
   "metadata": {},
   "outputs": [],
   "source": []
  }
 ],
 "metadata": {
  "kernelspec": {
   "display_name": "SageMath 8.1",
   "language": "",
   "name": "sagemath"
  },
  "language_info": {
   "codemirror_mode": {
    "name": "ipython",
    "version": 2
   },
   "file_extension": ".py",
   "mimetype": "text/x-python",
   "name": "python",
   "nbconvert_exporter": "python",
   "pygments_lexer": "ipython2",
   "version": "2.7.15rc1"
  }
 },
 "nbformat": 4,
 "nbformat_minor": 1
}
