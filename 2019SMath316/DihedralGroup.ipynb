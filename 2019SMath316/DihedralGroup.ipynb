{
 "cells": [
  {
   "cell_type": "markdown",
   "metadata": {},
   "source": [
    "# Dihedral Group"
   ]
  },
  {
   "cell_type": "markdown",
   "metadata": {},
   "source": [
    "![Creative Commons License](https://i.creativecommons.org/l/by/4.0/88x31.png)  \n",
    "\n",
    "This work by YuHsiang Tai is licensed under a [Creative Commons Attribution 4.0 International License](http://creativecommons.org/licenses/by/4.0/)."
   ]
  },
  {
   "cell_type": "markdown",
   "metadata": {},
   "source": [
    "##### Overview\n",
    "Before definding the dihedral group $ \\mathbf{D}_n $ of order $ n, $ we explain some terminology that will be used in the definition of dihedral group. From now on we assume that the verties of regular $ n $ polygon are labeled counterclockwie with $ 1, 2, _{\\dots}, n $ and denote $ v_i $ as the vertex labeled with $ i. $ If $ n $ is odd, we call the line connecting $ v_i $ and the midpoint of $ v_{i+\\frac{n-1}{2}}, v_{i+\\frac{n+1}{2}} $ the $ i $-th symmetry axis of this polygon ($ 1 \\leq i \\leq n $). If $ n $ is even, we call the line connecting $ v_i $ and $ v_{i+\\frac{n}{2}} $ the $ 2i-1 $-th symmetry axis and call the line connecting the midpoint of $ v_i, v_{i+1} $ and the midpoint of $ v_{i+\\frac{n}{2}}, v_{i+\\frac{n+2}{2}} $ the $ 2i $-th symmetry axis ($1 \\leq i \\leq \\frac{n}{2}$) (all subscripts are taken modulo $ n $).\n",
    "\n",
    "\n",
    "Definition of $ \\mathbf{D}_n $ : A regular polygon with $ n $ sides has $ 2n $ different symmetries; i.e., $ n $ rotational symmetries and $ n $ reflection symmetries. Denote $ r_i $ as the counterclockwise rotation by $ \\frac{2i\\pi}{n} $ and $ s_i $ as the reflection through the $ i $-th symmetry axis ($1\\leq i \\leq n$). These $ 2n $ symmetries form a group with operation the composition of symmetries (written in addition), this group is called the dihedral group $ \\mathbf{D}_n $ of order $ n. $\n",
    "\n",
    "\n",
    "This program creates the Dihedral group elements in Sage."
   ]
  },
  {
   "cell_type": "markdown",
   "metadata": {},
   "source": [
    "P.S. 以下用 $ (i,0,n), (0,j,n) $ 分別表示 $ \\mathbf{D}_n $ 中的元素 $ r_i, s_j, $ 其中 $ 1\\leq i,j \\leq n. $"
   ]
  },
  {
   "cell_type": "markdown",
   "metadata": {},
   "source": [
    "##### Explanation  \n",
    "\n",
    "Some facts used in my program :\n",
    "\n",
    "1. $ r_i + r_j = r_{i+j}$,   \n",
    "   $r_i + s_j = s_{i+j}$,  \n",
    "   $s_i + r_j = s_{i-j}$,  \n",
    "   $s_i + s_j = r_{i-j} $  \n",
    "   (all subscripts are taken modulo $ n $).\n",
    "\n",
    "\n",
    "2. To check whether a subset $ S $ of a group $ (G,+) $ is a subgroup or not, it suffices to test $ a-b \\in S $ for every $ a, b \\in S$ and $S\\neq\\emptyset$.\n",
    "\n",
    "\n",
    "3. To check whether a subgroup $ T $ of a group $ (G,+) $ is normal or not, it suffices to test $ b+a-b \\in T $ for every $ a \\in T, b \\in G$ and $S\\neq\\emptyset$."
   ]
  },
  {
   "cell_type": "markdown",
   "metadata": {},
   "source": [
    "##### Implementation"
   ]
  },
  {
   "cell_type": "code",
   "execution_count": 1,
   "metadata": {},
   "outputs": [],
   "source": [
    "class Dihedraln:\n",
    "    def __init__(self,a,b,n):\n",
    "        self.r = a\n",
    "        self.s = b\n",
    "        self.size = n\n",
    "    \n",
    "    def __str__(self):\n",
    "        return 'element (r,s)=%s in Dihedraln group of order 2 * %s'%((self.r,self.s), self.size)\n",
    "\n",
    "    def __repr__(self):\n",
    "        return 'element (r,s)=%s in Dihedraln group of order 2 * %s'%((self.r,self.s), self.size)\n",
    "    \n",
    "    def __add__(self, other):\n",
    "        if self.size != other.size:\n",
    "            raise TypeError, 'Two elements are in different group'\n",
    "        else:\n",
    "            size = self.size\n",
    "            if self.s==0 and other.s==0:\n",
    "                if (self.r+other.r)%size==0:\n",
    "                    return Dihedraln(size,0,size)\n",
    "                else:\n",
    "                    return Dihedraln((self.r+other.r)%size,0,size)\n",
    "            elif self.r==0 and other.r==0:\n",
    "                if (self.s-other.s)%size==0:\n",
    "                    return Dihedraln(size,0,size)\n",
    "                else:\n",
    "                    return Dihedraln((self.s-other.s)%size,0,size)\n",
    "            elif self.s==0 and other.r==0:\n",
    "                if (self.r+other.s)%size==0:\n",
    "                    return Dihedraln(0,size,size)\n",
    "                else:\n",
    "                    return Dihedraln(0,(self.r+other.s)%size,size)\n",
    "            else:\n",
    "                if (self.s-other.r)%size==0:\n",
    "                    return Dihedraln(0,size,size)\n",
    "                else:\n",
    "                    return Dihedraln(0,(self.s-other.r)%size,size)\n",
    "    \n",
    "    def __eq__(self, other):\n",
    "        return self.r == other.r and self.s == other.s and self.size == other.size\n",
    "\n",
    "    def inverse(self):\n",
    "        size = self.size\n",
    "        if self.r==0:\n",
    "            return self\n",
    "        else:\n",
    "            return Dihedraln(size-(self.r)%size,0,size)"
   ]
  },
  {
   "cell_type": "code",
   "execution_count": 2,
   "metadata": {},
   "outputs": [],
   "source": [
    "def subgroupchecker(w):\n",
    "    if w==[]:\n",
    "        return False\n",
    "    else:\n",
    "        for p in w:\n",
    "            for q in w:\n",
    "                if p+q.inverse() not in w:\n",
    "                    return False\n",
    "    return True"
   ]
  },
  {
   "cell_type": "code",
   "execution_count": 3,
   "metadata": {},
   "outputs": [],
   "source": [
    "def normalchecker(v):\n",
    "    if v==[]:\n",
    "        return False\n",
    "    else:\n",
    "        for p in v:\n",
    "            for i in range(1,p.size+1):\n",
    "                if Dihedraln(i,0,p.size)+p+Dihedraln(i,0,p.size).inverse() not in v:\n",
    "                    return False\n",
    "                if Dihedraln(0,i,p.size)+p+Dihedraln(0,i,p.size).inverse() not in v:\n",
    "                    return False\n",
    "    return True"
   ]
  },
  {
   "cell_type": "markdown",
   "metadata": {},
   "source": [
    "##### Examples"
   ]
  },
  {
   "cell_type": "code",
   "execution_count": 4,
   "metadata": {},
   "outputs": [],
   "source": [
    "n = 4\n",
    "\n",
    "D = [Dihedraln(i,0,n) for i in range(1,n+1)] + [Dihedraln(0,i,n) for i in range(1,n+1)]"
   ]
  },
  {
   "cell_type": "code",
   "execution_count": 5,
   "metadata": {},
   "outputs": [
    {
     "name": "stdout",
     "output_type": "stream",
     "text": [
      "element (r,s)=(1, 0) in Dihedraln group of order 2 * 4\n",
      "element (r,s)=(2, 0) in Dihedraln group of order 2 * 4\n",
      "element (r,s)=(3, 0) in Dihedraln group of order 2 * 4\n",
      "element (r,s)=(4, 0) in Dihedraln group of order 2 * 4\n",
      "element (r,s)=(0, 1) in Dihedraln group of order 2 * 4\n",
      "element (r,s)=(0, 2) in Dihedraln group of order 2 * 4\n",
      "element (r,s)=(0, 3) in Dihedraln group of order 2 * 4\n",
      "element (r,s)=(0, 4) in Dihedraln group of order 2 * 4\n"
     ]
    }
   ],
   "source": [
    "for ele in D:\n",
    "    print ele"
   ]
  },
  {
   "cell_type": "code",
   "execution_count": 6,
   "metadata": {},
   "outputs": [
    {
     "name": "stdout",
     "output_type": "stream",
     "text": [
      "normal subgroup:\n",
      "element (r,s)=(4, 0) in Dihedraln group of order 2 * 4\n",
      "normal subgroup:\n",
      "element (r,s)=(2, 0) in Dihedraln group of order 2 * 4\n",
      "element (r,s)=(4, 0) in Dihedraln group of order 2 * 4\n",
      "subgroup:\n",
      "element (r,s)=(4, 0) in Dihedraln group of order 2 * 4\n",
      "element (r,s)=(0, 1) in Dihedraln group of order 2 * 4\n",
      "subgroup:\n",
      "element (r,s)=(4, 0) in Dihedraln group of order 2 * 4\n",
      "element (r,s)=(0, 2) in Dihedraln group of order 2 * 4\n",
      "subgroup:\n",
      "element (r,s)=(4, 0) in Dihedraln group of order 2 * 4\n",
      "element (r,s)=(0, 3) in Dihedraln group of order 2 * 4\n",
      "subgroup:\n",
      "element (r,s)=(4, 0) in Dihedraln group of order 2 * 4\n",
      "element (r,s)=(0, 4) in Dihedraln group of order 2 * 4\n",
      "normal subgroup:\n",
      "element (r,s)=(1, 0) in Dihedraln group of order 2 * 4\n",
      "element (r,s)=(2, 0) in Dihedraln group of order 2 * 4\n",
      "element (r,s)=(3, 0) in Dihedraln group of order 2 * 4\n",
      "element (r,s)=(4, 0) in Dihedraln group of order 2 * 4\n",
      "normal subgroup:\n",
      "element (r,s)=(2, 0) in Dihedraln group of order 2 * 4\n",
      "element (r,s)=(4, 0) in Dihedraln group of order 2 * 4\n",
      "element (r,s)=(0, 1) in Dihedraln group of order 2 * 4\n",
      "element (r,s)=(0, 3) in Dihedraln group of order 2 * 4\n",
      "normal subgroup:\n",
      "element (r,s)=(2, 0) in Dihedraln group of order 2 * 4\n",
      "element (r,s)=(4, 0) in Dihedraln group of order 2 * 4\n",
      "element (r,s)=(0, 2) in Dihedraln group of order 2 * 4\n",
      "element (r,s)=(0, 4) in Dihedraln group of order 2 * 4\n",
      "normal subgroup:\n",
      "element (r,s)=(1, 0) in Dihedraln group of order 2 * 4\n",
      "element (r,s)=(2, 0) in Dihedraln group of order 2 * 4\n",
      "element (r,s)=(3, 0) in Dihedraln group of order 2 * 4\n",
      "element (r,s)=(4, 0) in Dihedraln group of order 2 * 4\n",
      "element (r,s)=(0, 1) in Dihedraln group of order 2 * 4\n",
      "element (r,s)=(0, 2) in Dihedraln group of order 2 * 4\n",
      "element (r,s)=(0, 3) in Dihedraln group of order 2 * 4\n",
      "element (r,s)=(0, 4) in Dihedraln group of order 2 * 4\n"
     ]
    }
   ],
   "source": [
    "for com in Combinations(D):\n",
    "    if subgroupchecker(com):\n",
    "        if normalchecker(com):\n",
    "            print 'normal subgroup:'\n",
    "        else:\n",
    "            print 'subgroup:'\n",
    "        for ele in com:\n",
    "            print ele"
   ]
  },
  {
   "cell_type": "code",
   "execution_count": 7,
   "metadata": {},
   "outputs": [
    {
     "data": {
      "text/plain": [
       "element (r,s)=(3, 0) in Dihedraln group of order 2 * 7"
      ]
     },
     "execution_count": 7,
     "metadata": {},
     "output_type": "execute_result"
    }
   ],
   "source": [
    "Dihedraln(3,0,7) # r_3 in D_7"
   ]
  },
  {
   "cell_type": "code",
   "execution_count": 8,
   "metadata": {},
   "outputs": [
    {
     "data": {
      "text/plain": [
       "element (r,s)=(0, 5) in Dihedraln group of order 2 * 7"
      ]
     },
     "execution_count": 8,
     "metadata": {},
     "output_type": "execute_result"
    }
   ],
   "source": [
    "Dihedraln(0,5,7) # s_5 in D_7"
   ]
  },
  {
   "cell_type": "code",
   "execution_count": 9,
   "metadata": {},
   "outputs": [
    {
     "data": {
      "text/plain": [
       "element (r,s)=(0, 1) in Dihedraln group of order 2 * 7"
      ]
     },
     "execution_count": 9,
     "metadata": {},
     "output_type": "execute_result"
    }
   ],
   "source": [
    "Dihedraln(3,0,7)+Dihedraln(0,5,7) # r_3 + s_5 in D_7"
   ]
  },
  {
   "cell_type": "code",
   "execution_count": 10,
   "metadata": {},
   "outputs": [
    {
     "data": {
      "text/plain": [
       "False"
      ]
     },
     "execution_count": 10,
     "metadata": {},
     "output_type": "execute_result"
    }
   ],
   "source": [
    "subgroupchecker([Dihedraln(7,0,7),Dihedraln(5,0,7)])# chech whether {r_7, r_5} is a subgroup of D_7 or not"
   ]
  },
  {
   "cell_type": "code",
   "execution_count": 11,
   "metadata": {},
   "outputs": [
    {
     "data": {
      "text/plain": [
       "True"
      ]
     },
     "execution_count": 11,
     "metadata": {},
     "output_type": "execute_result"
    }
   ],
   "source": [
    "subgroupchecker([Dihedraln(7,0,7),Dihedraln(0,1,7)])# chech whether {(7,0), (0,1)} is a subgroup of D_7 or not"
   ]
  },
  {
   "cell_type": "code",
   "execution_count": 12,
   "metadata": {},
   "outputs": [
    {
     "data": {
      "text/plain": [
       "False"
      ]
     },
     "execution_count": 12,
     "metadata": {},
     "output_type": "execute_result"
    }
   ],
   "source": [
    "normalchecker([Dihedraln(7,0,7),Dihedraln(0,1,7)])# chech whether {(7,0), (0,1)} is a normal subgroup of D_7 or not"
   ]
  },
  {
   "cell_type": "code",
   "execution_count": null,
   "metadata": {},
   "outputs": [],
   "source": []
  }
 ],
 "metadata": {
  "kernelspec": {
   "display_name": "SageMath (stable)",
   "language": "sagemath",
   "name": "sagemath"
  },
  "language_info": {
   "codemirror_mode": {
    "name": "ipython",
    "version": 2
   },
   "file_extension": ".py",
   "mimetype": "text/x-python",
   "name": "python",
   "nbconvert_exporter": "python",
   "pygments_lexer": "ipython2",
   "version": "2.7.15"
  }
 },
 "nbformat": 4,
 "nbformat_minor": 1
}
