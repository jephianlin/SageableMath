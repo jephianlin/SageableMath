{
 "cells": [
  {
   "cell_type": "markdown",
   "metadata": {},
   "source": [
    "# Minimal Polynomial"
   ]
  },
  {
   "cell_type": "markdown",
   "metadata": {},
   "source": [
    "<a rel=\"license\" href=\"http://creativecommons.org/licenses/by/4.0/\"><img alt=\"Creative Commons License\" style=\"border-width:0\" src=\"https://i.creativecommons.org/l/by/4.0/88x31.png\" /></a><br />This work by <span xmlns:cc=\"http://creativecommons.org/ns#\" property=\"cc:attributionName\">陳政廷</span> is licensed under a <a rel=\"license\" href=\"http://creativecommons.org/licenses/by/4.0/\">Creative Commons Attribution 4.0 International License</a>."
   ]
  },
  {
   "cell_type": "markdown",
   "metadata": {},
   "source": [
    "### Overview\n",
    "\n",
    "#### **Cayley&ndash;Hamilton定理**:\n",
    "- $A$ 為一個 $n\\times n$ 階矩陣且 $p(t)$ 為 $A$ 的特徵多項式( $p(t)=\\det(A-tI)$ )。將矩陣 $A$ 替換 $t$ 得到的矩陣多項式滿足 $p(A)=O$。\n",
    "\n",
    "#### **最小多項式** $m_A(t)$:\n",
    " 1. 滿足 $p(A)=O$ 的方程式中次數為最小者\n",
    " 2. 最高次項係數為1\n",
    "\n",
    "#### **最小多項式的重要性質**:\n",
    " 1. $A$ 之所有的特徵值 $λ_i$ 皆使 $m_A(λ_i)=0$\n",
    " 2. 若 $p(t)=(t-λ_1)^{m_1}\\times(t-λ_2)^{m_2}\\times\\cdots\\times(t-λ_k)^{m_k},m_{1}+m_{2}+‧‧‧m_{k}=n$  \n",
    " 則 $m_A(t)=(t-λ_1)^{d_1}\\times(t-λ_2)^{d_2}\\times\\cdots\\times(t-λ_k)^{d_k}, 1 \\leq d_i \\leq m_i$, $\\forall i$ \n",
    " 3. $A$ 可對角化 $\\iff$ $m_A(t)=(t-λ_1)\\times(t-λ_2)\\times\\cdots\\times(t-λ_k)$；  i.e 最小多項式沒有重根"
   ]
  },
  {
   "cell_type": "markdown",
   "metadata": {},
   "source": [
    "### Algorithm\n",
    "\n",
    "\n",
    "\n",
    "Computer $I,A,\\ldots,A^{n}$ and flaten them into vectors in $\\mathbb{R}^{n^2}$.  Find the smallest $k$ such that $\\{I,A,\\ldots,A^k\\}$ is dependent.  \n",
    "Suppose $A = \\begin{bmatrix}a_{i,j}\\end{bmatrix}$.  You may flatten them as a vector $f(A) = (a_{1,1},\\ldots, a_{1,n},a_{2,1}\\ldots,a_{n,n})$ in $\\mathbb{R}^{n^2}$  \n",
    "Create a huge matrix $H$ whose columns are $f(I),f(A),\\ldots,f(A^{n-1})$ and do Gaussian elimination on $H$.\n",
    "Find the minimum $k$ such that $\\{f(I),f(A),\\ldots,f(A^k)\\}$ is dependent.  \n",
    "Find coefficients so that $a_kf(A^k)+\\ldots a_0f(I)=0$ and $a_k=1$.  \n",
    "Thus $a_kA^k+\\ldots a_0I=O$ and $m(t)=a_kt^k+\\cdots+a_0$ is the minimal polynomial.\n",
    "\n",
    "\n"
   ]
  },
  {
   "cell_type": "markdown",
   "metadata": {},
   "source": [
    "### Explanation\n",
    "判斷$A_{n\\times n}$是否可對角化\n",
    "\n",
    ">$p(t)=det(A-tI)=(t-λ_1)^{m_1}\\times(t-λ_2)^{m_2}\\times\\cdots\\times(t-λ_k)^{m_k}$ \n",
    "\n",
    "找出$p(t)$的最小多項式$m_A(t)$使得$m_A(A)=0$  \n",
    "如果$m_A(t)$中$(t-λ_i)$的次數皆為1次，則A為可對角化  \n",
    "如果$m_A(t)$中其中一項$(t-λ_i)^k,2\\leq k$，則A為不可對角化\n",
    "\n"
   ]
  },
  {
   "cell_type": "markdown",
   "metadata": {},
   "source": [
    "##### Implementation"
   ]
  },
  {
   "cell_type": "code",
   "execution_count": 1,
   "metadata": {
    "scrolled": true
   },
   "outputs": [],
   "source": [
    "def minimalpolynomial(data):\n",
    "    \"\"\"\n",
    "    Input:\n",
    "        data:  給定一方陣A\n",
    "    Output:\n",
    "        Output 最小多項式 m_A(t) 中沒有重根，則方陣A為可對角化。\n",
    "    \"\"\"\n",
    "    data.change_ring(QQ)\n",
    "    m,n = data.dimensions()\n",
    "    if (m == n):\n",
    "        I = identity_matrix(n)                                     #單位矩陣\n",
    "        flattened_I = [I[i,j] for i in range(m) for j in range(n)] #攤平單位矩陣\n",
    "        flattened_data = [flattened_I] #將I存成[I]\n",
    "   \n",
    "        for k in range(1,m+1):\n",
    "            data_i=data^k\n",
    "            flattened_data_i= [data_i[i,j] for i in range(m) for j in range(n)] #data^k矩陣攤平\n",
    "            flattened_data.append(flattened_data_i) #將矩陣變為[I,data^1,...,data^k]\n",
    "        M = matrix(flattened_data).transpose() \n",
    "        show(M)\n",
    "       \n",
    "        r = M.rank()\n",
    "        sliced_M = M[:,0:r+1]\n",
    "        show(sliced_M)\n",
    "        factor=sliced_M.right_kernel()\n",
    "        show(factor.basis()[0])\n",
    "        A=matrix(factor.basis()[0])\n",
    "        \n",
    "        \n",
    "        \n",
    "        poly=0 \n",
    "        for k in range(0,r+1):    #取出係數將其變為一多項式\n",
    "            item=x^k*A[0,k]\n",
    "            poly+=item\n",
    "        if(A[0,r]<0):             #讓首項系數為1\n",
    "            poly*=-1\n",
    "        return poly\n",
    "           \n",
    "    else:\n",
    "        print'data is not square matrix'\n",
    "\n",
    "def diagonalizable(data):\n",
    "    poly=minimalpolynomial(data)\n",
    "    show(poly)\n",
    "    polyprime=poly.derivative()\n",
    "    show(polyprime)\n",
    "    poly.gcd(polyprime)\n",
    "    show(poly.gcd(polyprime))\n",
    "    if (poly.gcd(polyprime)==1):\n",
    "        print'The square matrix is diagonalizable'   # If p and pprime has common factor other than 1, then p is not square free\n",
    "    else:\n",
    "        print'The square matrix is non-diagonalizable'\n",
    "\n",
    "        \n",
    "        \n"
   ]
  },
  {
   "cell_type": "markdown",
   "metadata": {},
   "source": [
    "##### Examples"
   ]
  },
  {
   "cell_type": "code",
   "execution_count": 2,
   "metadata": {},
   "outputs": [
    {
     "data": {
      "text/html": [
       "<html><script type=\"math/tex; mode=display\">\\newcommand{\\Bold}[1]{\\mathbf{#1}}\\left(\\begin{array}{rrrr}\n",
       "1 & 3 & 10 & 36 \\\\\n",
       "0 & -3 & -18 & -84 \\\\\n",
       "0 & 2 & 12 & 56 \\\\\n",
       "0 & -1 & -6 & -28 \\\\\n",
       "1 & 5 & 22 & 92 \\\\\n",
       "0 & -2 & -12 & -56 \\\\\n",
       "0 & -1 & -6 & -28 \\\\\n",
       "0 & 3 & 18 & 84 \\\\\n",
       "1 & 0 & -8 & -48\n",
       "\\end{array}\\right)</script></html>"
      ],
      "text/plain": [
       "[  1   3  10  36]\n",
       "[  0  -3 -18 -84]\n",
       "[  0   2  12  56]\n",
       "[  0  -1  -6 -28]\n",
       "[  1   5  22  92]\n",
       "[  0  -2 -12 -56]\n",
       "[  0  -1  -6 -28]\n",
       "[  0   3  18  84]\n",
       "[  1   0  -8 -48]"
      ]
     },
     "metadata": {},
     "output_type": "display_data"
    },
    {
     "data": {
      "text/html": [
       "<html><script type=\"math/tex; mode=display\">\\newcommand{\\Bold}[1]{\\mathbf{#1}}\\left(\\begin{array}{rrr}\n",
       "1 & 3 & 10 \\\\\n",
       "0 & -3 & -18 \\\\\n",
       "0 & 2 & 12 \\\\\n",
       "0 & -1 & -6 \\\\\n",
       "1 & 5 & 22 \\\\\n",
       "0 & -2 & -12 \\\\\n",
       "0 & -1 & -6 \\\\\n",
       "0 & 3 & 18 \\\\\n",
       "1 & 0 & -8\n",
       "\\end{array}\\right)</script></html>"
      ],
      "text/plain": [
       "[  1   3  10]\n",
       "[  0  -3 -18]\n",
       "[  0   2  12]\n",
       "[  0  -1  -6]\n",
       "[  1   5  22]\n",
       "[  0  -2 -12]\n",
       "[  0  -1  -6]\n",
       "[  0   3  18]\n",
       "[  1   0  -8]"
      ]
     },
     "metadata": {},
     "output_type": "display_data"
    },
    {
     "data": {
      "text/html": [
       "<html><script type=\"math/tex; mode=display\">\\newcommand{\\Bold}[1]{\\mathbf{#1}}\\left(8,\\,-6,\\,1\\right)</script></html>"
      ],
      "text/plain": [
       "(8, -6, 1)"
      ]
     },
     "metadata": {},
     "output_type": "display_data"
    },
    {
     "data": {
      "text/html": [
       "<html><script type=\"math/tex; mode=display\">\\newcommand{\\Bold}[1]{\\mathbf{#1}}x^{2} - 6 \\, x + 8</script></html>"
      ],
      "text/plain": [
       "x^2 - 6*x + 8"
      ]
     },
     "metadata": {},
     "output_type": "display_data"
    },
    {
     "data": {
      "text/html": [
       "<html><script type=\"math/tex; mode=display\">\\newcommand{\\Bold}[1]{\\mathbf{#1}}2 \\, x - 6</script></html>"
      ],
      "text/plain": [
       "2*x - 6"
      ]
     },
     "metadata": {},
     "output_type": "display_data"
    },
    {
     "data": {
      "text/html": [
       "<html><script type=\"math/tex; mode=display\">\\newcommand{\\Bold}[1]{\\mathbf{#1}}1</script></html>"
      ],
      "text/plain": [
       "1"
      ]
     },
     "metadata": {},
     "output_type": "display_data"
    },
    {
     "name": "stdout",
     "output_type": "stream",
     "text": [
      "The square matrix is diagonalizable\n"
     ]
    }
   ],
   "source": [
    "### diagonalizable\n",
    "data= matrix([[3,-3,2],[-1,5,-2],[-1,3,0]])\n",
    "diagonalizable(data)\n"
   ]
  },
  {
   "cell_type": "code",
   "execution_count": 3,
   "metadata": {
    "scrolled": true
   },
   "outputs": [
    {
     "data": {
      "text/html": [
       "<html><script type=\"math/tex; mode=display\">\\newcommand{\\Bold}[1]{\\mathbf{#1}}\\left(\\begin{array}{rrrrr}\n",
       "1 & 241 & 100765 & 100140337 & 85215895648 \\\\\n",
       "0 & 121 & 111486 & 106373851 & 85047493689 \\\\\n",
       "0 & 403 & 256524 & 153400684 & 119105282037 \\\\\n",
       "0 & 46 & 133905 & 108442063 & 79157034675 \\\\\n",
       "0 & 83 & 122562 & 103291053 & 78342776619 \\\\\n",
       "1 & 174 & 133186 & 101933165 & 77846413204 \\\\\n",
       "0 & 271 & 168613 & 140586233 & 114875619034 \\\\\n",
       "0 & 182 & 131215 & 92764856 & 72658970185 \\\\\n",
       "0 & 31 & 126824 & 105906236 & 77208864533 \\\\\n",
       "0 & 113 & 136987 & 101990395 & 76383908518 \\\\\n",
       "1 & 312 & 144811 & 135994876 & 114441983923 \\\\\n",
       "0 & 229 & 135805 & 89051182 & 71051234020 \\\\\n",
       "0 & 438 & 215563 & 128340085 & 104942141941 \\\\\n",
       "0 & 342 & 177923 & 129898988 & 107422019453 \\\\\n",
       "0 & 19 & 278639 & 224322782 & 159353608592 \\\\\n",
       "1 & 185 & 120968 & 128485295 & 104684956379\n",
       "\\end{array}\\right)</script></html>"
      ],
      "text/plain": [
       "[           1          241       100765    100140337  85215895648]\n",
       "[           0          121       111486    106373851  85047493689]\n",
       "[           0          403       256524    153400684 119105282037]\n",
       "[           0           46       133905    108442063  79157034675]\n",
       "[           0           83       122562    103291053  78342776619]\n",
       "[           1          174       133186    101933165  77846413204]\n",
       "[           0          271       168613    140586233 114875619034]\n",
       "[           0          182       131215     92764856  72658970185]\n",
       "[           0           31       126824    105906236  77208864533]\n",
       "[           0          113       136987    101990395  76383908518]\n",
       "[           1          312       144811    135994876 114441983923]\n",
       "[           0          229       135805     89051182  71051234020]\n",
       "[           0          438       215563    128340085 104942141941]\n",
       "[           0          342       177923    129898988 107422019453]\n",
       "[           0           19       278639    224322782 159353608592]\n",
       "[           1          185       120968    128485295 104684956379]"
      ]
     },
     "metadata": {},
     "output_type": "display_data"
    },
    {
     "data": {
      "text/html": [
       "<html><script type=\"math/tex; mode=display\">\\newcommand{\\Bold}[1]{\\mathbf{#1}}\\left(\\begin{array}{rrrrr}\n",
       "1 & 241 & 100765 & 100140337 & 85215895648 \\\\\n",
       "0 & 121 & 111486 & 106373851 & 85047493689 \\\\\n",
       "0 & 403 & 256524 & 153400684 & 119105282037 \\\\\n",
       "0 & 46 & 133905 & 108442063 & 79157034675 \\\\\n",
       "0 & 83 & 122562 & 103291053 & 78342776619 \\\\\n",
       "1 & 174 & 133186 & 101933165 & 77846413204 \\\\\n",
       "0 & 271 & 168613 & 140586233 & 114875619034 \\\\\n",
       "0 & 182 & 131215 & 92764856 & 72658970185 \\\\\n",
       "0 & 31 & 126824 & 105906236 & 77208864533 \\\\\n",
       "0 & 113 & 136987 & 101990395 & 76383908518 \\\\\n",
       "1 & 312 & 144811 & 135994876 & 114441983923 \\\\\n",
       "0 & 229 & 135805 & 89051182 & 71051234020 \\\\\n",
       "0 & 438 & 215563 & 128340085 & 104942141941 \\\\\n",
       "0 & 342 & 177923 & 129898988 & 107422019453 \\\\\n",
       "0 & 19 & 278639 & 224322782 & 159353608592 \\\\\n",
       "1 & 185 & 120968 & 128485295 & 104684956379\n",
       "\\end{array}\\right)</script></html>"
      ],
      "text/plain": [
       "[           1          241       100765    100140337  85215895648]\n",
       "[           0          121       111486    106373851  85047493689]\n",
       "[           0          403       256524    153400684 119105282037]\n",
       "[           0           46       133905    108442063  79157034675]\n",
       "[           0           83       122562    103291053  78342776619]\n",
       "[           1          174       133186    101933165  77846413204]\n",
       "[           0          271       168613    140586233 114875619034]\n",
       "[           0          182       131215     92764856  72658970185]\n",
       "[           0           31       126824    105906236  77208864533]\n",
       "[           0          113       136987    101990395  76383908518]\n",
       "[           1          312       144811    135994876 114441983923]\n",
       "[           0          229       135805     89051182  71051234020]\n",
       "[           0          438       215563    128340085 104942141941]\n",
       "[           0          342       177923    129898988 107422019453]\n",
       "[           0           19       278639    224322782 159353608592]\n",
       "[           1          185       120968    128485295 104684956379]"
      ]
     },
     "metadata": {},
     "output_type": "display_data"
    },
    {
     "data": {
      "text/html": [
       "<html><script type=\"math/tex; mode=display\">\\newcommand{\\Bold}[1]{\\mathbf{#1}}\\left(2414326200,\\,-54066099,\\,166007,\\,-912,\\,1\\right)</script></html>"
      ],
      "text/plain": [
       "(2414326200, -54066099, 166007, -912, 1)"
      ]
     },
     "metadata": {},
     "output_type": "display_data"
    },
    {
     "data": {
      "text/html": [
       "<html><script type=\"math/tex; mode=display\">\\newcommand{\\Bold}[1]{\\mathbf{#1}}x^{4} - 912 \\, x^{3} + 166007 \\, x^{2} - 54066099 \\, x + 2414326200</script></html>"
      ],
      "text/plain": [
       "x^4 - 912*x^3 + 166007*x^2 - 54066099*x + 2414326200"
      ]
     },
     "metadata": {},
     "output_type": "display_data"
    },
    {
     "data": {
      "text/html": [
       "<html><script type=\"math/tex; mode=display\">\\newcommand{\\Bold}[1]{\\mathbf{#1}}4 \\, x^{3} - 2736 \\, x^{2} + 332014 \\, x - 54066099</script></html>"
      ],
      "text/plain": [
       "4*x^3 - 2736*x^2 + 332014*x - 54066099"
      ]
     },
     "metadata": {},
     "output_type": "display_data"
    },
    {
     "data": {
      "text/html": [
       "<html><script type=\"math/tex; mode=display\">\\newcommand{\\Bold}[1]{\\mathbf{#1}}1</script></html>"
      ],
      "text/plain": [
       "1"
      ]
     },
     "metadata": {},
     "output_type": "display_data"
    },
    {
     "name": "stdout",
     "output_type": "stream",
     "text": [
      "The square matrix is diagonalizable\n"
     ]
    }
   ],
   "source": [
    "### random matrix diagonalizable\n",
    "import numpy as np\n",
    "data= matrix(np.random.randint(0,500,[4,4]))\n",
    "diagonalizable(data)"
   ]
  },
  {
   "cell_type": "code",
   "execution_count": 4,
   "metadata": {},
   "outputs": [
    {
     "data": {
      "text/html": [
       "<html><script type=\"math/tex; mode=display\">\\newcommand{\\Bold}[1]{\\mathbf{#1}}\\left(\\begin{array}{rrr}\n",
       "1 & 1 & 0 \\\\\n",
       "0 & -1 & -4 \\\\\n",
       "0 & 1 & 4 \\\\\n",
       "1 & 3 & 8\n",
       "\\end{array}\\right)</script></html>"
      ],
      "text/plain": [
       "[ 1  1  0]\n",
       "[ 0 -1 -4]\n",
       "[ 0  1  4]\n",
       "[ 1  3  8]"
      ]
     },
     "metadata": {},
     "output_type": "display_data"
    },
    {
     "data": {
      "text/html": [
       "<html><script type=\"math/tex; mode=display\">\\newcommand{\\Bold}[1]{\\mathbf{#1}}\\left(\\begin{array}{rrr}\n",
       "1 & 1 & 0 \\\\\n",
       "0 & -1 & -4 \\\\\n",
       "0 & 1 & 4 \\\\\n",
       "1 & 3 & 8\n",
       "\\end{array}\\right)</script></html>"
      ],
      "text/plain": [
       "[ 1  1  0]\n",
       "[ 0 -1 -4]\n",
       "[ 0  1  4]\n",
       "[ 1  3  8]"
      ]
     },
     "metadata": {},
     "output_type": "display_data"
    },
    {
     "data": {
      "text/html": [
       "<html><script type=\"math/tex; mode=display\">\\newcommand{\\Bold}[1]{\\mathbf{#1}}\\left(4,\\,-4,\\,1\\right)</script></html>"
      ],
      "text/plain": [
       "(4, -4, 1)"
      ]
     },
     "metadata": {},
     "output_type": "display_data"
    },
    {
     "data": {
      "text/html": [
       "<html><script type=\"math/tex; mode=display\">\\newcommand{\\Bold}[1]{\\mathbf{#1}}x^{2} - 4 \\, x + 4</script></html>"
      ],
      "text/plain": [
       "x^2 - 4*x + 4"
      ]
     },
     "metadata": {},
     "output_type": "display_data"
    },
    {
     "data": {
      "text/html": [
       "<html><script type=\"math/tex; mode=display\">\\newcommand{\\Bold}[1]{\\mathbf{#1}}2 \\, x - 4</script></html>"
      ],
      "text/plain": [
       "2*x - 4"
      ]
     },
     "metadata": {},
     "output_type": "display_data"
    },
    {
     "data": {
      "text/html": [
       "<html><script type=\"math/tex; mode=display\">\\newcommand{\\Bold}[1]{\\mathbf{#1}}2 \\, x - 4</script></html>"
      ],
      "text/plain": [
       "2*x - 4"
      ]
     },
     "metadata": {},
     "output_type": "display_data"
    },
    {
     "name": "stdout",
     "output_type": "stream",
     "text": [
      "The square matrix is non-diagonalizable\n"
     ]
    }
   ],
   "source": [
    "### non-diagonalizable\n",
    "data = matrix([[1,-1],[1,3]])\n",
    "diagonalizable(data)"
   ]
  },
  {
   "cell_type": "code",
   "execution_count": 5,
   "metadata": {},
   "outputs": [
    {
     "data": {
      "text/html": [
       "<html><script type=\"math/tex; mode=display\">\\newcommand{\\Bold}[1]{\\mathbf{#1}}\\left(\\begin{array}{rrrrr}\n",
       "1 & 1 & 1 & 1 & 1 \\\\\n",
       "0 & 0 & 0 & 0 & 0 \\\\\n",
       "0 & 0 & 0 & 0 & 0 \\\\\n",
       "0 & 0 & 0 & 0 & 0 \\\\\n",
       "0 & 0 & 0 & 0 & 0 \\\\\n",
       "1 & 2 & 4 & 8 & 16 \\\\\n",
       "0 & 0 & 0 & 0 & 0 \\\\\n",
       "0 & 0 & 0 & 0 & 0 \\\\\n",
       "0 & 0 & 0 & 0 & 0 \\\\\n",
       "0 & 0 & 0 & 0 & 0 \\\\\n",
       "1 & 4 & 16 & 64 & 256 \\\\\n",
       "0 & 1 & 8 & 48 & 256 \\\\\n",
       "0 & 0 & 0 & 0 & 0 \\\\\n",
       "0 & 0 & 0 & 0 & 0 \\\\\n",
       "0 & 0 & 0 & 0 & 0 \\\\\n",
       "1 & 4 & 16 & 64 & 256\n",
       "\\end{array}\\right)</script></html>"
      ],
      "text/plain": [
       "[  1   1   1   1   1]\n",
       "[  0   0   0   0   0]\n",
       "[  0   0   0   0   0]\n",
       "[  0   0   0   0   0]\n",
       "[  0   0   0   0   0]\n",
       "[  1   2   4   8  16]\n",
       "[  0   0   0   0   0]\n",
       "[  0   0   0   0   0]\n",
       "[  0   0   0   0   0]\n",
       "[  0   0   0   0   0]\n",
       "[  1   4  16  64 256]\n",
       "[  0   1   8  48 256]\n",
       "[  0   0   0   0   0]\n",
       "[  0   0   0   0   0]\n",
       "[  0   0   0   0   0]\n",
       "[  1   4  16  64 256]"
      ]
     },
     "metadata": {},
     "output_type": "display_data"
    },
    {
     "data": {
      "text/html": [
       "<html><script type=\"math/tex; mode=display\">\\newcommand{\\Bold}[1]{\\mathbf{#1}}\\left(\\begin{array}{rrrrr}\n",
       "1 & 1 & 1 & 1 & 1 \\\\\n",
       "0 & 0 & 0 & 0 & 0 \\\\\n",
       "0 & 0 & 0 & 0 & 0 \\\\\n",
       "0 & 0 & 0 & 0 & 0 \\\\\n",
       "0 & 0 & 0 & 0 & 0 \\\\\n",
       "1 & 2 & 4 & 8 & 16 \\\\\n",
       "0 & 0 & 0 & 0 & 0 \\\\\n",
       "0 & 0 & 0 & 0 & 0 \\\\\n",
       "0 & 0 & 0 & 0 & 0 \\\\\n",
       "0 & 0 & 0 & 0 & 0 \\\\\n",
       "1 & 4 & 16 & 64 & 256 \\\\\n",
       "0 & 1 & 8 & 48 & 256 \\\\\n",
       "0 & 0 & 0 & 0 & 0 \\\\\n",
       "0 & 0 & 0 & 0 & 0 \\\\\n",
       "0 & 0 & 0 & 0 & 0 \\\\\n",
       "1 & 4 & 16 & 64 & 256\n",
       "\\end{array}\\right)</script></html>"
      ],
      "text/plain": [
       "[  1   1   1   1   1]\n",
       "[  0   0   0   0   0]\n",
       "[  0   0   0   0   0]\n",
       "[  0   0   0   0   0]\n",
       "[  0   0   0   0   0]\n",
       "[  1   2   4   8  16]\n",
       "[  0   0   0   0   0]\n",
       "[  0   0   0   0   0]\n",
       "[  0   0   0   0   0]\n",
       "[  0   0   0   0   0]\n",
       "[  1   4  16  64 256]\n",
       "[  0   1   8  48 256]\n",
       "[  0   0   0   0   0]\n",
       "[  0   0   0   0   0]\n",
       "[  0   0   0   0   0]\n",
       "[  1   4  16  64 256]"
      ]
     },
     "metadata": {},
     "output_type": "display_data"
    },
    {
     "data": {
      "text/html": [
       "<html><script type=\"math/tex; mode=display\">\\newcommand{\\Bold}[1]{\\mathbf{#1}}\\left(32,\\,-64,\\,42,\\,-11,\\,1\\right)</script></html>"
      ],
      "text/plain": [
       "(32, -64, 42, -11, 1)"
      ]
     },
     "metadata": {},
     "output_type": "display_data"
    },
    {
     "data": {
      "text/html": [
       "<html><script type=\"math/tex; mode=display\">\\newcommand{\\Bold}[1]{\\mathbf{#1}}x^{4} - 11 \\, x^{3} + 42 \\, x^{2} - 64 \\, x + 32</script></html>"
      ],
      "text/plain": [
       "x^4 - 11*x^3 + 42*x^2 - 64*x + 32"
      ]
     },
     "metadata": {},
     "output_type": "display_data"
    },
    {
     "data": {
      "text/html": [
       "<html><script type=\"math/tex; mode=display\">\\newcommand{\\Bold}[1]{\\mathbf{#1}}4 \\, x^{3} - 33 \\, x^{2} + 84 \\, x - 64</script></html>"
      ],
      "text/plain": [
       "4*x^3 - 33*x^2 + 84*x - 64"
      ]
     },
     "metadata": {},
     "output_type": "display_data"
    },
    {
     "data": {
      "text/html": [
       "<html><script type=\"math/tex; mode=display\">\\newcommand{\\Bold}[1]{\\mathbf{#1}}x - 4</script></html>"
      ],
      "text/plain": [
       "x - 4"
      ]
     },
     "metadata": {},
     "output_type": "display_data"
    },
    {
     "name": "stdout",
     "output_type": "stream",
     "text": [
      "The square matrix is non-diagonalizable\n"
     ]
    }
   ],
   "source": [
    "### non-diagonalizable  \n",
    "data =matrix([[1,0,0,0],[0,2,0,0],[0,0,4,1],[0,0,0,4]])\n",
    "diagonalizable(data)\n"
   ]
  },
  {
   "cell_type": "code",
   "execution_count": 0,
   "metadata": {},
   "outputs": [],
   "source": []
  }
 ],
 "metadata": {
  "kernelspec": {
   "display_name": "SageMath 8.1",
   "language": "",
   "name": "sagemath"
  },
  "language_info": {
   "codemirror_mode": {
    "name": "ipython",
    "version": 2
   },
   "file_extension": ".py",
   "mimetype": "text/x-python",
   "name": "python",
   "nbconvert_exporter": "python",
   "pygments_lexer": "ipython2",
   "version": "2.7.15rc1"
  }
 },
 "nbformat": 4,
 "nbformat_minor": 1
}
