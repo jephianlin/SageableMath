{
 "cells": [
  {
   "cell_type": "markdown",
   "metadata": {},
   "source": [
    "# Good Gaussian elimination"
   ]
  },
  {
   "cell_type": "markdown",
   "metadata": {},
   "source": [
    "<a rel=\"license\" href=\"http://creativecommons.org/licenses/by/4.0/\"><img alt=\"Creative Commons License\" style=\"border-width:0\" src=\"https://i.creativecommons.org/l/by/4.0/88x31.png\" /></a><br />This work by <span xmlns:cc=\"http://creativecommons.org/ns#\" property=\"cc:attributionName\">Johnson Li</span> is licensed under a <a rel=\"license\" href=\"http://creativecommons.org/licenses/by/4.0/\">Creative Commons Attribution 4.0 International License</a>."
   ]
  },
  {
   "cell_type": "markdown",
   "metadata": {},
   "source": [
    "##### Overview\n",
    "Given a matrix with finite rows and finite columns, Good Gaussion Elimination aims to reduce a matrix into its upper triangular form within as less time as it could. "
   ]
  },
  {
   "cell_type": "markdown",
   "metadata": {},
   "source": [
    "##### Algorithm\n",
    "1. Create an $N\\times M$ matrix that you what to reduce.\n",
    "> $A=\\begin{bmatrix}X_{1,1}& \\cdots & X_{1,M} \\\\ \\vdots & \\vdots & \\vdots \\\\ X_{N,1} & \\cdots& X_{N,M} \\end{bmatrix}$\n",
    "2. Then compute a upper triangular matrix\n",
    "> $A'=\\begin{bmatrix}Y_{1,1}& \\cdots & Y_{1,M} \\\\ \\vdots & \\vdots & \\vdots \\\\ 0 & \\cdots& Y_{N,M} \\end{bmatrix}$"
   ]
  },
  {
   "cell_type": "markdown",
   "metadata": {},
   "source": [
    "##### Implementation"
   ]
  },
  {
   "cell_type": "code",
   "execution_count": 1,
   "metadata": {},
   "outputs": [
    {
     "name": "stdout",
     "output_type": "stream",
     "text": [
      "original matrix\n",
      "[ 0  0 -2  1]\n",
      "[ 2  2  2  1]\n",
      "[-2  0  0  1]\n",
      "---\n",
      "my answer\n",
      "[-128    0    0   64]\n",
      "[   0  -64    0  -96]\n",
      "[   0    0  -16    8]\n",
      "---\n",
      "sage default answer\n",
      "[ 2  0  0 -1]\n",
      "[ 0  2  0  3]\n",
      "[ 0  0  2 -1]\n"
     ]
    }
   ],
   "source": [
    "##########\n",
    "## MAIN ##\n",
    "##########\n",
    "\n",
    "##algorithm part\n",
    "def gauss_eli(A):\n",
    "    n,m=A.dimensions()\n",
    "    c=0\n",
    "    d=[]\n",
    "    for k in range(0,m):\n",
    "        t=0\n",
    "        for i in range(0,n):\n",
    "            if((A[i,k] != 0) and (t != 1) and (i not in d)):\n",
    "                t=1\n",
    "                d=d+[i]\n",
    "                for j in range(0,n):\n",
    "                    if(j != i):\n",
    "                        A[j,0:] = A[j,0:]*A[i,k]-A[i,0:]*A[j,k]\n",
    "    #answer\n",
    "    #return A\n",
    "\n",
    "    #rearrange\n",
    "    AR = copy(A)\n",
    "    for p in range(0,m):\n",
    "        if(p not in d):\n",
    "            d=d+[p]\n",
    "    for l in range(0,n):\n",
    "            AR[l,0:]=A[d[l],0:]\n",
    "    return AR\n",
    "\n",
    "\n",
    "\n",
    "\n",
    "\n",
    "##Trials\n",
    "import numpy as np\n",
    "a=matrix(np.random.rand(3,4)*10)\n",
    "a=matrix([[3,3,3],[2,2,2],[4,4,4]])\n",
    "a=matrix([[0,0,-2,1],[2,2,2,1],[-2,0,0,1]])\n",
    "print \"original matrix\"\n",
    "print a\n",
    "print '---'\n",
    "b=copy(a)\n",
    "print \"my answer\"\n",
    "print gauss_eli(a)\n",
    "print \"---\"\n",
    "print \"sage default answer\"\n",
    "print b.echelon_form()"
   ]
  },
  {
   "cell_type": "code",
   "execution_count": 2,
   "metadata": {},
   "outputs": [],
   "source": [
    "A = matrix(QQ, [\n",
    "    [0,0,1],\n",
    "    [0,1,1],\n",
    "    [1,1,0]\n",
    "])"
   ]
  },
  {
   "cell_type": "code",
   "execution_count": 3,
   "metadata": {},
   "outputs": [
    {
     "data": {
      "text/plain": [
       "[1 0 0]\n",
       "[0 1 0]\n",
       "[0 0 1]"
      ]
     },
     "execution_count": 3,
     "metadata": {},
     "output_type": "execute_result"
    }
   ],
   "source": [
    "gauss_eli(A)"
   ]
  },
  {
   "cell_type": "code",
   "execution_count": 4,
   "metadata": {},
   "outputs": [
    {
     "data": {
      "text/plain": [
       "[1 0 0]\n",
       "[0 1 0]\n",
       "[0 0 1]"
      ]
     },
     "execution_count": 4,
     "metadata": {},
     "output_type": "execute_result"
    }
   ],
   "source": [
    "A.echelon_form()"
   ]
  },
  {
   "cell_type": "code",
   "execution_count": null,
   "metadata": {},
   "outputs": [],
   "source": []
  }
 ],
 "metadata": {
  "kernelspec": {
   "display_name": "SageMath 8.1",
   "language": "",
   "name": "sagemath"
  },
  "language_info": {
   "codemirror_mode": {
    "name": "ipython",
    "version": 2
   },
   "file_extension": ".py",
   "mimetype": "text/x-python",
   "name": "python",
   "nbconvert_exporter": "python",
   "pygments_lexer": "ipython2",
   "version": "2.7.15rc1"
  }
 },
 "nbformat": 4,
 "nbformat_minor": 1
}
