{
 "cells": [
  {
   "cell_type": "markdown",
   "metadata": {},
   "source": [
    "# Cyclic Group"
   ]
  },
  {
   "cell_type": "markdown",
   "metadata": {},
   "source": [
    "![Creative Commons License](https://i.creativecommons.org/l/by/4.0/88x31.png)  \n",
    "\n",
    "This work by Jephian Lin is licensed under a [Creative Commons Attribution 4.0 International License](http://creativecommons.org/licenses/by/4.0/)."
   ]
  },
  {
   "cell_type": "markdown",
   "metadata": {},
   "source": [
    "##### Overview\n",
    "The cyclic group of order $n$, denoted as $\\mathbb{Z}_n$,    \n",
    "consists of $n$ elements  \n",
    "$\\{0,1,\\ldots, n-1\\}$  \n",
    "and is equipped with the addition  \n",
    "$a + b = (a + b) \\mathbin{\\rm{mod}} n$.  \n",
    "\n",
    "This program define that creates cyclic group elements in Sage."
   ]
  },
  {
   "cell_type": "markdown",
   "metadata": {},
   "source": [
    "##### Note  \n",
    "If you want,  \n",
    "you may add some **Algorithm** or **Explanation** sections."
   ]
  },
  {
   "cell_type": "markdown",
   "metadata": {},
   "source": [
    "##### Implementation"
   ]
  },
  {
   "cell_type": "code",
   "execution_count": 1,
   "metadata": {},
   "outputs": [],
   "source": [
    "class CyclicGroupElement:\n",
    "    def __init__(self, k, n):\n",
    "        self.name = k % n\n",
    "        self.grouporder = n\n",
    "    \n",
    "    def __str__(self):\n",
    "        return 'element %s in cyclic group of order %s'%(self.name, self.grouporder)\n",
    "\n",
    "    def __repr__(self):\n",
    "        return 'element %s in cyclic group of order %s'%(self.name, self.grouporder)\n",
    "    \n",
    "    def __add__(self, other):\n",
    "        if self.grouporder != other.grouporder:\n",
    "            raise TypeError, 'Two elements are in different group'\n",
    "        else:\n",
    "            grouporder = self.grouporder\n",
    "        return CyclicGroupElement((self.name + other.name) % grouporder, grouporder) \n",
    "    \n",
    "    def __mul__(self, other):\n",
    "        grouporder = self.grouporder\n",
    "        return CyclicGroupElement((self.name * other) % grouporder, grouporder) \n",
    "    \n",
    "    def __eq__(self, other):\n",
    "        return self.name == other.name and self.grouporder == other.grouporder"
   ]
  },
  {
   "cell_type": "markdown",
   "metadata": {},
   "source": [
    "##### Examples"
   ]
  },
  {
   "cell_type": "code",
   "execution_count": 2,
   "metadata": {},
   "outputs": [
    {
     "data": {
      "text/plain": [
       "element 1 in cyclic group of order 13"
      ]
     },
     "execution_count": 2,
     "metadata": {},
     "output_type": "execute_result"
    }
   ],
   "source": [
    "### Create Z_13\n",
    "C = [CyclicGroupElement(i, 13) for i in range(13)]\n",
    "C[1]"
   ]
  },
  {
   "cell_type": "code",
   "execution_count": 6,
   "metadata": {},
   "outputs": [
    {
     "data": {
      "text/plain": [
       "element 2 in cyclic group of order 13"
      ]
     },
     "execution_count": 6,
     "metadata": {},
     "output_type": "execute_result"
    }
   ],
   "source": [
    "### Create Z_13\n",
    "C = [CyclicGroupElement(i, 13) for i in range(13)]\n",
    "### addition of group elements\n",
    "C[8] + C[7]"
   ]
  },
  {
   "cell_type": "code",
   "execution_count": 7,
   "metadata": {},
   "outputs": [
    {
     "data": {
      "text/plain": [
       "True"
      ]
     },
     "execution_count": 7,
     "metadata": {},
     "output_type": "execute_result"
    }
   ],
   "source": [
    "### Create Z_13\n",
    "C = [CyclicGroupElement(i, 13) for i in range(13)]\n",
    "### test equality\n",
    "C[8] + C[7] == C[2]"
   ]
  },
  {
   "cell_type": "code",
   "execution_count": 9,
   "metadata": {},
   "outputs": [
    {
     "data": {
      "text/plain": [
       "True"
      ]
     },
     "execution_count": 9,
     "metadata": {},
     "output_type": "execute_result"
    }
   ],
   "source": [
    "### test equality\n",
    "a = CyclicGroupElement(50, 13)\n",
    "b = CyclicGroupElement(76, 13)\n",
    "a == b"
   ]
  },
  {
   "cell_type": "markdown",
   "metadata": {},
   "source": [
    "A few questions for you to finish:  \n",
    "1. define a dihedral group instead.  \n",
    "2. write a function to test whether a set is a subgroup or not.  \n",
    "3. write a function to test whether a set is a normal subgroup or not."
   ]
  },
  {
   "cell_type": "code",
   "execution_count": null,
   "metadata": {},
   "outputs": [],
   "source": []
  }
 ],
 "metadata": {
  "kernelspec": {
   "display_name": "SageMath 8.1",
   "language": "",
   "name": "sagemath"
  },
  "language_info": {
   "codemirror_mode": {
    "name": "ipython",
    "version": 2
   },
   "file_extension": ".py",
   "mimetype": "text/x-python",
   "name": "python",
   "nbconvert_exporter": "python",
   "pygments_lexer": "ipython2",
   "version": "2.7.15+"
  }
 },
 "nbformat": 4,
 "nbformat_minor": 2
}
