{
 "cells": [
  {
   "cell_type": "markdown",
   "metadata": {},
   "source": [
    "# The Monty Hall Problem\n",
    "### BY 顏廷維 Justin Yen"
   ]
  },
  {
   "cell_type": "markdown",
   "metadata": {},
   "source": [
    "<a rel=\"license\" href=\"http://creativecommons.org/licenses/by/4.0/\"><img alt=\"Creative Commons License\" style=\"border-width:0\" src=\"https://i.creativecommons.org/l/by/4.0/88x31.png\" /></a><br />This work by <span xmlns:cc=\"http://creativecommons.org/ns#\" property=\"cc:attributionName\">顏廷維 Justin Yen</span> is licensed under a <a rel=\"license\" href=\"http://creativecommons.org/licenses/by/4.0/\">Creative Commons Attribution 4.0 International License</a>."
   ]
  },
  {
   "cell_type": "markdown",
   "metadata": {},
   "source": [
    "##### Overview\n",
    "\n"
   ]
  },
  {
   "cell_type": "markdown",
   "metadata": {},
   "source": [
    "##### Algorithm\n",
    "開始 Monty Hall 的遊戲  \n",
    "先設三個變數1、2、3  \n",
    "再來設兩個隨機的變數selection、prize  \n",
    "再用門去扣掉這兩個變數  \n",
    "定義一個新的變數 Opendoor  \n",
    "由於Opendoor 不會和selection跟prize的門一樣  \n",
    "所以最後面抉擇會是要繼續選擇selection  \n",
    "或是選擇另一個變數 change:  \n",
    "(不會是selection也不會是Opendoor)  \n",
    "再去比較最後  \n",
    "是selection=prize的機會比較高  \n",
    "還是change=prize得機率比較高  \n"
   ]
  },
  {
   "cell_type": "markdown",
   "metadata": {},
   "source": [
    "##### Explanation\n",
    "對我來說這個問題有一個極其重要的地方  \n",
    "那就是遊戲中打開的門，一定會是非車的門  \n",
    "既然打開的門存在車子機率已經不在了  \n",
    "那在原本大局觀中，他的機率就會附加在那些還沒開過的門  \n",
    "舉個常見的例子、那便是一有一千道門裡頭只有一個有大獎  \n",
    "你一開始選了一道門、那目前那道門中獎機率是1/1000  \n",
    "非那道門中獎機率是999/1000、今天我們打開了剩下門中的998道  \n",
    "那些都沒有大獎、那原本999/1000的機率就會附加在剩下那道還沒開也還沒選的  \n",
    "這個就可以大致拿來形容Monty Hall 的問題  \n"
   ]
  },
  {
   "cell_type": "markdown",
   "metadata": {},
   "source": [
    "##### Implementation"
   ]
  },
  {
   "cell_type": "code",
   "execution_count": 3,
   "metadata": {
    "cocalc": {
     "outputs": {
      "0": {
       "name": "input",
       "opts": {
        "password": false,
        "prompt": "my dicision '1','2'or'3':"
       },
       "output_type": "stream"
      }
     }
    },
    "scrolled": true
   },
   "outputs": [
    {
     "name": "stdout",
     "output_type": "stream",
     "text": [
      "Prize: 2\n",
      "Selection: 2 \n",
      "monty's open door 1 \n",
      "change: 1 \n"
     ]
    }
   ],
   "source": [
    "import random\n",
    "    \n",
    "doors = [1,2,3]\n",
    "##先製造三道門\n",
    "\n",
    "prize = random.choice(doors)\n",
    "##獎品在隨機一個門裡面\n",
    "\n",
    "selection = random.choice(doors)\n",
    "##自己的選擇也是其中一扇門\n",
    "\n",
    "L = [x for x in doors if x != prize and x != selection]\n",
    "##設Open door為不是你的選擇也不是獎品的一個門\n",
    "opened_door = random.choice(L)\n",
    "##由於門有可能不只一個可4只能選一個\n",
    "\n",
    "montyopendoor = L[0]\n",
    "q = [x for x in doors if x != selection and x != opened_door]\n",
    "##再設change為非selection和非open door的門\n",
    "\n",
    "change = q[0]\n",
    "\n",
    "##老師程式可能還有一點小瑕疵，有可能會跑出Opendoor跟change是一樣的選項\n",
    "##有可能是因為一開始的opendoor是隨機的L,然後到另一個迴圈時他又會那入考慮\n",
    "##不過我試過出錯的機率很低，而且對答案不會有干擾\n",
    "print \"Prize: %r\" % prize\n",
    "print \"Selection: %r \" % selection\n",
    "print \"monty's open door %r \" % montyopendoor\n",
    "print \"change: %r \" % change    "
   ]
  },
  {
   "cell_type": "code",
   "execution_count": 4,
   "metadata": {},
   "outputs": [],
   "source": [
    "##不換門的\n",
    "def gods_plan():\n",
    "    \n",
    "    doors = [1,2,3] \n",
    "\n",
    "    prize = random.choice(doors) \n",
    "    selection = random.choice(doors) \n",
    "\n",
    "    L = [door for door in doors if door != prize and door != selection]\n",
    "    opened_door = random.choice(L)\n",
    "    montyopendoor = L[0]\n",
    "\n",
    "    q = [door for door in doors if door != selection and door != opened_door]\n",
    "    change = q[0]\n",
    "\n",
    "    return (selection == prize)"
   ]
  },
  {
   "cell_type": "code",
   "execution_count": 5,
   "metadata": {},
   "outputs": [],
   "source": [
    "def selection(k):\n",
    "    counter = 0;\n",
    "    for _ in range(k):\n",
    "        if gods_plan():\n",
    "            counter += 1\n",
    "    return N(counter / k)"
   ]
  },
  {
   "cell_type": "code",
   "execution_count": 6,
   "metadata": {},
   "outputs": [
    {
     "data": {
      "text/plain": [
       "0.323000000000000"
      ]
     },
     "execution_count": 6,
     "metadata": {},
     "output_type": "execute_result"
    }
   ],
   "source": [
    "selection(1000)"
   ]
  },
  {
   "cell_type": "code",
   "execution_count": 7,
   "metadata": {},
   "outputs": [],
   "source": [
    "##我是分隔線"
   ]
  },
  {
   "cell_type": "code",
   "execution_count": 8,
   "metadata": {},
   "outputs": [],
   "source": [
    "##選擇另一道門的\n",
    "def good_plan():\n",
    "    \n",
    "    doors = [1,2,3] \n",
    "\n",
    "    prize = random.choice(doors) \n",
    "    selection = random.choice(doors) \n",
    "\n",
    "    L = [door for door in doors if door != prize and door != selection]\n",
    "    opened_door = random.choice(L)\n",
    "    montyopendoor = L[0]\n",
    "\n",
    "    q = [door for door in doors if door != selection and door != opened_door]\n",
    "    change = q[0]\n",
    "\n",
    "    return (change == prize)"
   ]
  },
  {
   "cell_type": "code",
   "execution_count": 9,
   "metadata": {},
   "outputs": [],
   "source": [
    "def change(k):\n",
    "    counter = 0;\n",
    "    for _ in range(k):\n",
    "        if good_plan():\n",
    "            counter += 1\n",
    "    return N(counter / k)"
   ]
  },
  {
   "cell_type": "code",
   "execution_count": 10,
   "metadata": {
    "scrolled": true
   },
   "outputs": [
    {
     "data": {
      "text/plain": [
       "0.658800000000000"
      ]
     },
     "execution_count": 10,
     "metadata": {},
     "output_type": "execute_result"
    }
   ],
   "source": [
    "change(5000)"
   ]
  }
 ],
 "metadata": {
  "kernelspec": {
   "display_name": "SageMath 8.1",
   "language": "",
   "name": "sagemath"
  },
  "language_info": {
   "codemirror_mode": {
    "name": "ipython",
    "version": 2
   },
   "file_extension": ".py",
   "mimetype": "text/x-python",
   "name": "python",
   "nbconvert_exporter": "python",
   "pygments_lexer": "ipython2",
   "version": "2.7.15rc1"
  }
 },
 "nbformat": 4,
 "nbformat_minor": 1
}
