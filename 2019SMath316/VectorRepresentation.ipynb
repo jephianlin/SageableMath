{
 "cells": [
  {
   "cell_type": "markdown",
   "metadata": {},
   "source": [
    "# Vector space"
   ]
  },
  {
   "cell_type": "markdown",
   "metadata": {},
   "source": [
    "<a rel=\"license\" href=\"http://creativecommons.org/licenses/by/4.0/\"><img alt=\"Creative Commons License\" style=\"border-width:0\" src=\"https://i.creativecommons.org/l/by/4.0/88x31.png\" /></a><br />This work by <span xmlns:cc=\"http://creativecommons.org/ns#\" property=\"cc:attributionName\">林昱伸</span> is licensed under a <a rel=\"license\" href=\"http://creativecommons.org/licenses/by/4.0/\">Creative Commons Attribution 4.0 International License</a>."
   ]
  },
  {
   "cell_type": "markdown",
   "metadata": {},
   "source": [
    "### Overview\n",
    "\n",
    "**Find representation**\n",
    "\n",
    "$P_n := \\{\\text{all polynomials with degree at most }n\\}$ and $n$ 為正整數\n",
    "\n",
    "Let $B$ = {$1,x-1,(x-1)^2$} be a basis of $P_2$ then $B$ has $n+1$ polynomials.\n",
    "\n",
    "Record the coefficients of each polynomial in $B$ as the columns of a matrix $A$ , such that\n",
    "\n",
    "> $A= \\begin{bmatrix} 1&-1&1\\\\0&1&-2\\\\0&0&1\\end{bmatrix}$.\n",
    "\n",
    "Thus $A$ is an $3\\times 3$  $((n+1)\\times (n+1))$ matrix.\n",
    "\n",
    "If $f=x^2$ , then the goal is to find\n",
    "\n",
    "> $Rep_B(f)$.\n"
   ]
  },
  {
   "cell_type": "markdown",
   "metadata": {},
   "source": [
    "##### Algorithm\n",
    "\n",
    "1. If $f=x^2$ , record the coefficients of $f=x^2$ --> $\\begin{bmatrix} 0\\\\0\\\\1\\end{bmatrix}$\n",
    "\n",
    "2. Suppose $Rep_B(f) = \\begin{bmatrix} a\\\\b\\\\c\\end{bmatrix}$ such that $<＝>$ $a\\times 1+b\\times (x-1)+c\\times (x-1)^2$\n",
    "\n",
    "3. We know $A= \\begin{bmatrix} 1&-1&1\\\\0&1&-2\\\\0&0&1\\end{bmatrix}$ ,and $\\begin{bmatrix} 1&-1&1\\\\0&1&-2\\\\0&0&1\\end{bmatrix}\\begin{bmatrix} a\\\\b\\\\c\\end{bmatrix} = \\begin{bmatrix} 0\\\\0\\\\1\\end{bmatrix}$.  Then find $A^{-1}$  \n",
    "\n",
    "4. Hence , we get $Rep_B(f) = \\begin{bmatrix} a\\\\b\\\\c\\end{bmatrix}=A^{-1}\\begin{bmatrix} 0\\\\0\\\\1\\end{bmatrix}$\n"
   ]
  },
  {
   "cell_type": "markdown",
   "metadata": {},
   "source": [
    "##### Explanation\n",
    "目標是尋找 $Rep_B(f)$ , 要找尋$f$轉換在$B$基底底下的座標(表示法)\n",
    "\n",
    "First we change $B$={$1,(x-1),(x-1)^2$} to another basis matrix form $[1]=\\begin{bmatrix} 1\\\\0\\\\0\\end{bmatrix}$ , $[-1+x]=\\begin{bmatrix} -1\\\\1\\\\0\\end{bmatrix}$ , and $[1-2x+x^2]=\\begin{bmatrix} -1\\\\2\\\\1\\end{bmatrix}$\n",
    "\n",
    "Get $A= \\begin{bmatrix} 1&-1&1\\\\0&1&-2\\\\0&0&1\\end{bmatrix}$ $;$ And  $f=x^2$ , do the same change to make $f$ the same form as $B$ did.\n",
    "\n",
    "記錄 $f$ 的係數 , 得 $f=\\begin{bmatrix} 0\\\\0\\\\1\\end{bmatrix}$ . 再來假設 $Rep_B(x^2) = \\begin{bmatrix} a\\\\b\\\\c\\end{bmatrix}$\n",
    "\n",
    "代表 $a\\times 1+b\\times (x-1)+c\\times (x-1)^2 = x^2$ 又可表示成下面形式\n",
    "\n",
    "> $\\begin{bmatrix} 1&-1&1\\\\0&1&-2\\\\0&0&1\\end{bmatrix}\\begin{bmatrix} a\\\\b\\\\c\\end{bmatrix} = \\begin{bmatrix} 0\\\\0\\\\1\\end{bmatrix}$\n",
    "\n",
    "則可得出 $\\begin{bmatrix} a\\\\b\\\\c\\end{bmatrix} = \\begin{bmatrix} 1&-1&1\\\\0&1&-2\\\\0&0&1\\end{bmatrix}^{-1} \\begin{bmatrix} 0\\\\0\\\\1\\end{bmatrix}$\n",
    "\n",
    "得解 $Rep_B(f) = \\begin{bmatrix} 1&-1&1\\\\0&1&-2\\\\0&0&1\\end{bmatrix}^{-1} \\begin{bmatrix} 0\\\\0\\\\1\\end{bmatrix} $\n"
   ]
  },
  {
   "cell_type": "markdown",
   "metadata": {},
   "source": [
    "##### Implementation"
   ]
  },
  {
   "cell_type": "code",
   "execution_count": 2,
   "metadata": {
    "scrolled": true
   },
   "outputs": [],
   "source": [
    "def get_coefficient(f, n):\n",
    "    \"\"\"\n",
    "   \n",
    "    Input:\n",
    "        f: polynomial\n",
    "        n: degree\n",
    "    Output:\n",
    "        a list of (n+1) coefficients of f,\n",
    "        (treating f as a polynomial of degree n)\n",
    "    \"\"\"\n",
    "    l = f.coefficients(sparse=False)\n",
    "    coeffs = [0] * (n+1)\n",
    "    for i in range(len(l)):\n",
    "        coeffs[i] = l[i]\n",
    "    return coeffs"
   ]
  },
  {
   "cell_type": "code",
   "execution_count": 3,
   "metadata": {},
   "outputs": [],
   "source": [
    "def representation(basis, poly):\n",
    "    \"\"\"\n",
    "    Input: \n",
    "        basis: a list of vectors [B0, ... , Bk] ( a basis of all polynomials of degree at most k)\n",
    "        poly: a polynomial\n",
    "    Output:\n",
    "        the representation of poly with respect to basis\n",
    "    \"\"\"\n",
    "    k = len(basis) - 1\n",
    "    coeffs_list = [get_coefficient(basis[i], k) for i in range(k+1)]\n",
    "    A = matrix(coeffs_list).transpose()\n",
    "\n",
    "    v = matrix(k+1, get_coefficient(poly,k))\n",
    "\n",
    "    print \"representation(basis, polynomial) = \"\n",
    "    show(A.inverse()*v)"
   ]
  },
  {
   "cell_type": "code",
   "execution_count": 4,
   "metadata": {
    "scrolled": true
   },
   "outputs": [
    {
     "name": "stdout",
     "output_type": "stream",
     "text": [
      "representation(basis, polynomial) = \n"
     ]
    },
    {
     "data": {
      "text/html": [
       "<html><script type=\"math/tex; mode=display\">\\newcommand{\\Bold}[1]{\\mathbf{#1}}\\left(\\begin{array}{r}\n",
       "1 \\\\\n",
       "2 \\\\\n",
       "1\n",
       "\\end{array}\\right)</script></html>"
      ],
      "text/plain": [
       "[1]\n",
       "[2]\n",
       "[1]"
      ]
     },
     "metadata": {},
     "output_type": "display_data"
    }
   ],
   "source": [
    "### sample code範例程式\n",
    "## Let basis\n",
    "B1=1+0*x\n",
    "B2=(x-1)\n",
    "B3=(x-1)^2\n",
    "f = x^2\n",
    "B={B1,B2,B3}\n",
    "f_poly = f.polynomial(QQ)\n",
    "\n",
    "B_1 = B1.polynomial(QQ)\n",
    "B_2 = B2.polynomial(QQ)\n",
    "B_3 = B3.polynomial(QQ)\n",
    "\n",
    "### construct the matrix\n",
    "\n",
    "A = matrix([get_coefficient(B_1,2),get_coefficient(B_2,2),get_coefficient(B_3,2)]).transpose()\n",
    "v = matrix(3,get_coefficient(f_poly,2))\n",
    "\n",
    "print \"representation(basis, polynomial) = \"\n",
    "show(A.inverse()*v)"
   ]
  },
  {
   "cell_type": "markdown",
   "metadata": {},
   "source": [
    "##### Examples"
   ]
  },
  {
   "cell_type": "code",
   "execution_count": 6,
   "metadata": {},
   "outputs": [
    {
     "name": "stdout",
     "output_type": "stream",
     "text": [
      "representation(basis, polynomial) = \n"
     ]
    },
    {
     "data": {
      "text/html": [
       "<html><script type=\"math/tex; mode=display\">\\newcommand{\\Bold}[1]{\\mathbf{#1}}\\left(\\begin{array}{r}\n",
       "2 \\\\\n",
       "\\frac{1}{2} \\\\\n",
       "-2 \\\\\n",
       "5 \\\\\n",
       "7 \\\\\n",
       "3\n",
       "\\end{array}\\right)</script></html>"
      ],
      "text/plain": [
       "[  2]\n",
       "[1/2]\n",
       "[ -2]\n",
       "[  5]\n",
       "[  7]\n",
       "[  3]"
      ]
     },
     "metadata": {},
     "output_type": "display_data"
    }
   ],
   "source": [
    "B1=1+0*x\n",
    "B2=6*x\n",
    "B3=2*x^2\n",
    "B4=1+x^3\n",
    "B5=x^4\n",
    "B6=x^5\n",
    "B={B1,B2,B3,B4,B5,B6}\n",
    "B_1 = B1.polynomial(QQ)\n",
    "B_2 = B2.polynomial(QQ)\n",
    "B_3 = B3.polynomial(QQ)\n",
    "B_4 = B4.polynomial(QQ)\n",
    "B_5 = B5.polynomial(QQ)\n",
    "B_6 = B6.polynomial(QQ)\n",
    "\n",
    "basis = [B_1, B_2, B_3, B_4, B_5, B_6]\n",
    "\n",
    "representation(basis, (3*x^5+7*x^4+5*x^3-4*x^2+3*x+7).polynomial(QQ))"
   ]
  },
  {
   "cell_type": "code",
   "execution_count": 7,
   "metadata": {},
   "outputs": [
    {
     "name": "stdout",
     "output_type": "stream",
     "text": [
      "representation(basis, polynomial) = \n"
     ]
    },
    {
     "data": {
      "text/html": [
       "<html><script type=\"math/tex; mode=display\">\\newcommand{\\Bold}[1]{\\mathbf{#1}}\\left(\\begin{array}{r}\n",
       "-301097 \\\\\n",
       "328827 \\\\\n",
       "-195522 \\\\\n",
       "67183 \\\\\n",
       "-11781 \\\\\n",
       "1006 \\\\\n",
       "-83 \\\\\n",
       "3 \\\\\n",
       "1 \\\\\n",
       "0\n",
       "\\end{array}\\right)</script></html>"
      ],
      "text/plain": [
       "[-301097]\n",
       "[ 328827]\n",
       "[-195522]\n",
       "[  67183]\n",
       "[ -11781]\n",
       "[   1006]\n",
       "[    -83]\n",
       "[      3]\n",
       "[      1]\n",
       "[      0]"
      ]
     },
     "metadata": {},
     "output_type": "display_data"
    }
   ],
   "source": [
    "B1=1+0*x\n",
    "B2=x\n",
    "B3=x^2\n",
    "B4=1+x^3\n",
    "B5=x^4\n",
    "B6=2*x^5\n",
    "B7=(x+1)^6\n",
    "B8=(x-1)^7\n",
    "B9=x^8\n",
    "B10=(x-2)^9\n",
    "B={B1,B2,B3,B4,B5,B6,B7,B8,B9,B10}\n",
    "B_1 = B1.polynomial(QQ)\n",
    "B_2 = B2.polynomial(QQ)\n",
    "B_3 = B3.polynomial(QQ)\n",
    "B_4 = B4.polynomial(QQ)\n",
    "B_5 = B5.polynomial(QQ)\n",
    "B_6 = B6.polynomial(QQ)\n",
    "B_7 = B7.polynomial(QQ)\n",
    "B_8 = B8.polynomial(QQ)\n",
    "B_9 = B9.polynomial(QQ)\n",
    "B_10 = B10.polynomial(QQ)\n",
    "basis = [B_1, B_2, B_3, B_4, B_5, B_6, B_7, B_8, B_9, B_10]\n",
    "\n",
    "representation(basis, (x^8+3*(x-5)^7+x^6+2*x^5-6*x^4+3*(x+5)^3).polynomial(QQ))"
   ]
  },
  {
   "cell_type": "code",
   "execution_count": null,
   "metadata": {},
   "outputs": [],
   "source": []
  }
 ],
 "metadata": {
  "kernelspec": {
   "display_name": "SageMath 8.1",
   "language": "",
   "name": "sagemath"
  },
  "language_info": {
   "codemirror_mode": {
    "name": "ipython",
    "version": 2
   },
   "file_extension": ".py",
   "mimetype": "text/x-python",
   "name": "python",
   "nbconvert_exporter": "python",
   "pygments_lexer": "ipython2",
   "version": "2.7.15rc1"
  }
 },
 "nbformat": 4,
 "nbformat_minor": 1
}
