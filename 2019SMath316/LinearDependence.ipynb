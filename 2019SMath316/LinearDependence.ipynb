{
 "cells": [
  {
   "cell_type": "markdown",
   "metadata": {},
   "source": [
    "# Linear dependent"
   ]
  },
  {
   "cell_type": "markdown",
   "metadata": {},
   "source": [
    "<a rel=\"license\" href=\"http://creativecommons.org/licenses/by/4.0/\"><img alt=\"Creative Commons License\" style=\"border-width:0\" src=\"https://i.creativecommons.org/l/by/4.0/88x31.png\" /></a><br />This work by <span xmlns:cc=\"http://creativecommons.org/ns#\" property=\"cc:attributionName\">tinan chen</span> is licensed under a <a rel=\"license\" href=\"http://creativecommons.org/licenses/by/4.0/\">Creative Commons Attribution 4.0 International License</a>."
   ]
  },
  {
   "cell_type": "markdown",
   "metadata": {},
   "source": [
    "##### Overview\n",
    "Given a subset $S$ of a vector space A=$(\\vec a_1\\,\\vec a_2\\,.....,\\vec a_n)$ and A $\\in$ $\\mathbb{R}^n$ \n",
    "\n",
    "**linear dependent**  aims  to  check  wether  the  subset of vector space  is  linear  dependent \n",
    "\n",
    ">$c_1\\vec a_1+c_2\\vec a_2+...+c_n\\vec a_n$=$\\vec 0$\n",
    "\n",
    "If $c_i$ $\\in$ $R$ ,$c_i$ $\\neq$ 0 , for i=1,2,...,n ,\n",
    "then $S$ is linear dependent ."
   ]
  },
  {
   "cell_type": "markdown",
   "metadata": {},
   "source": [
    "##### Algorithm\n",
    "1. Given a subset $S$ of a vector space A=$(\\vec a_1,\\vec a_2,.....,\\vec a_n)$ and A $\\in$ $\\mathbb{R}^n$\n",
    "2. Use the #gauss method to check whether the vector is linear dependent"
   ]
  },
  {
   "cell_type": "markdown",
   "metadata": {},
   "source": [
    "##### Guass thm\n",
    "A vector after doing the Guass eliminatin thm ,\n",
    "\n",
    "at least a row or a column which the number of the elements are all zero.\n",
    "\n",
    "The vector is linear dependent."
   ]
  },
  {
   "cell_type": "code",
   "execution_count": 1,
   "metadata": {},
   "outputs": [],
   "source": [
    "import numpy as np\n",
    "\n",
    "A = np.array(\n",
    "    [\n",
    "        [1, 1 ,2 ,3],\n",
    "        [2, 1, 1, 2],\n",
    "        [3, 0, 1, 5],\n",
    "        [6, 2, 4, 10]\n",
    "    ])\n",
    "\n"
   ]
  },
  {
   "cell_type": "code",
   "execution_count": 2,
   "metadata": {},
   "outputs": [],
   "source": [
    "#Let a set of matrix from your vector(a1,...an)"
   ]
  },
  {
   "cell_type": "code",
   "execution_count": 3,
   "metadata": {},
   "outputs": [],
   "source": [
    "#gauss method\n",
    "def Gauss(A):\n",
    "    si=A.shape\n",
    "    Y=A\n",
    "    for j in range(1,1+si[1]):\n",
    "        for i in range(1,1+si[0]-j):\n",
    "            p1=Y[i+j-1,j-1]/Y[j-1,j-1]\n",
    "            if p1>1e+16 or p1<-1e+16 or ( Y[i+j-1,j-1]==0 and Y[i-1,j-1]==0 ):\n",
    "                tem=Y[i+j-1,:]\n",
    "                Y[i+j-1,:]=Y[j-1,:]\n",
    "                Y[j-1,:]=tem\n",
    "            else:\n",
    "                Y[i+j-1,:]=Y[i+j-1,:]-p1*Y[j-1,:]\n",
    "    return Y\n"
   ]
  },
  {
   "cell_type": "code",
   "execution_count": 4,
   "metadata": {
    "scrolled": true
   },
   "outputs": [
    {
     "data": {
      "text/plain": [
       "array([[ 1,  1,  2,  3],\n",
       "       [ 0, -1, -3, -4],\n",
       "       [ 0,  0,  4,  8],\n",
       "       [ 0,  0,  0,  0]])"
      ]
     },
     "execution_count": 4,
     "metadata": {},
     "output_type": "execute_result"
    }
   ],
   "source": [
    "nA=Gauss(A)\n",
    "nA\n",
    "# now you can check matrix nA has zero vector?"
   ]
  },
  {
   "cell_type": "code",
   "execution_count": 0,
   "metadata": {},
   "outputs": [],
   "source": []
  }
 ],
 "metadata": {
  "kernelspec": {
   "display_name": "SageMath 8.1",
   "language": "",
   "name": "sagemath"
  },
  "language_info": {
   "codemirror_mode": {
    "name": "ipython",
    "version": 2
   },
   "file_extension": ".py",
   "mimetype": "text/x-python",
   "name": "python",
   "nbconvert_exporter": "python",
   "pygments_lexer": "ipython2",
   "version": "2.7.15rc1"
  }
 },
 "nbformat": 4,
 "nbformat_minor": 1
}
