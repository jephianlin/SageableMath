{
 "cells": [
  {
   "cell_type": "markdown",
   "metadata": {},
   "source": [
    "# Limit"
   ]
  },
  {
   "cell_type": "markdown",
   "metadata": {},
   "source": [
    "<a rel=\"license\" href=\"http://creativecommons.org/licenses/by/4.0/\"><img alt=\"Creative Commons License\" style=\"border-width:0\" src=\"https://i.creativecommons.org/l/by/4.0/88x31.png\" /></a><br />This work by <span xmlns:cc=\"http://creativecommons.org/ns#\" property=\"cc:attributionName\">**吳憲中**</span> is licensed under a <a rel=\"license\" href=\"http://creativecommons.org/licenses/by/4.0/\">Creative Commons Attribution 4.0 International License</a>.\n"
   ]
  },
  {
   "cell_type": "markdown",
   "metadata": {},
   "source": [
    "##### Introduction  \n",
    "This program aims to show what is the \"Limit\".  \n",
    "In mathematics, a limit is the value that a function (or sequence) \"approaches\" as the input (or index) \"approaches\" some value.  \n",
    "1. Give a simple polynomial,ex:\n",
    "$$ \\frac{x+1}{x^2+2x-3}$$  \n",
    "   We want to know what will happens when  $x\\rightarrow3$.  \n",
    "\n",
    "2. It's easy to see that \n",
    "$$ \\frac{x+1}{x^2+2x-3}\\to \\frac{1}{3}$$\n",
    "as $x\\rightarrow 3$.\n",
    "\n",
    "3. We can denote as $$ \\lim_{x\\to 3}\\frac{x+1}{x^2+2x-3}=\\frac{1}{3}$$  \n",
    "   which means the value of $\\frac{x+1}{x^2+2x-3}$ will aprroach to  $\\frac{1}{3}$, as ${x\\rightarrow 3}$."
   ]
  },
  {
   "cell_type": "markdown",
   "metadata": {},
   "source": [
    "##### Algorithm\n",
    "To solve the problem by the following process:  \n",
    "We can start with giving a value of $x$.  \n",
    "For example: $x=2$,which lead $\\frac{x+1}{x^2+2x-3}=\\frac{2}{5}$\n",
    "Then start to approaching to $x=3$ from $x=2$ like below  \n",
    ">$x=2$  \n",
    " $\\frac{x+1}{x^2+2x-3}=\\frac{3}{5}=0.6$  \n",
    " $x=2.1$  \n",
    " $\\frac{x+1}{x^2+2x-3}=\\frac{3.1}{5.61}=0.553$  \n",
    " .  \n",
    " .  \n",
    " .  \n",
    " $x=2.8$  \n",
    " $\\frac{x+1}{x^2+2x-3}=\\frac{3.8}{10.44}=0.364$  \n",
    " $x=2.9$  \n",
    " $\\frac{x+1}{x^2+2x-3}=\\frac{3.9}{11.21}=0.348$  \n",
    " $x=3$  \n",
    " $\\frac{x+1}{x^2+2x-3}=\\frac{1}{3}=0.333$  \n",
    "\n",
    "We can see that the value of $\\frac{x+1}{x^2+2x-3}$ is gradually approach to $\\frac{1}{3}$"
   ]
  },
  {
   "cell_type": "markdown",
   "metadata": {},
   "source": [
    "##### Implimentation\n",
    "First,need to check if the limit exists or not  \n",
    "Except some unique function like $f(x)=-1^x$  \n",
    ">If the function is fraction form like $\\frac{x+5}{x-3}$,and input approach to some value $a$  \n",
    "\n",
    "We can check the function does or doesn't have limit when input approach to $a$ by this way  \n",
    ">if (x-3)%(x-a)=0,limit doesn't exist  \n",
    "if (x-3)%(x-a)≠0,limit exists  \n",
    "\n",
    "For example,we want to know,  \n",
    ">$f(x)=\\frac{x^2-1}{x} \\to ?$ if $x \\to 2$\n",
    "\n",
    "First,check limit does or doesn't exist  "
   ]
  },
  {
   "cell_type": "code",
   "execution_count": 1,
   "metadata": {},
   "outputs": [
    {
     "ename": "TypeError",
     "evalue": "unsupported operand parent(s) for %: 'Symbolic Ring' and 'Symbolic Ring'",
     "output_type": "error",
     "traceback": [
      "\u001b[0;31m---------------------------------------------------------------------------\u001b[0m",
      "\u001b[0;31mTypeError\u001b[0m                                 Traceback (most recent call last)",
      "\u001b[0;32m<ipython-input-1-a814ec059bdb>\u001b[0m in \u001b[0;36m<module>\u001b[0;34m()\u001b[0m\n\u001b[0;32m----> 1\u001b[0;31m \u001b[0;32mif\u001b[0m \u001b[0;34m(\u001b[0m\u001b[0mx\u001b[0m\u001b[0;34m)\u001b[0m\u001b[0;34m%\u001b[0m\u001b[0;34m(\u001b[0m\u001b[0mx\u001b[0m\u001b[0;34m-\u001b[0m\u001b[0mInteger\u001b[0m\u001b[0;34m(\u001b[0m\u001b[0;36m2\u001b[0m\u001b[0;34m)\u001b[0m\u001b[0;34m)\u001b[0m\u001b[0;34m==\u001b[0m\u001b[0mInteger\u001b[0m\u001b[0;34m(\u001b[0m\u001b[0;36m0\u001b[0m\u001b[0;34m)\u001b[0m\u001b[0;34m:\u001b[0m\u001b[0;34m\u001b[0m\u001b[0m\n\u001b[0m\u001b[1;32m      2\u001b[0m     \u001b[0;32mprint\u001b[0m \u001b[0;34m\"limit doesn't exist\"\u001b[0m\u001b[0;34m\u001b[0m\u001b[0m\n\u001b[1;32m      3\u001b[0m \u001b[0;32mif\u001b[0m \u001b[0;34m(\u001b[0m\u001b[0mx\u001b[0m\u001b[0;34m)\u001b[0m\u001b[0;34m%\u001b[0m\u001b[0;34m(\u001b[0m\u001b[0mx\u001b[0m\u001b[0;34m-\u001b[0m\u001b[0mInteger\u001b[0m\u001b[0;34m(\u001b[0m\u001b[0;36m2\u001b[0m\u001b[0;34m)\u001b[0m\u001b[0;34m)\u001b[0m\u001b[0;34m!=\u001b[0m\u001b[0mInteger\u001b[0m\u001b[0;34m(\u001b[0m\u001b[0;36m0\u001b[0m\u001b[0;34m)\u001b[0m\u001b[0;34m:\u001b[0m\u001b[0;34m\u001b[0m\u001b[0m\n\u001b[1;32m      4\u001b[0m     \u001b[0;32mprint\u001b[0m \u001b[0;34m\"limit exist\"\u001b[0m\u001b[0;34m\u001b[0m\u001b[0m\n",
      "\u001b[0;32msage/structure/element.pyx\u001b[0m in \u001b[0;36msage.structure.element.Element.__mod__ (build/cythonized/sage/structure/element.c:13749)\u001b[0;34m()\u001b[0m\n",
      "\u001b[0;32msage/structure/element.pyx\u001b[0m in \u001b[0;36msage.structure.element.Element._mod_ (build/cythonized/sage/structure/element.c:14075)\u001b[0;34m()\u001b[0m\n",
      "\u001b[0;31mTypeError\u001b[0m: unsupported operand parent(s) for %: 'Symbolic Ring' and 'Symbolic Ring'"
     ]
    }
   ],
   "source": [
    "if (x)%(x-2)==0:\n",
    "    print \"limit doesn't exist\"\n",
    "if (x)%(x-2)!=0:\n",
    "    print \"limit exist\""
   ]
  },
  {
   "cell_type": "markdown",
   "metadata": {},
   "source": [
    "So we know $lim_{x \\to2}\\frac{x^2-1}{x}$ exists\n",
    "Then we can solve $lim_{x \\to2}\\frac{x^2-1}{x}$"
   ]
  },
  {
   "cell_type": "code",
   "execution_count": 5,
   "metadata": {},
   "outputs": [
    {
     "name": "stdout",
     "output_type": "stream",
     "text": [
      "0.000000000000000\n",
      "0.190909090909091\n",
      "0.366666666666667\n",
      "0.530769230769231\n",
      "0.685714285714286\n",
      "0.833333333333333\n",
      "0.975000000000000\n",
      "1.11176470588235\n",
      "1.24444444444444\n",
      "1.37368421052632\n",
      "1.50000000000000\n"
     ]
    }
   ],
   "source": [
    "for i in range(11):\n",
    "    a=1+0.1*i\n",
    "    h=(a^2-1)/a\n",
    "    print h"
   ]
  },
  {
   "cell_type": "markdown",
   "metadata": {},
   "source": [
    "We can also use \"limit_app\" to solve $lim_{x \\to2}\\frac{x^2-1}{x}=?$ since we know limit exists"
   ]
  },
  {
   "cell_type": "code",
   "execution_count": 6,
   "metadata": {},
   "outputs": [],
   "source": [
    "def limit_app(f,a):\n",
    "    \"\"\"\n",
    "    Input:\n",
    "        f: a function (symbolic exporession in x)\n",
    "        a: a real number\n",
    "    Output:\n",
    "        print the approximation of f(x) as a approaches to a\n",
    "    \"\"\"\n",
    "    for i in range(1,11):\n",
    "        t=(a-1)+0.1*i\n",
    "        g=f.subs(x=t)\n",
    "        print g\n",
    "    # return g    "
   ]
  },
  {
   "cell_type": "code",
   "execution_count": 7,
   "metadata": {},
   "outputs": [
    {
     "name": "stdout",
     "output_type": "stream",
     "text": [
      "0.190909090909091\n",
      "0.366666666666667\n",
      "0.530769230769231\n",
      "0.685714285714285\n",
      "0.833333333333333\n",
      "0.975000000000000\n",
      "1.11176470588235\n",
      "1.24444444444444\n",
      "1.37368421052632\n",
      "1.50000000000000\n"
     ]
    }
   ],
   "source": [
    "limit_app((x^2-1)/(x),2)"
   ]
  },
  {
   "cell_type": "markdown",
   "metadata": {},
   "source": [
    "##### Explanation\n",
    "The goal is to solve what value of function will be approached when the value of $x$ approach to $3$\n",
    "\n",
    "> $$ {x\\to 3}$$,$$ \\frac{x+1}{x^2+2x-3}\\to ?$$\n",
    "\n",
    "We can easy to calculate that when value of $x$ is closer and closer to $3$  \n",
    "Value of function\n",
    ">$$ \\frac{x+1}{x^2+2x-3}$$  \n",
    "is approaching to $0.333$≒$\\frac{1}{3}$\n",
    "\n",
    "Notice that not any funtion can approach to a unique value when input approach to some value  \n",
    "For example,  \n",
    ">$f(x)=-1^x$  \n",
    "when $x=10$$\\to$$f(x)=1$  \n",
    "But it doesn't mean that $ \\lim_{x\\to 10}f(x)=1$\n",
    "\n",
    "Let's see why,  \n",
    "We all know \n",
    ">$f(10)=1$  \n",
    "\n",
    "But \n",
    ">$f(9)=f(11)=-1$  \n",
    "$f(8)=f(12)=1$  \n",
    ".  \n",
    ".  \n",
    ".  \n",
    "$f(2)=f(18)=1$  \n",
    "$f(1)=f(19)=-1$  \n",
    "\n",
    "The value of $f(x)$ isn't just approaching to $1$ while the value of $x$ approaching to $10$  \n",
    "The value of $f(x)$ just switch between $1$ and $-1$\n",
    "\n",
    "Thus $ \\lim_{x\\to 10}f(x)$ doesn't exist  "
   ]
  },
  {
   "cell_type": "markdown",
   "metadata": {},
   "source": [
    "In the end,we know that $lim_{x \\to2}\\frac{x^2-1}{x}$ exists and $lim_{x \\to2}\\frac{x^2-1}{x}=1.5$ "
   ]
  },
  {
   "cell_type": "markdown",
   "metadata": {},
   "source": [
    "##### Examples"
   ]
  },
  {
   "cell_type": "markdown",
   "metadata": {},
   "source": [
    "#### 1. $lim_{x\\to5}\\frac{x^2}{x+5}=?$"
   ]
  },
  {
   "cell_type": "code",
   "execution_count": 8,
   "metadata": {},
   "outputs": [
    {
     "ename": "TypeError",
     "evalue": "unsupported operand parent(s) for %: 'Symbolic Ring' and 'Symbolic Ring'",
     "output_type": "error",
     "traceback": [
      "\u001b[0;31m---------------------------------------------------------------------------\u001b[0m",
      "\u001b[0;31mTypeError\u001b[0m                                 Traceback (most recent call last)",
      "\u001b[0;32m<ipython-input-8-8930f8a2484e>\u001b[0m in \u001b[0;36m<module>\u001b[0;34m()\u001b[0m\n\u001b[1;32m      1\u001b[0m \u001b[0;31m###check\u001b[0m\u001b[0;34m\u001b[0m\u001b[0;34m\u001b[0m\u001b[0m\n\u001b[0;32m----> 2\u001b[0;31m \u001b[0;32mif\u001b[0m \u001b[0;34m(\u001b[0m\u001b[0mx\u001b[0m\u001b[0;34m+\u001b[0m\u001b[0mInteger\u001b[0m\u001b[0;34m(\u001b[0m\u001b[0;36m5\u001b[0m\u001b[0;34m)\u001b[0m\u001b[0;34m)\u001b[0m\u001b[0;34m%\u001b[0m\u001b[0;34m(\u001b[0m\u001b[0mx\u001b[0m\u001b[0;34m-\u001b[0m\u001b[0mInteger\u001b[0m\u001b[0;34m(\u001b[0m\u001b[0;36m5\u001b[0m\u001b[0;34m)\u001b[0m\u001b[0;34m)\u001b[0m\u001b[0;34m==\u001b[0m\u001b[0mInteger\u001b[0m\u001b[0;34m(\u001b[0m\u001b[0;36m0\u001b[0m\u001b[0;34m)\u001b[0m\u001b[0;34m:\u001b[0m\u001b[0;34m\u001b[0m\u001b[0m\n\u001b[0m\u001b[1;32m      3\u001b[0m     \u001b[0;32mprint\u001b[0m \u001b[0;34m\"limt doesnt exist\"\u001b[0m\u001b[0;34m\u001b[0m\u001b[0m\n\u001b[1;32m      4\u001b[0m \u001b[0;32mif\u001b[0m \u001b[0;34m(\u001b[0m\u001b[0mx\u001b[0m\u001b[0;34m+\u001b[0m\u001b[0mInteger\u001b[0m\u001b[0;34m(\u001b[0m\u001b[0;36m5\u001b[0m\u001b[0;34m)\u001b[0m\u001b[0;34m)\u001b[0m\u001b[0;34m%\u001b[0m\u001b[0;34m(\u001b[0m\u001b[0mx\u001b[0m\u001b[0;34m-\u001b[0m\u001b[0mInteger\u001b[0m\u001b[0;34m(\u001b[0m\u001b[0;36m5\u001b[0m\u001b[0;34m)\u001b[0m\u001b[0;34m)\u001b[0m\u001b[0;34m!=\u001b[0m\u001b[0mInteger\u001b[0m\u001b[0;34m(\u001b[0m\u001b[0;36m0\u001b[0m\u001b[0;34m)\u001b[0m\u001b[0;34m:\u001b[0m\u001b[0;34m\u001b[0m\u001b[0m\n\u001b[1;32m      5\u001b[0m     \u001b[0;32mprint\u001b[0m \u001b[0;34m\"limit exist\"\u001b[0m\u001b[0;34m\u001b[0m\u001b[0m\n",
      "\u001b[0;32msage/structure/element.pyx\u001b[0m in \u001b[0;36msage.structure.element.Element.__mod__ (build/cythonized/sage/structure/element.c:13749)\u001b[0;34m()\u001b[0m\n",
      "\u001b[0;32msage/structure/element.pyx\u001b[0m in \u001b[0;36msage.structure.element.Element._mod_ (build/cythonized/sage/structure/element.c:14075)\u001b[0;34m()\u001b[0m\n",
      "\u001b[0;31mTypeError\u001b[0m: unsupported operand parent(s) for %: 'Symbolic Ring' and 'Symbolic Ring'"
     ]
    }
   ],
   "source": [
    "###check\n",
    "if (x+5)%(x-5)==0:\n",
    "    print \"limt doesnt exist\"\n",
    "if (x+5)%(x-5)!=0:\n",
    "    print \"limit exist\""
   ]
  },
  {
   "cell_type": "code",
   "execution_count": 9,
   "metadata": {},
   "outputs": [
    {
     "name": "stdout",
     "output_type": "stream",
     "text": [
      "1.12500000000000\n",
      "1.24878048780488\n",
      "1.37619047619048\n",
      "1.50697674418605\n",
      "1.64090909090909\n",
      "1.77777777777778\n",
      "1.91739130434783\n",
      "2.05957446808511\n",
      "2.20416666666667\n",
      "2.35102040816327\n",
      "2.50000000000000\n"
     ]
    }
   ],
   "source": [
    "for i in range(11):\n",
    "    x=3+0.2*i\n",
    "    g=(x^2)/(x+5)\n",
    "    print g\n"
   ]
  },
  {
   "cell_type": "markdown",
   "metadata": {},
   "source": [
    "$lim_{x\\to5}\\frac{x^2}{x+5}=2.5$"
   ]
  },
  {
   "cell_type": "code",
   "execution_count": 10,
   "metadata": {},
   "outputs": [
    {
     "name": "stdout",
     "output_type": "stream",
     "text": [
      "2.50000000000000\n",
      "2.50000000000000\n",
      "2.50000000000000\n",
      "2.50000000000000\n",
      "2.50000000000000\n",
      "2.50000000000000\n",
      "2.50000000000000\n",
      "2.50000000000000\n",
      "2.50000000000000\n",
      "2.50000000000000\n"
     ]
    }
   ],
   "source": [
    "limit_app((x^2)/(x+5),5)"
   ]
  },
  {
   "cell_type": "markdown",
   "metadata": {},
   "source": [
    "#### 2. $lim_{x\\to7}\\frac{x^3-5x}{x-7}=?$"
   ]
  },
  {
   "cell_type": "code",
   "execution_count": 11,
   "metadata": {},
   "outputs": [
    {
     "name": "stdout",
     "output_type": "stream",
     "text": [
      "limt doesnt exist\n"
     ]
    }
   ],
   "source": [
    "###check\n",
    "if (x-7)%(x-7)==0:\n",
    "    print \"limt doesnt exist\"\n",
    "if (x-7)%(x-7)!=0:\n",
    "    print \"limit exist\""
   ]
  },
  {
   "cell_type": "markdown",
   "metadata": {},
   "source": [
    "$lim_{x\\to7}\\frac{x^3-5x}{x-7}$ doesn't exists"
   ]
  },
  {
   "cell_type": "code",
   "execution_count": 12,
   "metadata": {},
   "outputs": [
    {
     "name": "stdout",
     "output_type": "stream",
     "text": [
      "-50.0000000000000\n",
      "-63.6711111111111\n",
      "-81.5400000000000\n",
      "-105.440000000000\n",
      "-138.426666666667\n",
      "-186.000000000000\n",
      "-259.160000000000\n",
      "-383.573333333334\n",
      "-636.239999999999\n",
      "-1402.16000000000\n",
      "+infinity\n"
     ]
    }
   ],
   "source": [
    "for i in range(11):\n",
    "    x=5+0.2*i\n",
    "    g=(x^3-5*x)/(x-7)\n",
    "    print g"
   ]
  },
  {
   "cell_type": "code",
   "execution_count": 13,
   "metadata": {},
   "outputs": [
    {
     "name": "stdout",
     "output_type": "stream",
     "text": [
      "+infinity\n",
      "+infinity\n",
      "+infinity\n",
      "+infinity\n",
      "+infinity\n",
      "+infinity\n",
      "+infinity\n",
      "+infinity\n",
      "+infinity\n",
      "+infinity\n"
     ]
    }
   ],
   "source": [
    "limit_app((x^3-5*x)/(x-7),7)"
   ]
  },
  {
   "cell_type": "markdown",
   "metadata": {},
   "source": [
    "$lim_{x\\to7}\\frac{x^3-5x}{x-7}$ doesn't exists"
   ]
  },
  {
   "cell_type": "markdown",
   "metadata": {},
   "source": [
    "#### 3. $lim_{x\\to10}3x^2-6x-1=?$"
   ]
  },
  {
   "cell_type": "code",
   "execution_count": 14,
   "metadata": {},
   "outputs": [
    {
     "name": "stdout",
     "output_type": "stream",
     "text": [
      "104.000000000000\n",
      "104.000000000000\n",
      "104.000000000000\n",
      "104.000000000000\n",
      "104.000000000000\n",
      "104.000000000000\n",
      "104.000000000000\n",
      "104.000000000000\n",
      "104.000000000000\n",
      "104.000000000000\n"
     ]
    }
   ],
   "source": [
    "limit_app(3*x^2-6*x-1,10)"
   ]
  },
  {
   "cell_type": "code",
   "execution_count": 15,
   "metadata": {},
   "outputs": [
    {
     "ename": "SyntaxError",
     "evalue": "invalid syntax (<ipython-input-15-1a100a382493>, line 11)",
     "output_type": "error",
     "traceback": [
      "\u001b[0;36m  File \u001b[0;32m\"<ipython-input-15-1a100a382493>\"\u001b[0;36m, line \u001b[0;32m11\u001b[0m\n\u001b[0;31m    if H.quo_rem(K)==(t.polinomial(QQ),Integer(0))\u001b[0m\n\u001b[0m                                                  ^\u001b[0m\n\u001b[0;31mSyntaxError\u001b[0m\u001b[0;31m:\u001b[0m invalid syntax\n"
     ]
    }
   ],
   "source": [
    "def existence(h,k):\n",
    "    \"\"\"\n",
    "    Input:\n",
    "        h:a function\n",
    "        k:a function\n",
    "    Output:\n",
    "        determine limit exist or not\n",
    "    \"\"\"\n",
    "    H=h.polynomial(QQ)\n",
    "    K=k.polynomial(QQ)\n",
    "    if H.quo_rem(K)==(t.polinomial(QQ),0)\n",
    "    print \"limit doesn't exist\"\n",
    "    else\n",
    "    print \"limit exists\""
   ]
  },
  {
   "cell_type": "code",
   "execution_count": 16,
   "metadata": {},
   "outputs": [
    {
     "ename": "AttributeError",
     "evalue": "'sage.rings.real_mpfr.RealNumber' object has no attribute 'polynomial'",
     "output_type": "error",
     "traceback": [
      "\u001b[0;31m---------------------------------------------------------------------------\u001b[0m",
      "\u001b[0;31mAttributeError\u001b[0m                            Traceback (most recent call last)",
      "\u001b[0;32m<ipython-input-16-c3c66227d409>\u001b[0m in \u001b[0;36m<module>\u001b[0;34m()\u001b[0m\n\u001b[1;32m      2\u001b[0m \u001b[0;34m\u001b[0m\u001b[0m\n\u001b[1;32m      3\u001b[0m \u001b[0;31m### create factors in polynomial\u001b[0m\u001b[0;34m\u001b[0m\u001b[0;34m\u001b[0m\u001b[0m\n\u001b[0;32m----> 4\u001b[0;31m \u001b[0mfactor1\u001b[0m \u001b[0;34m=\u001b[0m \u001b[0;34m(\u001b[0m\u001b[0mx\u001b[0m\u001b[0;34m-\u001b[0m\u001b[0mInteger\u001b[0m\u001b[0;34m(\u001b[0m\u001b[0;36m1\u001b[0m\u001b[0;34m)\u001b[0m\u001b[0;34m)\u001b[0m\u001b[0;34m.\u001b[0m\u001b[0mpolynomial\u001b[0m\u001b[0;34m(\u001b[0m\u001b[0mQQ\u001b[0m\u001b[0;34m)\u001b[0m\u001b[0;34m\u001b[0m\u001b[0m\n\u001b[0m\u001b[1;32m      5\u001b[0m \u001b[0mfactor2\u001b[0m \u001b[0;34m=\u001b[0m \u001b[0;34m(\u001b[0m\u001b[0mx\u001b[0m\u001b[0;34m+\u001b[0m\u001b[0mInteger\u001b[0m\u001b[0;34m(\u001b[0m\u001b[0;36m1\u001b[0m\u001b[0;34m)\u001b[0m\u001b[0;34m)\u001b[0m\u001b[0;34m.\u001b[0m\u001b[0mpolynomial\u001b[0m\u001b[0;34m(\u001b[0m\u001b[0mQQ\u001b[0m\u001b[0;34m)\u001b[0m\u001b[0;34m\u001b[0m\u001b[0m\n\u001b[1;32m      6\u001b[0m \u001b[0;34m\u001b[0m\u001b[0m\n",
      "\u001b[0;32msage/structure/element.pyx\u001b[0m in \u001b[0;36msage.structure.element.Element.__getattr__ (build/cythonized/sage/structure/element.c:4303)\u001b[0;34m()\u001b[0m\n",
      "\u001b[0;32msage/structure/element.pyx\u001b[0m in \u001b[0;36msage.structure.element.Element.getattr_from_category (build/cythonized/sage/structure/element.c:4412)\u001b[0;34m()\u001b[0m\n",
      "\u001b[0;32msage/cpython/getattr.pyx\u001b[0m in \u001b[0;36msage.cpython.getattr.getattr_from_other_class (build/cythonized/sage/cpython/getattr.c:1834)\u001b[0;34m()\u001b[0m\n",
      "\u001b[0;31mAttributeError\u001b[0m: 'sage.rings.real_mpfr.RealNumber' object has no attribute 'polynomial'"
     ]
    }
   ],
   "source": [
    "### now you can do division algorithm\n",
    "\n",
    "### create factors in polynomial\n",
    "factor1 = (x-1).polynomial(QQ)\n",
    "factor2 = (x+1).polynomial(QQ)\n",
    "\n",
    "g.quo_rem(factor1) ### you may try factor2"
   ]
  },
  {
   "cell_type": "code",
   "execution_count": 17,
   "metadata": {},
   "outputs": [
    {
     "name": "stdout",
     "output_type": "stream",
     "text": [
      "type(f) <type 'sage.rings.real_mpfr.RealNumber'>\n"
     ]
    },
    {
     "ename": "AttributeError",
     "evalue": "'sage.rings.real_mpfr.RealNumber' object has no attribute 'polynomial'",
     "output_type": "error",
     "traceback": [
      "\u001b[0;31m---------------------------------------------------------------------------\u001b[0m",
      "\u001b[0;31mAttributeError\u001b[0m                            Traceback (most recent call last)",
      "\u001b[0;32m<ipython-input-17-7220011bfae7>\u001b[0m in \u001b[0;36m<module>\u001b[0;34m()\u001b[0m\n\u001b[1;32m      6\u001b[0m \u001b[0;32mprint\u001b[0m \u001b[0;34m\"type(f)\"\u001b[0m\u001b[0;34m,\u001b[0m \u001b[0mtype\u001b[0m\u001b[0;34m(\u001b[0m\u001b[0mf\u001b[0m\u001b[0;34m)\u001b[0m\u001b[0;34m\u001b[0m\u001b[0m\n\u001b[1;32m      7\u001b[0m \u001b[0;34m\u001b[0m\u001b[0m\n\u001b[0;32m----> 8\u001b[0;31m \u001b[0mg\u001b[0m \u001b[0;34m=\u001b[0m \u001b[0mf\u001b[0m\u001b[0;34m.\u001b[0m\u001b[0mpolynomial\u001b[0m\u001b[0;34m(\u001b[0m\u001b[0mQQ\u001b[0m\u001b[0;34m)\u001b[0m\u001b[0;34m\u001b[0m\u001b[0m\n\u001b[0m\u001b[1;32m      9\u001b[0m \u001b[0;34m\u001b[0m\u001b[0m\n\u001b[1;32m     10\u001b[0m \u001b[0;31m### put f as a polynomial with QQ (rational numbers) as coefficients\u001b[0m\u001b[0;34m\u001b[0m\u001b[0;34m\u001b[0m\u001b[0m\n",
      "\u001b[0;32msage/structure/element.pyx\u001b[0m in \u001b[0;36msage.structure.element.Element.__getattr__ (build/cythonized/sage/structure/element.c:4303)\u001b[0;34m()\u001b[0m\n",
      "\u001b[0;32msage/structure/element.pyx\u001b[0m in \u001b[0;36msage.structure.element.Element.getattr_from_category (build/cythonized/sage/structure/element.c:4412)\u001b[0;34m()\u001b[0m\n",
      "\u001b[0;32msage/cpython/getattr.pyx\u001b[0m in \u001b[0;36msage.cpython.getattr.getattr_from_other_class (build/cythonized/sage/cpython/getattr.c:1834)\u001b[0;34m()\u001b[0m\n",
      "\u001b[0;31mAttributeError\u001b[0m: 'sage.rings.real_mpfr.RealNumber' object has no attribute 'polynomial'"
     ]
    }
   ],
   "source": [
    "### functions related to polynomials\n",
    "\n",
    "f = x^2 + 2*x - 3\n",
    "\n",
    "### originally f is a symbolic expression\n",
    "print \"type(f)\", type(f)\n",
    "\n",
    "g = f.polynomial(QQ)\n",
    "\n",
    "### put f as a polynomial with QQ (rational numbers) as coefficients\n",
    "print \"type(g)\", type(g)"
   ]
  },
  {
   "cell_type": "code",
   "execution_count": 18,
   "metadata": {
    "scrolled": true
   },
   "outputs": [
    {
     "ename": "AttributeError",
     "evalue": "'sage.rings.real_mpfr.RealNumber' object has no attribute 'polynomial'",
     "output_type": "error",
     "traceback": [
      "\u001b[0;31m---------------------------------------------------------------------------\u001b[0m",
      "\u001b[0;31mAttributeError\u001b[0m                            Traceback (most recent call last)",
      "\u001b[0;32m<ipython-input-18-efbd6e69877f>\u001b[0m in \u001b[0;36m<module>\u001b[0;34m()\u001b[0m\n\u001b[0;32m----> 1\u001b[0;31m \u001b[0mf\u001b[0m \u001b[0;34m=\u001b[0m \u001b[0;34m(\u001b[0m\u001b[0mx\u001b[0m\u001b[0;34m**\u001b[0m\u001b[0mInteger\u001b[0m\u001b[0;34m(\u001b[0m\u001b[0;36m5\u001b[0m\u001b[0;34m)\u001b[0m\u001b[0;34m)\u001b[0m\u001b[0;34m.\u001b[0m\u001b[0mpolynomial\u001b[0m\u001b[0;34m(\u001b[0m\u001b[0mQQ\u001b[0m\u001b[0;34m)\u001b[0m\u001b[0;34m\u001b[0m\u001b[0m\n\u001b[0m\u001b[1;32m      2\u001b[0m \u001b[0;34m\u001b[0m\u001b[0m\n\u001b[1;32m      3\u001b[0m \u001b[0mprint_remainder\u001b[0m\u001b[0;34m(\u001b[0m\u001b[0mf\u001b[0m\u001b[0;34m,\u001b[0m\u001b[0mInteger\u001b[0m\u001b[0;34m(\u001b[0m\u001b[0;36m2\u001b[0m\u001b[0;34m)\u001b[0m\u001b[0;34m)\u001b[0m\u001b[0;34m\u001b[0m\u001b[0m\n",
      "\u001b[0;32msage/structure/element.pyx\u001b[0m in \u001b[0;36msage.structure.element.Element.__getattr__ (build/cythonized/sage/structure/element.c:4303)\u001b[0;34m()\u001b[0m\n",
      "\u001b[0;32msage/structure/element.pyx\u001b[0m in \u001b[0;36msage.structure.element.Element.getattr_from_category (build/cythonized/sage/structure/element.c:4412)\u001b[0;34m()\u001b[0m\n",
      "\u001b[0;32msage/cpython/getattr.pyx\u001b[0m in \u001b[0;36msage.cpython.getattr.getattr_from_other_class (build/cythonized/sage/cpython/getattr.c:1834)\u001b[0;34m()\u001b[0m\n",
      "\u001b[0;31mAttributeError\u001b[0m: 'sage.rings.real_mpfr.RealNumber' object has no attribute 'polynomial'"
     ]
    }
   ],
   "source": [
    "f = (x^5).polynomial(QQ)\n",
    "\n",
    "print_remainder(f,2)"
   ]
  },
  {
   "cell_type": "code",
   "execution_count": 19,
   "metadata": {},
   "outputs": [],
   "source": [
    "### sample code for recursive programming\n",
    "\n",
    "### suppose f(x) = a_0 + a_1(x-3) + a_2(x-3)^2 + ... + a_10(x-3)^10\n",
    "### let's find a_0, ..., a_10\n",
    "\n",
    "def print_remainder(f, a):\n",
    "    \"\"\"\n",
    "    Input:\n",
    "        f: a polynomial\n",
    "        a: a value\n",
    "    Output:\n",
    "        print a_0, ..., a_n recursively.\n",
    "    \"\"\"\n",
    "    if f == (0*x).polynomial(QQ):\n",
    "        return None\n",
    "    else:\n",
    "        quo, rem = f.quo_rem((x-a).polynomial(QQ))\n",
    "        print rem\n",
    "        print_remainder(quo, a)"
   ]
  },
  {
   "cell_type": "code",
   "execution_count": 20,
   "metadata": {},
   "outputs": [
    {
     "name": "stdout",
     "output_type": "stream",
     "text": [
      "first kind\n",
      "2.00000000000000\n",
      "2.90000000000000\n",
      "2.99000000000000\n",
      "2.99900000000000\n",
      "2.99990000000000\n",
      "2.99999000000000\n",
      "2.99999900000000\n",
      "2.99999990000000\n",
      "2.99999999000000\n",
      "2.99999999900000\n",
      "---\n",
      "second kind\n",
      "3.00000000000000\n",
      "3.10000000000000\n",
      "3.20000000000000\n",
      "3.30000000000000\n",
      "3.40000000000000\n",
      "3.50000000000000\n",
      "3.60000000000000\n",
      "3.70000000000000\n",
      "3.80000000000000\n",
      "3.90000000000000\n"
     ]
    }
   ],
   "source": [
    "###請問要如何讓迴圈中的i可以以小數點來計算?\n",
    "\n",
    "print 'first kind'\n",
    "for i in range(10):\n",
    "    k = 3 - 10^(-i)\n",
    "    print N(k)\n",
    "    \n",
    "print '---'\n",
    "print 'second kind'\n",
    "for i in range(10):\n",
    "    k = 3 + 0.1 * i\n",
    "    print k\n",
    "\n",
    "#for i in range(2,4):\n",
    "# g=(i+1)/(i^2+2*i-3)\n",
    "# print g;\n",
    "\n",
    "    \n",
    "### Jephian: I don't quite understand what you plan to do?"
   ]
  },
  {
   "cell_type": "code",
   "execution_count": 21,
   "metadata": {},
   "outputs": [
    {
     "ename": "AttributeError",
     "evalue": "'sage.rings.real_mpfr.RealNumber' object has no attribute 'polynomial'",
     "output_type": "error",
     "traceback": [
      "\u001b[0;31m---------------------------------------------------------------------------\u001b[0m",
      "\u001b[0;31mAttributeError\u001b[0m                            Traceback (most recent call last)",
      "\u001b[0;32m<ipython-input-21-d00c6443d239>\u001b[0m in \u001b[0;36m<module>\u001b[0;34m()\u001b[0m\n\u001b[0;32m----> 1\u001b[0;31m \u001b[0mf\u001b[0m \u001b[0;34m=\u001b[0m \u001b[0;34m(\u001b[0m\u001b[0mInteger\u001b[0m\u001b[0;34m(\u001b[0m\u001b[0;36m5\u001b[0m\u001b[0;34m)\u001b[0m\u001b[0;34m*\u001b[0m\u001b[0;34m(\u001b[0m\u001b[0mx\u001b[0m\u001b[0;34m-\u001b[0m\u001b[0mInteger\u001b[0m\u001b[0;34m(\u001b[0m\u001b[0;36m3\u001b[0m\u001b[0;34m)\u001b[0m\u001b[0;34m)\u001b[0m\u001b[0;34m**\u001b[0m\u001b[0mInteger\u001b[0m\u001b[0;34m(\u001b[0m\u001b[0;36m2\u001b[0m\u001b[0;34m)\u001b[0m \u001b[0;34m+\u001b[0m \u001b[0mInteger\u001b[0m\u001b[0;34m(\u001b[0m\u001b[0;36m3\u001b[0m\u001b[0;34m)\u001b[0m\u001b[0;34m*\u001b[0m\u001b[0;34m(\u001b[0m\u001b[0mx\u001b[0m\u001b[0;34m-\u001b[0m\u001b[0mInteger\u001b[0m\u001b[0;34m(\u001b[0m\u001b[0;36m3\u001b[0m\u001b[0;34m)\u001b[0m\u001b[0;34m)\u001b[0m\u001b[0;34m)\u001b[0m\u001b[0;34m.\u001b[0m\u001b[0mpolynomial\u001b[0m\u001b[0;34m(\u001b[0m\u001b[0mQQ\u001b[0m\u001b[0;34m)\u001b[0m\u001b[0;34m\u001b[0m\u001b[0m\n\u001b[0m\u001b[1;32m      2\u001b[0m \u001b[0;34m\u001b[0m\u001b[0m\n\u001b[1;32m      3\u001b[0m \u001b[0mprint_remainder\u001b[0m\u001b[0;34m(\u001b[0m\u001b[0mf\u001b[0m\u001b[0;34m,\u001b[0m\u001b[0mInteger\u001b[0m\u001b[0;34m(\u001b[0m\u001b[0;36m3\u001b[0m\u001b[0;34m)\u001b[0m\u001b[0;34m)\u001b[0m\u001b[0;34m\u001b[0m\u001b[0m\n\u001b[1;32m      4\u001b[0m \u001b[0;34m\u001b[0m\u001b[0m\n",
      "\u001b[0;32msage/structure/element.pyx\u001b[0m in \u001b[0;36msage.structure.element.Element.__getattr__ (build/cythonized/sage/structure/element.c:4303)\u001b[0;34m()\u001b[0m\n",
      "\u001b[0;32msage/structure/element.pyx\u001b[0m in \u001b[0;36msage.structure.element.Element.getattr_from_category (build/cythonized/sage/structure/element.c:4412)\u001b[0;34m()\u001b[0m\n",
      "\u001b[0;32msage/cpython/getattr.pyx\u001b[0m in \u001b[0;36msage.cpython.getattr.getattr_from_other_class (build/cythonized/sage/cpython/getattr.c:1834)\u001b[0;34m()\u001b[0m\n",
      "\u001b[0;31mAttributeError\u001b[0m: 'sage.rings.real_mpfr.RealNumber' object has no attribute 'polynomial'"
     ]
    }
   ],
   "source": [
    "f = (5*(x-3)^2 + 3*(x-3)).polynomial(QQ)\n",
    "\n",
    "print_remainder(f,3)\n",
    "\n"
   ]
  }
 ],
 "metadata": {
  "kernelspec": {
   "display_name": "SageMath 8.1",
   "language": "",
   "name": "sagemath"
  },
  "language_info": {
   "codemirror_mode": {
    "name": "ipython",
    "version": 2
   },
   "file_extension": ".py",
   "mimetype": "text/x-python",
   "name": "python",
   "nbconvert_exporter": "python",
   "pygments_lexer": "ipython2",
   "version": "2.7.15rc1"
  }
 },
 "nbformat": 4,
 "nbformat_minor": 1
}
