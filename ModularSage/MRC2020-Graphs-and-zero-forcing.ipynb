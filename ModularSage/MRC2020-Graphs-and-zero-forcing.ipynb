{
 "cells": [
  {
   "cell_type": "markdown",
   "metadata": {},
   "source": [
    "# Graphs and zero forcing"
   ]
  },
  {
   "cell_type": "markdown",
   "metadata": {},
   "source": [
    "![Creative Commons License](https://i.creativecommons.org/l/by/4.0/88x31.png)\n",
    "This work by Jephian Lin is licensed under a [Creative Commons Attribution 4.0 International License](http://creativecommons.org/licenses/by/4.0/)."
   ]
  },
  {
   "cell_type": "markdown",
   "metadata": {},
   "source": [
    "## Create a graph"
   ]
  },
  {
   "cell_type": "markdown",
   "metadata": {},
   "source": [
    "There are many **built-in graphs**  \n",
    "under the `graphs` module."
   ]
  },
  {
   "cell_type": "code",
   "execution_count": 1,
   "metadata": {},
   "outputs": [
    {
     "data": {
      "image/png": "[encoded data removed]",
      "text/plain": [
       "Graphics object consisting of 10 graphics primitives"
      ]
     },
     "metadata": {},
     "output_type": "display_data"
    }
   ],
   "source": [
    "g = graphs.PathGraph(5)\n",
    "# g = graphs.CycleGraph(5)\n",
    "# g = graphs.PetersenGraph()\n",
    "g.show()"
   ]
  },
  {
   "cell_type": "markdown",
   "metadata": {},
   "source": [
    "Or, one may use  \n",
    "the **vertex set** and the **edge set**  \n",
    "to define a graph."
   ]
  },
  {
   "cell_type": "code",
   "execution_count": 3,
   "metadata": {},
   "outputs": [
    {
     "data": {
      "image/png": "[encoded data removed]",
      "text/plain": [
       "Graphics object consisting of 10 graphics primitives"
      ]
     },
     "metadata": {},
     "output_type": "display_data"
    }
   ],
   "source": [
    "V = [0,1,2,3,4]\n",
    "E = [(0,1), (1,2), (2,3), (3,4)]\n",
    "g = Graph([V,E])\n",
    "g.show()"
   ]
  },
  {
   "cell_type": "markdown",
   "metadata": {},
   "source": [
    "Alternatively,  \n",
    "build the graph by **adding vertices/edges**."
   ]
  },
  {
   "cell_type": "code",
   "execution_count": 6,
   "metadata": {},
   "outputs": [
    {
     "data": {
      "image/png": "[encoded data removed]",
      "text/plain": [
       "Graphics object consisting of 10 graphics primitives"
      ]
     },
     "metadata": {},
     "output_type": "display_data"
    }
   ],
   "source": [
    "### start with one vertex without any edge\n",
    "g = Graph(1) \n",
    "### keep adding vertices and edges\n",
    "for i in range(1,5):\n",
    "    g.add_vertex(i)\n",
    "    g.add_edge(i,i-1)\n",
    "g.show()"
   ]
  },
  {
   "cell_type": "markdown",
   "metadata": {},
   "source": [
    "The `show` function  \n",
    "has many keywords for you  \n",
    "to adjust the **graph illustration**.\n",
    "\n",
    "See [Sage Reference Manual](http://doc.sagemath.org/html/en/reference/plotting/sage/graphs/graph_plot.html) for more details."
   ]
  },
  {
   "cell_type": "code",
   "execution_count": 11,
   "metadata": {},
   "outputs": [
    {
     "data": {
      "image/png": "[encoded data removed]",
      "text/plain": [
       "Graphics object consisting of 5 graphics primitives"
      ]
     },
     "metadata": {},
     "output_type": "display_data"
    }
   ],
   "source": [
    "g = graphs.PathGraph(5)\n",
    "g.show(figsize=[3,3], \n",
    "       vertex_labels=False, \n",
    "       vertex_size=30\n",
    "      )"
   ]
  },
  {
   "cell_type": "markdown",
   "metadata": {},
   "source": [
    "## Work on a grpah"
   ]
  },
  {
   "cell_type": "markdown",
   "metadata": {},
   "source": [
    "Once a graph `g` is built,  \n",
    "there are many **associated functions**.  \n",
    "\n",
    "When the cursor is at the end of `g.`  \n",
    "press `tab` to see them."
   ]
  },
  {
   "cell_type": "code",
   "execution_count": null,
   "metadata": {},
   "outputs": [],
   "source": [
    "g."
   ]
  },
  {
   "cell_type": "markdown",
   "metadata": {},
   "source": [
    "Thus, you may easily call  \n",
    "the **adjacency matrix** or the **Laplacian matrix**."
   ]
  },
  {
   "cell_type": "code",
   "execution_count": 19,
   "metadata": {},
   "outputs": [
    {
     "data": {
      "text/plain": [
       "[0 1 0 0 0]\n",
       "[1 0 1 0 0]\n",
       "[0 1 0 1 0]\n",
       "[0 0 1 0 1]\n",
       "[0 0 0 1 0]"
      ]
     },
     "execution_count": 19,
     "metadata": {},
     "output_type": "execute_result"
    }
   ],
   "source": [
    "g = graphs.PathGraph(5)\n",
    "A = g.adjacency_matrix()\n",
    "# A = g.laplacian_matrix()\n",
    "A"
   ]
  },
  {
   "cell_type": "markdown",
   "metadata": {},
   "source": [
    "Find the **vertex set**  \n",
    "and the **edge set**."
   ]
  },
  {
   "cell_type": "code",
   "execution_count": 18,
   "metadata": {},
   "outputs": [
    {
     "name": "stdout",
     "output_type": "stream",
     "text": [
      "V: [0, 1, 2, 3, 4]\n",
      "E_with_label [(0, 1, None), (1, 2, None), (2, 3, None), (3, 4, None)]\n",
      "E_without_label [(0, 1), (1, 2), (2, 3), (3, 4)]\n"
     ]
    }
   ],
   "source": [
    "g = graphs.PathGraph(5)\n",
    "V = g.vertices()\n",
    "E_with_label = g.edges()\n",
    "E_without_label = g.edges(labels=False)\n",
    "print('V:', V)\n",
    "print('E_with_label', E_with_label)\n",
    "print('E_without_label', E_without_label)"
   ]
  },
  {
   "cell_type": "markdown",
   "metadata": {},
   "source": [
    "Find the **neighbors**  \n",
    "of a vertex."
   ]
  },
  {
   "cell_type": "code",
   "execution_count": 20,
   "metadata": {},
   "outputs": [
    {
     "data": {
      "text/plain": [
       "[0, 2]"
      ]
     },
     "execution_count": 20,
     "metadata": {},
     "output_type": "execute_result"
    }
   ],
   "source": [
    "g = graphs.PathGraph(5)\n",
    "g.neighbors(1)"
   ]
  },
  {
   "cell_type": "markdown",
   "metadata": {},
   "source": [
    "Call the (induced) **subgraph**."
   ]
  },
  {
   "cell_type": "code",
   "execution_count": 21,
   "metadata": {},
   "outputs": [
    {
     "data": {
      "image/png": "[encoded data removed]",
      "text/plain": [
       "Subgraph of (Path graph): Graph on 4 vertices"
      ]
     },
     "execution_count": 21,
     "metadata": {},
     "output_type": "execute_result"
    }
   ],
   "source": [
    "g = graphs.PathGraph(5)\n",
    "g.subgraph([0,1,3,4])"
   ]
  },
  {
   "cell_type": "markdown",
   "metadata": {},
   "source": [
    "[nauty and Traces](http://pallini.di.uniroma1.it/)  \n",
    "are programs developed by Brendan McKay and Adolfo Piperno  \n",
    "used for computing graph automorphism,  \n",
    "testing graph isomorphism, generating non-isomorphic graphs,  \n",
    "and many more.\n",
    "\n",
    "One may use Sage to call `nauty`  \n",
    "and **search for graphs**.  \n",
    "\n",
    "In the example below,  \n",
    "`4 -c` stands for 4 vertices and connected graphs."
   ]
  },
  {
   "cell_type": "code",
   "execution_count": 24,
   "metadata": {},
   "outputs": [
    {
     "data": {
      "image/png": "[encoded data removed]",
      "text/plain": [
       "Graphics object consisting of 4 graphics primitives"
      ]
     },
     "metadata": {},
     "output_type": "display_data"
    },
    {
     "data": {
      "image/png": "[encoded data removed]",
      "text/plain": [
       "Graphics object consisting of 4 graphics primitives"
      ]
     },
     "metadata": {},
     "output_type": "display_data"
    },
    {
     "data": {
      "image/png": "[encoded data removed]",
      "text/plain": [
       "Graphics object consisting of 5 graphics primitives"
      ]
     },
     "metadata": {},
     "output_type": "display_data"
    },
    {
     "data": {
      "image/png": "[encoded data removed]",
      "text/plain": [
       "Graphics object consisting of 5 graphics primitives"
      ]
     },
     "metadata": {},
     "output_type": "display_data"
    },
    {
     "data": {
      "image/png": "[encoded data removed]",
      "text/plain": [
       "Graphics object consisting of 6 graphics primitives"
      ]
     },
     "metadata": {},
     "output_type": "display_data"
    },
    {
     "data": {
      "image/png": "[encoded data removed]",
      "text/plain": [
       "Graphics object consisting of 7 graphics primitives"
      ]
     },
     "metadata": {},
     "output_type": "display_data"
    }
   ],
   "source": [
    "for g in graphs.nauty_geng('4 -c'):\n",
    "    g.show(figsize=[2,2], \n",
    "       vertex_labels=False, \n",
    "       vertex_size=30\n",
    "          )"
   ]
  },
  {
   "cell_type": "markdown",
   "metadata": {},
   "source": [
    "Each graph under a labeling  \n",
    "has a **graph6 string**."
   ]
  },
  {
   "cell_type": "code",
   "execution_count": 31,
   "metadata": {},
   "outputs": [
    {
     "data": {
      "text/plain": [
       "'Cl'"
      ]
     },
     "execution_count": 31,
     "metadata": {},
     "output_type": "execute_result"
    }
   ],
   "source": [
    "g = graphs.CycleGraph(4)\n",
    "g.graph6_string()"
   ]
  },
  {
   "cell_type": "markdown",
   "metadata": {},
   "source": [
    "Different labelings  \n",
    "results in different strings."
   ]
  },
  {
   "cell_type": "code",
   "execution_count": 33,
   "metadata": {},
   "outputs": [
    {
     "data": {
      "text/plain": [
       "'C]'"
      ]
     },
     "execution_count": 33,
     "metadata": {},
     "output_type": "execute_result"
    }
   ],
   "source": [
    "h = graphs.CompleteBipartiteGraph(2,2)\n",
    "h.graph6_string()"
   ]
  },
  {
   "cell_type": "markdown",
   "metadata": {},
   "source": [
    "Each graph has a **canonical labeling**  \n",
    "that provides a \"standard\" way  \n",
    "to label the graph.  \n",
    "\n",
    "Thus, one may use it to test isomorphism."
   ]
  },
  {
   "cell_type": "code",
   "execution_count": 36,
   "metadata": {},
   "outputs": [
    {
     "name": "stdout",
     "output_type": "stream",
     "text": [
      "Cr\n",
      "Cr\n"
     ]
    }
   ],
   "source": [
    "g = graphs.CycleGraph(4)\n",
    "h = graphs.CompleteBipartiteGraph(2,2)\n",
    "print(g.canonical_label().graph6_string())\n",
    "print(h.canonical_label().graph6_string())"
   ]
  },
  {
   "cell_type": "markdown",
   "metadata": {},
   "source": [
    "## Zero forcing"
   ]
  },
  {
   "cell_type": "markdown",
   "metadata": {},
   "source": [
    "[Minimum Rank Sage Library](https://github.com/jephianlin/mr_JG):  computing bounds of minimum rank, and many other features.  \n",
    "[minrank_aux](https://github.com/jephianlin/minrank_aux):  auxiliary tools for the minimum rank problem  \n",
    "\n",
    "The `load_all` function is provided  \n",
    "to load both libraries."
   ]
  },
  {
   "cell_type": "markdown",
   "metadata": {},
   "source": [
    "If the output reaches the line\n",
    "\n",
    "    Loading matrix_forcing.py...  \n",
    "\n",
    "then it is likely to work.  \n",
    "\n",
    "If there is any error,  \n",
    "please report it to Jephian Lin `jephianlin [at] gmail [dot] com`."
   ]
  },
  {
   "cell_type": "code",
   "execution_count": 1,
   "metadata": {
    "scrolled": false
   },
   "outputs": [
    {
     "name": "stdout",
     "output_type": "stream",
     "text": [
      "xrange test failed: define xrange = range\n",
      "Loading Zq_c.pyx...\n"
     ]
    },
    {
     "name": "stderr",
     "output_type": "stream",
     "text": [
      "Compiling /home/jephian/.sage/temp/webwork/8835/tmp__zp3u4dr.pyx...\n"
     ]
    },
    {
     "name": "stdout",
     "output_type": "stream",
     "text": [
      "Loading Zq.py...\n",
      "Loading zero_forcing_64.pyx...\n"
     ]
    },
    {
     "name": "stderr",
     "output_type": "stream",
     "text": [
      "Compiling /home/jephian/.sage/temp/webwork/8835/tmp_vrkgv6jw.pyx...\n"
     ]
    },
    {
     "name": "stdout",
     "output_type": "stream",
     "text": [
      "Loading zero_forcing_wavefront.pyx...\n"
     ]
    },
    {
     "name": "stderr",
     "output_type": "stream",
     "text": [
      "Compiling /home/jephian/.sage/temp/webwork/8835/tmp_vg849osa.pyx...\n"
     ]
    },
    {
     "name": "stdout",
     "output_type": "stream",
     "text": [
      "Loading minrank.py...\n",
      "Loading inertia.py...\n",
      "Loading general_Lib.sage...\n",
      "---sshow, multi_sshow, tuple_generator, minimal_graphs, empty_array, all_one_matrix, elementary_matrix, eigens_multi, sort_dictionary, has_minor, etc.\n",
      "Loading oc_diag_analysis.sage...\n",
      "---gZ_leq, find_gZ, find_EZ, diagonal_analysis, etc.\n",
      "Loading xi_dict.py...\n",
      "---SAPreduced_matrix, has_SAP, find_ZFloor, Zsap, etc.\n",
      "Loading mu_dict.py...\n",
      "---get_mu_from_dict, find_mu, etc.\n",
      "Loading SXP.sage...\n",
      "This code contains extra copy of Z_game, Zell_game, Zplus_game, for the completeness of Zsap_game program.\n",
      "Loading matrix_forcing.py...\n"
     ]
    }
   ],
   "source": [
    "load(\"https://raw.githubusercontent.com/jephianlin/minrank_aux/master/load_all.py\")\n",
    "load_all()"
   ]
  },
  {
   "cell_type": "markdown",
   "metadata": {},
   "source": [
    "There have been many attempts to  \n",
    "implement efficient program for zero forcing.\n",
    "- `find_Z`: return $Z(G)$ \n",
    "- `zero_forcing_set_bruteforce`: return a minimum zero forcing set\n",
    "- `zero_forcing_set_wavefront`: return a minimum zero forcing set, using the wavefront algorithm\n",
    "- `zerosgame`: return the derived set"
   ]
  },
  {
   "cell_type": "code",
   "execution_count": 12,
   "metadata": {},
   "outputs": [
    {
     "name": "stdout",
     "output_type": "stream",
     "text": [
      "Z(G) is 5\n",
      "A zero forcing set is {0, 1, 2, 3, 4}\n"
     ]
    }
   ],
   "source": [
    "g = graphs.PetersenGraph()\n",
    "print('Z(G) is', find_Z(g))\n",
    "print('A zero forcing set is', zero_forcing_set_bruteforce(g))"
   ]
  },
  {
   "cell_type": "markdown",
   "metadata": {},
   "source": [
    "The wavefront algorithm provides  \n",
    "efficient way to compute the minimum zero forcing set.  \n",
    "\n",
    "The output is a tuple containing  \n",
    "the zero forcing number,  \n",
    "a zero forcing set, and  \n",
    "the number of closures."
   ]
  },
  {
   "cell_type": "code",
   "execution_count": 16,
   "metadata": {},
   "outputs": [
    {
     "data": {
      "text/plain": [
       "(5, [0, 2, 4, 5, 7], 26)"
      ]
     },
     "execution_count": 16,
     "metadata": {},
     "output_type": "execute_result"
    }
   ],
   "source": [
    "g = graphs.PetersenGraph()\n",
    "zero_forcing_set_wavefront(g)"
   ]
  },
  {
   "cell_type": "markdown",
   "metadata": {},
   "source": [
    "The function `zerosgame(graph, initial_set)`  \n",
    "will return the derived set on `graph`  \n",
    "starting with `initial_set`."
   ]
  },
  {
   "cell_type": "code",
   "execution_count": 17,
   "metadata": {},
   "outputs": [
    {
     "data": {
      "text/plain": [
       "[0, 1, 2, 3, 4]"
      ]
     },
     "execution_count": 17,
     "metadata": {},
     "output_type": "execute_result"
    }
   ],
   "source": [
    "g = graphs.PathGraph(5)\n",
    "zerosgame(g, [0])"
   ]
  },
  {
   "cell_type": "markdown",
   "metadata": {},
   "source": [
    "There are functions for  \n",
    "the variants of zero forcing:\n",
    "- `Zplus`: positive semidefinite zero forcing $Z_+(G)$\n",
    "- `find_loopedZ`: zero forcing for loop graphs\n",
    "- `find_EZ`: enhanced zero forcing $\\widehat{Z}(G)$"
   ]
  },
  {
   "cell_type": "markdown",
   "metadata": {},
   "source": [
    "### Exercises"
   ]
  },
  {
   "cell_type": "markdown",
   "metadata": {},
   "source": [
    "##### Exercise\n",
    "Create a double star `g` on $10$ vertices  \n",
    "with $3$ leaves sharing a common neighbor  \n",
    "and another $5$ leaves sharing another common neighbor."
   ]
  },
  {
   "cell_type": "code",
   "execution_count": 24,
   "metadata": {},
   "outputs": [],
   "source": [
    "### your answer here"
   ]
  },
  {
   "cell_type": "markdown",
   "metadata": {},
   "source": [
    "##### Exercise\n",
    "Create the $5$-sun `g` on 10 vertices  \n",
    "obtained by adding 5 leaves to  \n",
    "each vertices of $C_5$."
   ]
  },
  {
   "cell_type": "code",
   "execution_count": 24,
   "metadata": {},
   "outputs": [],
   "source": [
    "### your answer here"
   ]
  },
  {
   "cell_type": "markdown",
   "metadata": {},
   "source": [
    "##### Exercise\n",
    "Create a graph `g` on 10 vertices  \n",
    "obtained from three disjoint paths $P_4$  \n",
    "by picking an endpoint from each of them  \n",
    "and identifying these endpoints."
   ]
  },
  {
   "cell_type": "code",
   "execution_count": 24,
   "metadata": {},
   "outputs": [],
   "source": [
    "### your answer here"
   ]
  },
  {
   "cell_type": "markdown",
   "metadata": {},
   "source": [
    "##### Exercise\n",
    "Search through all connected graphs on 5 vertices  \n",
    "print the graph6 string and the zero forcing number  \n",
    "for each of them.  \n",
    "\n",
    "Which one has the largest zero forcing number?  \n",
    "Which one has the smallest zero forcing number?"
   ]
  },
  {
   "cell_type": "code",
   "execution_count": 24,
   "metadata": {},
   "outputs": [],
   "source": [
    "### your answer here"
   ]
  },
  {
   "cell_type": "markdown",
   "metadata": {},
   "source": [
    "##### Exercise\n",
    "Let `g` be a graph  \n",
    "and `B` a list of vertices of `g`.  \n",
    "\n",
    "Write a function to test  \n",
    "if any forces can be performed  \n",
    "on `g` with the blue vertices `B`."
   ]
  },
  {
   "cell_type": "code",
   "execution_count": 24,
   "metadata": {},
   "outputs": [],
   "source": [
    "### your answer here"
   ]
  },
  {
   "cell_type": "markdown",
   "metadata": {},
   "source": [
    "##### Exercise\n",
    "Write a function `my_zfgame(g, B)`  \n",
    "that compute the derived set of `B` on `g`.  \n",
    "(That is, write `zerosgame` by yourself.)"
   ]
  },
  {
   "cell_type": "code",
   "execution_count": 24,
   "metadata": {},
   "outputs": [],
   "source": [
    "### your answer here"
   ]
  },
  {
   "cell_type": "markdown",
   "metadata": {},
   "source": [
    "##### Exercise\n",
    "The code below allows you to  \n",
    "run through all the posisble `k`-subset of `V`.\n",
    "```\n",
    "for com in Combinations(V, k):\n",
    "    print(com)\n",
    "```\n",
    "Use it along with your `my_zfgame`  \n",
    "to write a function  \n",
    "for computing the zero forcing number."
   ]
  },
  {
   "cell_type": "code",
   "execution_count": 24,
   "metadata": {},
   "outputs": [],
   "source": [
    "### your answer here"
   ]
  },
  {
   "cell_type": "markdown",
   "metadata": {},
   "source": [
    "##### Exercise\n",
    "A **fort** on a graph $G$  \n",
    "is a set $F$ of vertices such that  \n",
    "every vertex outside $F$  \n",
    "has either no or more than two neighbors in $F$.  \n",
    "(A zero forcing set must intersect with a fort.)\n",
    "\n",
    "Write a function `is_fort(g, F)`  \n",
    "to test if a list `F` is a fort of `g` or not. "
   ]
  },
  {
   "cell_type": "code",
   "execution_count": 24,
   "metadata": {},
   "outputs": [],
   "source": [
    "### your answer here"
   ]
  },
  {
   "cell_type": "code",
   "execution_count": null,
   "metadata": {},
   "outputs": [],
   "source": []
  }
 ],
 "metadata": {
  "kernelspec": {
   "display_name": "SageMath 9.0",
   "language": "sage",
   "name": "sagemath"
  },
  "language_info": {
   "codemirror_mode": {
    "name": "ipython",
    "version": 3
   },
   "file_extension": ".py",
   "mimetype": "text/x-python",
   "name": "python",
   "nbconvert_exporter": "python",
   "pygments_lexer": "ipython3",
   "version": "3.7.6"
  }
 },
 "nbformat": 4,
 "nbformat_minor": 2
}
