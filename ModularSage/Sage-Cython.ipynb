{
 "cells": [
  {
   "cell_type": "markdown",
   "metadata": {},
   "source": [
    "# Sage Special Topics: Cython"
   ]
  },
  {
   "cell_type": "markdown",
   "metadata": {},
   "source": [
    "## Overview"
   ]
  },
  {
   "cell_type": "markdown",
   "metadata": {},
   "source": [
    "[Cython](https://cython.org/) is a compiler  \n",
    "for the Python programming language along with  \n",
    "the extended Cython programming language.  \n",
    "This combination allows you to enjoy  \n",
    "the readability of Python and \n",
    "the efficiency of C.\n",
    "\n",
    "This means you may:  \n",
    "- use the **static data type in C** to speed up the program,  \n",
    "- **wrap C functions** into Python interface, and  \n",
    "- yet more features that I don't totally understand.\n",
    "\n",
    "Sage developing team plays an important role  \n",
    "in building up Cython; see [the history of Cython](https://en.wikipedia.org/wiki/Cython#History).  \n",
    "However, Cython is not limited to the Sage environment,  \n",
    "and this tutorial is also applicable for general Python users."
   ]
  },
  {
   "cell_type": "markdown",
   "metadata": {},
   "source": [
    "## Installation"
   ]
  },
  {
   "cell_type": "markdown",
   "metadata": {},
   "source": [
    "If you are using a Sage notebook,  \n",
    "or a Jupyter notebook under the Sage kernel,  \n",
    "you may ignore this section."
   ]
  },
  {
   "cell_type": "markdown",
   "metadata": {},
   "source": [
    "For general Python users,  \n",
    "you may use  \n",
    "```Python\n",
    "pip install Cython --user\n",
    "```\n",
    "to **install** Cython on your machine.  "
   ]
  },
  {
   "cell_type": "markdown",
   "metadata": {},
   "source": [
    "To use it in a Jupyter notebook under the Python kernel,  \n",
    "you have to run the following cell  \n",
    "to **activate** the Cython extension."
   ]
  },
  {
   "cell_type": "code",
   "execution_count": 6,
   "metadata": {},
   "outputs": [],
   "source": [
    "%load_ext Cython"
   ]
  },
  {
   "cell_type": "markdown",
   "metadata": {},
   "source": [
    "For using Cython in the console or other IDEs,  \n",
    "please refer to the [Workflow](#Workflow) section."
   ]
  },
  {
   "cell_type": "markdown",
   "metadata": {},
   "source": [
    "## Workflow"
   ]
  },
  {
   "cell_type": "markdown",
   "metadata": {},
   "source": [
    "As mentioned before,  \n",
    "Cython is a **compiler** rather than an interpreter,  \n",
    "so each piece of the code need to be compiled before execution."
   ]
  },
  {
   "cell_type": "markdown",
   "metadata": {},
   "source": [
    "Here is the basic workflow: (See [Basic Tutorial](https://cython.readthedocs.io/en/latest/src/tutorial/cython_tutorial.html) of the official Cython documentation for more details.)  \n",
    "- Prepare a `cython_code.pyx` file that contains your Cython code.\n",
    "- Prepare a `setup.py` file that contains the setup information.\n",
    "- run `python setup.py build_ext --inplace` in the terminal  \n",
    "to generate `cython_code.so` (unix) or `cython_code.pyd` (Windows).\n",
    "- In another Python file or in a Jupyter notebook, `import cython_code`."
   ]
  },
  {
   "cell_type": "markdown",
   "metadata": {},
   "source": [
    "Sample `cython_code.pyx`:"
   ]
  },
  {
   "cell_type": "markdown",
   "metadata": {},
   "source": [
    "```Python\n",
    "def print_interest():\n",
    "    print(\"I love Math!\")\n",
    "```"
   ]
  },
  {
   "cell_type": "markdown",
   "metadata": {},
   "source": [
    "Sample `setup.py`:"
   ]
  },
  {
   "cell_type": "markdown",
   "metadata": {},
   "source": [
    "```Python\n",
    "from setuptools import setup\n",
    "from Cython.Build import cythonize\n",
    "\n",
    "setup(\n",
    "    ext_modules = cythonize(\"cython_code.pyx\")\n",
    ")\n",
    "```"
   ]
  },
  {
   "cell_type": "markdown",
   "metadata": {},
   "source": [
    "Sample usage:"
   ]
  },
  {
   "cell_type": "markdown",
   "metadata": {},
   "source": [
    "```Python\n",
    "import cython_code\n",
    "\n",
    "print_interest()\n",
    "```"
   ]
  },
  {
   "cell_type": "markdown",
   "metadata": {},
   "source": [
    "Jupyter wrap this process  \n",
    "by the `%%cython` magic function  \n",
    "(`%cython` in SageNB).  \n",
    "\n",
    "Let's look at an example below."
   ]
  },
  {
   "cell_type": "markdown",
   "metadata": {},
   "source": [
    "## A quick example"
   ]
  },
  {
   "cell_type": "markdown",
   "metadata": {},
   "source": [
    "Here is a piece of Python code  \n",
    "that calculates all primes below or equal to `n`."
   ]
  },
  {
   "cell_type": "code",
   "execution_count": 3,
   "metadata": {},
   "outputs": [],
   "source": [
    "def a_prime(p):\n",
    "    \"\"\"Tell p is a prime or not\"\"\"\n",
    "    for i in range(2,p):\n",
    "        if p % i == 0:\n",
    "            return False\n",
    "    else:\n",
    "        return True\n",
    "\n",
    "def primes_below(n):\n",
    "    \"\"\"Return all primes below or equal to n\"\"\"\n",
    "    primes = [p for p in range(2,n+1) if a_prime(p)]\n",
    "    return primes"
   ]
  },
  {
   "cell_type": "code",
   "execution_count": 4,
   "metadata": {},
   "outputs": [
    {
     "name": "stdout",
     "output_type": "stream",
     "text": [
      "1 loop, best of 3: 230 ms per loop\n"
     ]
    }
   ],
   "source": [
    "%%timeit\n",
    "primes = primes_below(10000)"
   ]
  },
  {
   "cell_type": "markdown",
   "metadata": {},
   "source": [
    "If you are using Jupyter,  \n",
    "simply **add `%%cython` to the first line** of the target cell.  \n",
    "Thus, the code in the cell will be compiled  \n",
    "and then imported into the notebook automatically.  \n",
    "(The same process as in the workflow.)"
   ]
  },
  {
   "cell_type": "markdown",
   "metadata": {},
   "source": [
    "If you use pure Python,  \n",
    "remember to activate the extension first.\n",
    "```Python\n",
    "%load_ext Cython\n",
    "```"
   ]
  },
  {
   "cell_type": "markdown",
   "metadata": {},
   "source": [
    "If you use SageNB, \n",
    "then add `%cython` instead."
   ]
  },
  {
   "cell_type": "code",
   "execution_count": 5,
   "metadata": {},
   "outputs": [],
   "source": [
    "%%cython\n",
    "\n",
    "def a_prime_pinc(p):\n",
    "    \"\"\"Tell p is a prime or not\"\"\"\n",
    "    for i in range(2,p):\n",
    "        if p % i == 0:\n",
    "            return False\n",
    "    else:\n",
    "        return True\n",
    "\n",
    "def primes_below_pinc(n):\n",
    "    \"\"\"Return all primes below or equal to n\"\"\"\n",
    "    primes = [p for p in range(2,n+1) if a_prime_pinc(p)]\n",
    "    return primes"
   ]
  },
  {
   "cell_type": "code",
   "execution_count": 6,
   "metadata": {},
   "outputs": [
    {
     "name": "stdout",
     "output_type": "stream",
     "text": [
      "10 loops, best of 3: 148 ms per loop\n"
     ]
    }
   ],
   "source": [
    "%%timeit\n",
    "primes = primes_below_pinc(10000)"
   ]
  },
  {
   "cell_type": "markdown",
   "metadata": {},
   "source": [
    "By compiling the code through Cython,  \n",
    "it already speed up the code  \n",
    "without doing anything further."
   ]
  },
  {
   "cell_type": "markdown",
   "metadata": {},
   "source": [
    "If we appropriately change some  \n",
    "dynamic data types in Python  \n",
    "to **static data types** in C,  \n",
    "then this will enhance the performance further."
   ]
  },
  {
   "cell_type": "code",
   "execution_count": 119,
   "metadata": {},
   "outputs": [],
   "source": [
    "%%cython\n",
    "\n",
    "cdef bint a_prime_c(int p):\n",
    "    cdef int i\n",
    "    for i in range(2,p):\n",
    "        if p % i == 0:\n",
    "            return False\n",
    "    else:\n",
    "        return True\n",
    "\n",
    "cpdef primes_below_c(int n):\n",
    "    primes = [p for p in range(2,n+1) if a_prime_c(p)]\n",
    "    return primes"
   ]
  },
  {
   "cell_type": "code",
   "execution_count": 120,
   "metadata": {
    "scrolled": true
   },
   "outputs": [
    {
     "name": "stdout",
     "output_type": "stream",
     "text": [
      "100 loops, best of 5: 10.2 ms per loop\n"
     ]
    }
   ],
   "source": [
    "%%timeit\n",
    "primes = primes_below_c(10000)"
   ]
  },
  {
   "cell_type": "markdown",
   "metadata": {},
   "source": [
    "## Static data types"
   ]
  },
  {
   "cell_type": "markdown",
   "metadata": {},
   "source": [
    "Use `cdef` to **declare a static data type** or  \n",
    "define a function."
   ]
  },
  {
   "cell_type": "code",
   "execution_count": 27,
   "metadata": {},
   "outputs": [],
   "source": [
    "%%cython\n",
    "\n",
    "cdef int a = 1\n",
    "print(a)"
   ]
  },
  {
   "cell_type": "code",
   "execution_count": 32,
   "metadata": {},
   "outputs": [
    {
     "name": "stdout",
     "output_type": "stream",
     "text": [
      "2\n"
     ]
    }
   ],
   "source": [
    "%%cython\n",
    "\n",
    "cdef int plus_one(int x):\n",
    "    return x+1\n",
    "\n",
    "print(plus_one(1))"
   ]
  },
  {
   "cell_type": "markdown",
   "metadata": {},
   "source": [
    "But then this variable or function is not accessible by other cells."
   ]
  },
  {
   "cell_type": "code",
   "execution_count": null,
   "metadata": {},
   "outputs": [],
   "source": [
    "a ### result in an error"
   ]
  },
  {
   "cell_type": "code",
   "execution_count": null,
   "metadata": {},
   "outputs": [],
   "source": [
    "plus_one(1) ### result in an error"
   ]
  },
  {
   "cell_type": "markdown",
   "metadata": {},
   "source": [
    "If necessary, use `cpdef` to  \n",
    "define a function and  \n",
    "**wrap it with a Python interface**.  "
   ]
  },
  {
   "cell_type": "code",
   "execution_count": 37,
   "metadata": {},
   "outputs": [
    {
     "name": "stdout",
     "output_type": "stream",
     "text": [
      "3\n"
     ]
    }
   ],
   "source": [
    "%%cython\n",
    "\n",
    "cpdef int plus_two(int x):\n",
    "    return x+2\n",
    "\n",
    "print(plus_two(1))"
   ]
  },
  {
   "cell_type": "code",
   "execution_count": 38,
   "metadata": {},
   "outputs": [
    {
     "data": {
      "text/plain": [
       "3"
      ]
     },
     "execution_count": 38,
     "metadata": {},
     "output_type": "execute_result"
    }
   ],
   "source": [
    "plus_two(1)"
   ]
  },
  {
   "cell_type": "markdown",
   "metadata": {},
   "source": [
    "Recall that you can still use `def` in Cython,  \n",
    "but it does not support static typing for the function.  \n",
    "(Static typing for the arguments is okay.)"
   ]
  },
  {
   "cell_type": "code",
   "execution_count": 40,
   "metadata": {},
   "outputs": [
    {
     "name": "stdout",
     "output_type": "stream",
     "text": [
      "4\n"
     ]
    }
   ],
   "source": [
    "%%cython\n",
    "\n",
    "def plus_three(int x):\n",
    "    return x+3\n",
    "\n",
    "print(plus_three(1))"
   ]
  },
  {
   "cell_type": "code",
   "execution_count": 41,
   "metadata": {},
   "outputs": [
    {
     "data": {
      "text/plain": [
       "4"
      ]
     },
     "execution_count": 41,
     "metadata": {},
     "output_type": "execute_result"
    }
   ],
   "source": [
    "plus_three(1)"
   ]
  },
  {
   "cell_type": "markdown",
   "metadata": {},
   "source": [
    "There are many combinations of  \n",
    "`def`, `cdef`, `cpdef`, with/without static typing.  \n",
    "\n",
    "Here is an article \"[How Fast are def cdef cpdef?](https://notes-on-cython.readthedocs.io/en/latest/fibo_speed.html)\"  \n",
    "that gives expriments on the speed of these combinations."
   ]
  },
  {
   "cell_type": "markdown",
   "metadata": {},
   "source": [
    "Possible static data types can be found [here](https://cython.readthedocs.io/en/latest/src/userguide/language_basics.html)."
   ]
  },
  {
   "cell_type": "markdown",
   "metadata": {},
   "source": [
    "## Communication between Python and Cython"
   ]
  },
  {
   "cell_type": "markdown",
   "metadata": {},
   "source": [
    "As mentioned, Cython is a compiler  \n",
    "and the `%%cython` magic function  \n",
    "automate the process of  \n",
    "- **compiling** the cell, and  \n",
    "- **import** the compiled file."
   ]
  },
  {
   "cell_type": "markdown",
   "metadata": {},
   "source": [
    "Therefore, variables or functions defined in other cells  \n",
    "are not known to the cell to be compiled."
   ]
  },
  {
   "cell_type": "code",
   "execution_count": 7,
   "metadata": {},
   "outputs": [],
   "source": [
    "a = 1"
   ]
  },
  {
   "cell_type": "code",
   "execution_count": null,
   "metadata": {},
   "outputs": [],
   "source": [
    "%%cython\n",
    "print(a) ### result in error"
   ]
  },
  {
   "cell_type": "markdown",
   "metadata": {},
   "source": [
    "After a cell is compiled,  \n",
    "not all variables or functions in the compiled function  \n",
    "are known to other cells."
   ]
  },
  {
   "cell_type": "code",
   "execution_count": 11,
   "metadata": {},
   "outputs": [],
   "source": [
    "%%cython\n",
    "b = 1"
   ]
  },
  {
   "cell_type": "code",
   "execution_count": 12,
   "metadata": {},
   "outputs": [
    {
     "name": "stdout",
     "output_type": "stream",
     "text": [
      "1\n"
     ]
    }
   ],
   "source": [
    "print(b)"
   ]
  },
  {
   "cell_type": "code",
   "execution_count": 16,
   "metadata": {},
   "outputs": [],
   "source": [
    "%%cython\n",
    "cdef int c = 1"
   ]
  },
  {
   "cell_type": "code",
   "execution_count": null,
   "metadata": {},
   "outputs": [],
   "source": [
    "print(c) ### result in error"
   ]
  },
  {
   "cell_type": "markdown",
   "metadata": {},
   "source": [
    "The Cython cell is compiled  \n",
    "and the `[name].so` or `[name].pyd` file is stored in a temporary directory.  \n",
    "\n",
    "Then **every Python object** in this `[name].so` or `[name].pyd` file  \n",
    "is imported, which is similar to `from [name] import *`.\n",
    "\n",
    "**C variables or C objects will only work when compiling**.  "
   ]
  },
  {
   "cell_type": "code",
   "execution_count": 21,
   "metadata": {},
   "outputs": [],
   "source": [
    "%%cython\n",
    "\n",
    "cpdef int f(int x):\n",
    "    return x + 1"
   ]
  },
  {
   "cell_type": "code",
   "execution_count": 18,
   "metadata": {},
   "outputs": [],
   "source": [
    "cython??"
   ]
  },
  {
   "cell_type": "code",
   "execution_count": 22,
   "metadata": {},
   "outputs": [],
   "source": [
    "%%cython\n",
    "cpdef int a=1"
   ]
  },
  {
   "cell_type": "code",
   "execution_count": 23,
   "metadata": {},
   "outputs": [
    {
     "data": {
      "text/plain": [
       "1"
      ]
     },
     "execution_count": 23,
     "metadata": {},
     "output_type": "execute_result"
    }
   ],
   "source": [
    "a"
   ]
  },
  {
   "cell_type": "markdown",
   "metadata": {},
   "source": [
    "annotate"
   ]
  },
  {
   "cell_type": "code",
   "execution_count": 141,
   "metadata": {},
   "outputs": [],
   "source": [
    "%%cython\n",
    "# distutils: language=c++\n",
    "\n",
    "from libcpp.vector cimport vector\n",
    "\n",
    "def cprimes(unsigned int nb_primes):\n",
    "    cdef int n, i\n",
    "    cdef vector[int] p\n",
    "    p.reserve(nb_primes)  # allocate memory for 'nb_primes' elements.\n",
    "\n",
    "    n = 2\n",
    "    while p.size() < nb_primes:  # size() for vectors is similar to len()\n",
    "        for i in p:\n",
    "            if n % i == 0:\n",
    "                break\n",
    "        else:\n",
    "            p.push_back(n)  # push_back is similar to append()\n",
    "        n += 1\n",
    "\n",
    "    # Vectors are automatically converted to Python\n",
    "    # lists when converted to Python objects.\n",
    "    return p\n",
    "\n",
    "# print(cprimes(1229))"
   ]
  },
  {
   "cell_type": "code",
   "execution_count": 142,
   "metadata": {},
   "outputs": [
    {
     "name": "stdout",
     "output_type": "stream",
     "text": [
      "100 loops, best of 5: 2.11 ms per loop\n"
     ]
    }
   ],
   "source": [
    "%%timeit\n",
    "cprimes(1229)"
   ]
  }
 ],
 "metadata": {
  "kernelspec": {
   "display_name": "Python 3",
   "language": "python",
   "name": "python3"
  },
  "language_info": {
   "codemirror_mode": {
    "name": "ipython",
    "version": 3
   },
   "file_extension": ".py",
   "mimetype": "text/x-python",
   "name": "python",
   "nbconvert_exporter": "python",
   "pygments_lexer": "ipython3",
   "version": "3.6.9"
  }
 },
 "nbformat": 4,
 "nbformat_minor": 2
}
