{
 "cells": [
  {
   "cell_type": "markdown",
   "metadata": {},
   "source": [
    "# Sage Special Topics: Cython"
   ]
  },
  {
   "cell_type": "markdown",
   "metadata": {},
   "source": [
    "## Overview"
   ]
  },
  {
   "cell_type": "markdown",
   "metadata": {},
   "source": [
    "[Cython](https://cython.org/) is a compiler  \n",
    "for the Python programming language along with  \n",
    "the extended Cython programming language.  \n",
    "This combination allows you to enjoy  \n",
    "the readability of Python and \n",
    "the efficiency of C.\n",
    "\n",
    "This means you may:  \n",
    "- use the **static data type in C** to speed up the program,  \n",
    "- **wrap C functions** into Python interface, and  \n",
    "- yet more features that I don't totally understand.\n",
    "\n",
    "Sage developing team plays an important role  \n",
    "in building up Cython; see [the history of Cython](https://en.wikipedia.org/wiki/Cython#History) .  \n",
    "However, Cython is not limited to the Sage environment,  \n",
    "and this tutorial is also applicable for general Python users."
   ]
  },
  {
   "cell_type": "markdown",
   "metadata": {},
   "source": [
    "## Installation"
   ]
  },
  {
   "cell_type": "markdown",
   "metadata": {},
   "source": [
    "If you are using SageNB  \n",
    "or Jupyter under the Sage kernel,  \n",
    "you may ignore this section."
   ]
  },
  {
   "cell_type": "markdown",
   "metadata": {},
   "source": [
    "For general Python users,  \n",
    "you may use  \n",
    "```Python\n",
    "pip install Cython --user\n",
    "```\n",
    "to **install** Cython on your machine.  "
   ]
  },
  {
   "cell_type": "markdown",
   "metadata": {},
   "source": [
    "To use it in a Jupyter notebook under the Python kernel,  \n",
    "you have to run the following cell  \n",
    "to **activate** the Cython extension.  \n",
    "Then refer to the [A quick example](#A-quick-example) section."
   ]
  },
  {
   "cell_type": "code",
   "execution_count": null,
   "metadata": {},
   "outputs": [],
   "source": [
    "%load_ext Cython"
   ]
  },
  {
   "cell_type": "markdown",
   "metadata": {},
   "source": [
    "For using Cython in the console or other IDEs,  \n",
    "please refer to the [Workflow](#Workflow) section."
   ]
  },
  {
   "cell_type": "markdown",
   "metadata": {},
   "source": [
    "## Workflow"
   ]
  },
  {
   "cell_type": "markdown",
   "metadata": {},
   "source": [
    "As mentioned before,  \n",
    "Cython is a **compiler** rather than an interpreter,  \n",
    "so each piece of the code need to be compiled before execution."
   ]
  },
  {
   "cell_type": "markdown",
   "metadata": {},
   "source": [
    "Here is the basic workflow: (See [Basic Tutorial](https://cython.readthedocs.io/en/latest/src/tutorial/cython_tutorial.html) of the official Cython documentation for more details.)  \n",
    "- Prepare a `cython_code.pyx` file that contains your Cython code.\n",
    "- Prepare a `setup.py` file that contains the setup information.\n",
    "- run `python setup.py build_ext --inplace` in the terminal  \n",
    "to generate `cython_code.so` (unix) or `cython_code.pyd` (Windows).\n",
    "- In another Python file or in a Jupyter notebook, `import cython_code`."
   ]
  },
  {
   "cell_type": "markdown",
   "metadata": {},
   "source": [
    "Sample `cython_code.pyx`:"
   ]
  },
  {
   "cell_type": "markdown",
   "metadata": {},
   "source": [
    "```Python\n",
    "def print_interest():\n",
    "    print(\"I love Math!\")\n",
    "```"
   ]
  },
  {
   "cell_type": "markdown",
   "metadata": {},
   "source": [
    "Sample `setup.py`:"
   ]
  },
  {
   "cell_type": "markdown",
   "metadata": {},
   "source": [
    "```Python\n",
    "from setuptools import setup\n",
    "from Cython.Build import cythonize\n",
    "\n",
    "setup(\n",
    "    ext_modules = cythonize(\"cython_code.pyx\")\n",
    ")\n",
    "```"
   ]
  },
  {
   "cell_type": "markdown",
   "metadata": {},
   "source": [
    "Sample usage:"
   ]
  },
  {
   "cell_type": "markdown",
   "metadata": {},
   "source": [
    "```Python\n",
    "import cython_code\n",
    "\n",
    "print_interest()\n",
    "```"
   ]
  },
  {
   "cell_type": "markdown",
   "metadata": {},
   "source": [
    "Jupyter wrap this process  \n",
    "by the `%%cython` magic function  \n",
    "(`%cython` in SageNB).  \n",
    "\n",
    "Let's look at an example below."
   ]
  },
  {
   "cell_type": "markdown",
   "metadata": {},
   "source": [
    "## A quick example"
   ]
  },
  {
   "cell_type": "markdown",
   "metadata": {},
   "source": [
    "Here is a piece of Python code  \n",
    "that calculates all primes below or equal to `n`."
   ]
  },
  {
   "cell_type": "code",
   "execution_count": null,
   "metadata": {},
   "outputs": [],
   "source": [
    "def a_prime(p):\n",
    "    \"\"\"Tell p is a prime or not\"\"\"\n",
    "    for i in range(2,p):\n",
    "        if p % i == 0:\n",
    "            return False\n",
    "    else:\n",
    "        return True\n",
    "\n",
    "def primes_below(n):\n",
    "    \"\"\"Return all primes below or equal to n\"\"\"\n",
    "    primes = [p for p in range(2,n+1) if a_prime(p)]\n",
    "    return primes"
   ]
  },
  {
   "cell_type": "code",
   "execution_count": null,
   "metadata": {},
   "outputs": [],
   "source": [
    "%%timeit\n",
    "primes = primes_below(10000)"
   ]
  },
  {
   "cell_type": "markdown",
   "metadata": {},
   "source": [
    "If you are using Jupyter,  \n",
    "simply **add `%%cython` to the first line** of the target cell.  \n",
    "Thus, the code in the cell will be compiled  \n",
    "and then imported into the notebook automatically.  \n",
    "(The same process as in the workflow.)"
   ]
  },
  {
   "cell_type": "markdown",
   "metadata": {},
   "source": [
    "If you use pure Python,  \n",
    "remember to activate the extension first.\n",
    "```Python\n",
    "%load_ext Cython\n",
    "```"
   ]
  },
  {
   "cell_type": "markdown",
   "metadata": {},
   "source": [
    "If you use SageNB, \n",
    "then add `%cython` instead."
   ]
  },
  {
   "cell_type": "code",
   "execution_count": null,
   "metadata": {},
   "outputs": [],
   "source": [
    "%%cython\n",
    "\n",
    "def a_prime_pinc(p):\n",
    "    \"\"\"Tell p is a prime or not\"\"\"\n",
    "    for i in range(2,p):\n",
    "        if p % i == 0:\n",
    "            return False\n",
    "    else:\n",
    "        return True\n",
    "\n",
    "def primes_below_pinc(n):\n",
    "    \"\"\"Return all primes below or equal to n\"\"\"\n",
    "    primes = [p for p in range(2,n+1) if a_prime_pinc(p)]\n",
    "    return primes"
   ]
  },
  {
   "cell_type": "code",
   "execution_count": null,
   "metadata": {},
   "outputs": [],
   "source": [
    "%%timeit\n",
    "primes = primes_below_pinc(10000)"
   ]
  },
  {
   "cell_type": "markdown",
   "metadata": {},
   "source": [
    "By compiling the code through Cython,  \n",
    "it already speed up the code  \n",
    "without doing anything further."
   ]
  },
  {
   "cell_type": "markdown",
   "metadata": {},
   "source": [
    "If we appropriately change some  \n",
    "dynamic data types in Python  \n",
    "to **static data types** in C,  \n",
    "then this will enhance the performance further."
   ]
  },
  {
   "cell_type": "code",
   "execution_count": null,
   "metadata": {},
   "outputs": [],
   "source": [
    "%%cython\n",
    "\n",
    "cdef bint a_prime_c(int p):\n",
    "    \"\"\"Tell p is a prime or not\"\"\"\n",
    "    cdef int i\n",
    "    for i in range(2,p):\n",
    "        if p % i == 0:\n",
    "            return False\n",
    "    else:\n",
    "        return True\n",
    "\n",
    "cpdef primes_below_c(int n):\n",
    "    \"\"\"Return all primes below or equal to n\"\"\"\n",
    "    primes = [p for p in range(2,n+1) if a_prime_c(p)]\n",
    "    return primes"
   ]
  },
  {
   "cell_type": "code",
   "execution_count": null,
   "metadata": {
    "scrolled": false
   },
   "outputs": [],
   "source": [
    "%%timeit\n",
    "primes = primes_below_c(10000)"
   ]
  },
  {
   "cell_type": "markdown",
   "metadata": {},
   "source": [
    "## Static data types"
   ]
  },
  {
   "cell_type": "markdown",
   "metadata": {},
   "source": [
    "One may use `cdef` to **declare a static data type**.\n",
    "\n",
    "Possible static data types include \n",
    "- `unsigned`, `long` + `int`, `float`, `double`, \n",
    "- `char`,\n",
    "- array and pointer,\n",
    "- and yet more [here](https://cython.readthedocs.io/en/latest/src/userguide/language_basics.html)."
   ]
  },
  {
   "cell_type": "code",
   "execution_count": null,
   "metadata": {},
   "outputs": [],
   "source": [
    "%%cython\n",
    "\n",
    "cdef int a = 1\n",
    "print(a)"
   ]
  },
  {
   "cell_type": "markdown",
   "metadata": {},
   "source": [
    "One may also use `cdef` to define a function."
   ]
  },
  {
   "cell_type": "code",
   "execution_count": null,
   "metadata": {},
   "outputs": [],
   "source": [
    "%%cython\n",
    "\n",
    "cdef int plus_one(int x):\n",
    "    return x + 1\n",
    "\n",
    "print(plus_one(1))"
   ]
  },
  {
   "cell_type": "markdown",
   "metadata": {},
   "source": [
    "But then this variable or function is not accessible by other cells."
   ]
  },
  {
   "cell_type": "code",
   "execution_count": null,
   "metadata": {},
   "outputs": [],
   "source": [
    "a ### result in an error"
   ]
  },
  {
   "cell_type": "code",
   "execution_count": null,
   "metadata": {},
   "outputs": [],
   "source": [
    "plus_one(1) ### result in an error"
   ]
  },
  {
   "cell_type": "markdown",
   "metadata": {},
   "source": [
    "For functions,  \n",
    "it is possible to use `cpdef` instead  \n",
    "to **wrap it for the Python interface**.  "
   ]
  },
  {
   "cell_type": "code",
   "execution_count": null,
   "metadata": {},
   "outputs": [],
   "source": [
    "%%cython\n",
    "\n",
    "cpdef int plus_two(int x):\n",
    "    return x + 2\n",
    "\n",
    "print(plus_two(1))"
   ]
  },
  {
   "cell_type": "code",
   "execution_count": null,
   "metadata": {},
   "outputs": [],
   "source": [
    "plus_two(1)"
   ]
  },
  {
   "cell_type": "markdown",
   "metadata": {},
   "source": [
    "Recall that you can still use `def` in Cython,  \n",
    "but it does not support static typing for the function.  \n",
    "(Static typing for the arguments is okay.)"
   ]
  },
  {
   "cell_type": "code",
   "execution_count": null,
   "metadata": {},
   "outputs": [],
   "source": [
    "%%cython\n",
    "\n",
    "def plus_three(int x):\n",
    "    return x + 3\n",
    "\n",
    "print(plus_three(1))"
   ]
  },
  {
   "cell_type": "code",
   "execution_count": null,
   "metadata": {},
   "outputs": [],
   "source": [
    "plus_three(1)"
   ]
  },
  {
   "cell_type": "markdown",
   "metadata": {},
   "source": [
    "There are many combinations of  \n",
    "`def`, `cdef`, `cpdef`, and with/without static typing.  \n",
    "\n",
    "Here is an article \"[How Fast are def cdef cpdef?](https://notes-on-cython.readthedocs.io/en/latest/fibo_speed.html)\"  \n",
    "that gives expriments on the speed of these combinations."
   ]
  },
  {
   "cell_type": "markdown",
   "metadata": {},
   "source": [
    "## Where to add types?"
   ]
  },
  {
   "cell_type": "markdown",
   "metadata": {},
   "source": [
    "Use `%%cython -a` (or `--annotate`)  \n",
    "to see where is more Python-like.  \n",
    "\n",
    "Lines with darker yellow requires more attentions.  \n",
    "(It seems this feature is not available for SageMath.)"
   ]
  },
  {
   "cell_type": "code",
   "execution_count": null,
   "metadata": {
    "scrolled": false
   },
   "outputs": [],
   "source": [
    "%%cython -a\n",
    "\n",
    "def a_prime_pinc(p):\n",
    "    \"\"\"Tell p is a prime or not\"\"\"\n",
    "    for i in range(2,p):\n",
    "        if p % i == 0:\n",
    "            return False\n",
    "    else:\n",
    "        return True\n",
    "\n",
    "def primes_below_pinc(n):\n",
    "    \"\"\"Return all primes below or equal to n\"\"\"\n",
    "    primes = [p for p in range(2,n+1) if a_prime_pinc(p)]\n",
    "    return primes"
   ]
  },
  {
   "cell_type": "code",
   "execution_count": null,
   "metadata": {},
   "outputs": [],
   "source": [
    "%%cython -a\n",
    "\n",
    "cdef bint a_prime_c(int p):\n",
    "    \"\"\"Tell p is a prime or not\"\"\"\n",
    "    cdef int i\n",
    "    for i in range(2,p):\n",
    "        if p % i == 0:\n",
    "            return False\n",
    "    else:\n",
    "        return True\n",
    "\n",
    "cpdef primes_below_c(int n):\n",
    "    \"\"\"Return all primes below or equal to n\"\"\"\n",
    "    primes = [p for p in range(2,n+1) if a_prime_c(p)]\n",
    "    return primes"
   ]
  },
  {
   "cell_type": "markdown",
   "metadata": {},
   "source": [
    "##### Exercise\n",
    "Optimize the following function by Cython."
   ]
  },
  {
   "cell_type": "code",
   "execution_count": null,
   "metadata": {},
   "outputs": [],
   "source": [
    "### Python code: edit the Cython cell instead of this one\n",
    "def root_two_py(a, b, r):\n",
    "    \"\"\"Starting with two endpoints a and b  \n",
    "    and apply the bisection method r rounds.  \n",
    "    Return the approximation of root 2.\"\"\"\n",
    "    \n",
    "    if a**2 > 2 or b**2 <2:\n",
    "        raise ValueError(\"It should be a^2<=2 and b^2>=2.\")\n",
    "    for i in range(r):\n",
    "        c = (a+b) / 2\n",
    "        if c**2 > 2:\n",
    "            a,b = a,c\n",
    "        else:\n",
    "            a,b = c,b\n",
    "    return a"
   ]
  },
  {
   "cell_type": "code",
   "execution_count": null,
   "metadata": {},
   "outputs": [],
   "source": [
    "%%timeit \n",
    "root_two_py(1,2,100)"
   ]
  },
  {
   "cell_type": "code",
   "execution_count": null,
   "metadata": {},
   "outputs": [],
   "source": [
    "%%cython\n",
    "\n",
    "### add some static type to accelerate the program\n",
    "cpdef root_two_cy(a, b, r):\n",
    "    \"\"\"Starting with two endpoints a and b  \n",
    "    and apply the bisection method r rounds.  \n",
    "    Return the approximation of root 2.\"\"\"\n",
    "    \n",
    "    if a**2 > 2 or b**2 <2:\n",
    "        raise ValueError(\"It should be a^2<=2 and b^2>=2.\")\n",
    "    for i in range(r):\n",
    "        c = (a+b) / 2\n",
    "        if c**2 > 2:\n",
    "            a,b = a,c\n",
    "        else:\n",
    "            a,b = c,b\n",
    "    return a"
   ]
  },
  {
   "cell_type": "code",
   "execution_count": null,
   "metadata": {},
   "outputs": [],
   "source": [
    "%%timeit \n",
    "root_two_cy(1,2,100)"
   ]
  }
 ],
 "metadata": {
  "kernelspec": {
   "display_name": "SageMath 9.3",
   "language": "sage",
   "name": "sagemath"
  },
  "language_info": {
   "codemirror_mode": {
    "name": "ipython",
    "version": 3
   },
   "file_extension": ".py",
   "mimetype": "text/x-python",
   "name": "python",
   "nbconvert_exporter": "python",
   "pygments_lexer": "ipython3",
   "version": "3.9.5"
  }
 },
 "nbformat": 4,
 "nbformat_minor": 2
}
