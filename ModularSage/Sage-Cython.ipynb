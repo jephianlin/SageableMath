{
 "cells": [
  {
   "cell_type": "markdown",
   "metadata": {},
   "source": [
    "# Sage Special Topics: Cython"
   ]
  },
  {
   "cell_type": "markdown",
   "metadata": {},
   "source": [
    "## Overview"
   ]
  },
  {
   "cell_type": "markdown",
   "metadata": {},
   "source": [
    "[Cython](https://cython.org/) is a compiler  \n",
    "for the Python programming language along with  \n",
    "the extended Cython programming language.  \n",
    "This combination allows you to enjoy  \n",
    "the readability of Python and \n",
    "the efficiency of C.\n",
    "\n",
    "This means you may:  \n",
    "- use the **static data type in C** to speed up the program,  \n",
    "- **wrap C functions** into Python interface, and  \n",
    "- yet more features that I don't totally understand.\n",
    "\n",
    "Sage developing team plays an important role  \n",
    "in building up Cython; see [the history of Cython](https://en.wikipedia.org/wiki/Cython#History).  \n",
    "However, Cython is not limited to the Sage environment,  \n",
    "and this tutorial is also applicable for general Python users."
   ]
  },
  {
   "cell_type": "markdown",
   "metadata": {},
   "source": [
    "## Installation"
   ]
  },
  {
   "cell_type": "markdown",
   "metadata": {},
   "source": [
    "If you are using a Sage notebook,  \n",
    "or a Jupyter notebook under the Sage kernel,  \n",
    "you may ignore this section."
   ]
  },
  {
   "cell_type": "markdown",
   "metadata": {},
   "source": [
    "For general Python users,  \n",
    "you may use  \n",
    "```Python\n",
    "pip install Cython --user\n",
    "```\n",
    "to **install** Cython on your machine.  "
   ]
  },
  {
   "cell_type": "markdown",
   "metadata": {},
   "source": [
    "To use it in a Jupyter notebook under the Python kernel,  \n",
    "you have to run the following cell  \n",
    "to **activate** the Cython extension."
   ]
  },
  {
   "cell_type": "code",
   "execution_count": 1,
   "metadata": {},
   "outputs": [],
   "source": [
    "%load_ext Cython"
   ]
  },
  {
   "cell_type": "markdown",
   "metadata": {},
   "source": [
    "For using Cython in the console or other IDEs,  \n",
    "please refer to the [Workflow](#Workflow) section."
   ]
  },
  {
   "cell_type": "markdown",
   "metadata": {},
   "source": [
    "## Workflow"
   ]
  },
  {
   "cell_type": "markdown",
   "metadata": {},
   "source": [
    "As mentioned before,  \n",
    "Cython is a **compiler** rather than an interpreter,  \n",
    "so each piece of the code need to be compiled before execution."
   ]
  },
  {
   "cell_type": "markdown",
   "metadata": {},
   "source": [
    "Here is the basic workflow: (See [Basic Tutorial](https://cython.readthedocs.io/en/latest/src/tutorial/cython_tutorial.html) of the official Cython documentation for more details.)  \n",
    "- Prepare a `cython_code.pyx` file that contains your Cython code.\n",
    "- Prepare a `setup.py` file that contains the setup information.\n",
    "- run `python setup.py build_ext --inplace` in the terminal  \n",
    "to generate `cython_code.so` (unix) or `cython_code.pyd` (Windows).\n",
    "- In another Python file or in a Jupyter notebook, `import cython_code`."
   ]
  },
  {
   "cell_type": "markdown",
   "metadata": {},
   "source": [
    "Sample `cython_code.pyx`:"
   ]
  },
  {
   "cell_type": "code",
   "execution_count": null,
   "metadata": {},
   "outputs": [],
   "source": [
    "from cpython.version cimport PY_VERSION_HEX\n",
    "\n",
    "def print_cython_version():\n",
    "    print(PY_VERSION_HE)"
   ]
  },
  {
   "cell_type": "markdown",
   "metadata": {},
   "source": [
    "Sample `setup.py`:"
   ]
  },
  {
   "cell_type": "code",
   "execution_count": null,
   "metadata": {},
   "outputs": [],
   "source": [
    "from setuptools import setup\n",
    "from Cython.Build import cythonize\n",
    "\n",
    "setup(\n",
    "    ext_modules = cythonize(\"cython_code.pyx\")\n",
    ")"
   ]
  },
  {
   "cell_type": "markdown",
   "metadata": {},
   "source": [
    "Sample usage:"
   ]
  },
  {
   "cell_type": "code",
   "execution_count": null,
   "metadata": {},
   "outputs": [],
   "source": [
    "import cython_code"
   ]
  },
  {
   "cell_type": "markdown",
   "metadata": {},
   "source": [
    "## Examples"
   ]
  },
  {
   "cell_type": "code",
   "execution_count": 3,
   "metadata": {},
   "outputs": [],
   "source": [
    "def a_prime(p):\n",
    "    for i in range(2,p):\n",
    "        if p % i == 0:\n",
    "            return False\n",
    "    else:\n",
    "        return True\n",
    "\n",
    "def primes_below(n):\n",
    "    primes = [p for p in range(2,n+1) if a_prime(p)]\n",
    "    return primes"
   ]
  },
  {
   "cell_type": "code",
   "execution_count": 4,
   "metadata": {},
   "outputs": [
    {
     "name": "stdout",
     "output_type": "stream",
     "text": [
      "1 loop, best of 3: 230 ms per loop\n"
     ]
    }
   ],
   "source": [
    "%%timeit\n",
    "primes = primes_below(10000)"
   ]
  },
  {
   "cell_type": "code",
   "execution_count": 5,
   "metadata": {},
   "outputs": [],
   "source": [
    "%%cython\n",
    "\n",
    "def a_prime_pinc(p):\n",
    "    for i in range(2,p):\n",
    "        if p % i == 0:\n",
    "            return False\n",
    "    else:\n",
    "        return True\n",
    "\n",
    "def primes_below_pinc(n):\n",
    "    primes = [p for p in range(2,n+1) if a_prime_pinc(p)]\n",
    "    return primes"
   ]
  },
  {
   "cell_type": "code",
   "execution_count": 6,
   "metadata": {},
   "outputs": [
    {
     "name": "stdout",
     "output_type": "stream",
     "text": [
      "10 loops, best of 3: 148 ms per loop\n"
     ]
    }
   ],
   "source": [
    "%%timeit\n",
    "primes = primes_below_pinc(10000)"
   ]
  },
  {
   "cell_type": "code",
   "execution_count": 119,
   "metadata": {},
   "outputs": [],
   "source": [
    "%%cython\n",
    "\n",
    "cdef bint a_prime_c(int p):\n",
    "    cdef int i\n",
    "    for i in range(2,p):\n",
    "        if p % i == 0:\n",
    "            return False\n",
    "    else:\n",
    "        return True\n",
    "\n",
    "cpdef primes_below_c(int n):\n",
    "    primes = [p for p in range(2,n+1) if a_prime_c(p)]\n",
    "    return primes"
   ]
  },
  {
   "cell_type": "code",
   "execution_count": 120,
   "metadata": {
    "scrolled": true
   },
   "outputs": [
    {
     "name": "stdout",
     "output_type": "stream",
     "text": [
      "100 loops, best of 5: 10.2 ms per loop\n"
     ]
    }
   ],
   "source": [
    "%%timeit\n",
    "primes = primes_below_c(10000)"
   ]
  },
  {
   "cell_type": "code",
   "execution_count": 141,
   "metadata": {},
   "outputs": [],
   "source": [
    "%%cython\n",
    "# distutils: language=c++\n",
    "\n",
    "from libcpp.vector cimport vector\n",
    "\n",
    "def cprimes(unsigned int nb_primes):\n",
    "    cdef int n, i\n",
    "    cdef vector[int] p\n",
    "    p.reserve(nb_primes)  # allocate memory for 'nb_primes' elements.\n",
    "\n",
    "    n = 2\n",
    "    while p.size() < nb_primes:  # size() for vectors is similar to len()\n",
    "        for i in p:\n",
    "            if n % i == 0:\n",
    "                break\n",
    "        else:\n",
    "            p.push_back(n)  # push_back is similar to append()\n",
    "        n += 1\n",
    "\n",
    "    # Vectors are automatically converted to Python\n",
    "    # lists when converted to Python objects.\n",
    "    return p\n",
    "\n",
    "# print(cprimes(1229))"
   ]
  },
  {
   "cell_type": "code",
   "execution_count": 142,
   "metadata": {},
   "outputs": [
    {
     "name": "stdout",
     "output_type": "stream",
     "text": [
      "100 loops, best of 5: 2.11 ms per loop\n"
     ]
    }
   ],
   "source": [
    "%%timeit\n",
    "cprimes(1229)"
   ]
  },
  {
   "cell_type": "code",
   "execution_count": 138,
   "metadata": {},
   "outputs": [
    {
     "name": "stdout",
     "output_type": "stream",
     "text": [
      "Once deleted, variables cannot be recovered. Proceed (y/[n])? y\n"
     ]
    }
   ],
   "source": [
    "reset"
   ]
  },
  {
   "cell_type": "code",
   "execution_count": null,
   "metadata": {},
   "outputs": [],
   "source": []
  }
 ],
 "metadata": {
  "kernelspec": {
   "display_name": "Python 3",
   "language": "python",
   "name": "python3"
  },
  "language_info": {
   "codemirror_mode": {
    "name": "ipython",
    "version": 3
   },
   "file_extension": ".py",
   "mimetype": "text/x-python",
   "name": "python",
   "nbconvert_exporter": "python",
   "pygments_lexer": "ipython3",
   "version": "3.7.6"
  }
 },
 "nbformat": 4,
 "nbformat_minor": 2
}
