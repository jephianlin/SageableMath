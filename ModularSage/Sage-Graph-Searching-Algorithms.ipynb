{
 "cells": [
  {
   "cell_type": "markdown",
   "metadata": {},
   "source": [
    "# Sage Special Topics: Graph Searching Algorithms"
   ]
  },
  {
   "cell_type": "markdown",
   "metadata": {},
   "source": [
    "## Create a graph\n",
    "\n",
    "##### Algorithm (Depth first search (DFS))\n",
    "\n",
    "**Input:** A graph $G$ and a vertex $v$.  \n",
    "**Output:** Every vertex reachable from v will be marked visited.  \n",
    "**Steps:**  \n",
    "\n",
    "1. Let the set of visited vertices be empty.\n",
    "2. Let $W = (v)$ be the waiting list of vertices to be explored.\n",
    "3. Explore the last vertex $u$ in $W$:\n",
    "    1. Remove $u$ from $W$.\n",
    "    2. If $u$ is visited, then done.\n",
    "    3. If $u$ is non-visited, then mark $u$ as visited, and add all non-visited neighbors of $u$ at the end of $W$.\n",
    "4. Repeat Step 3 until $W = \\emptyset$."
   ]
  },
  {
   "cell_type": "code",
   "execution_count": null,
   "metadata": {},
   "outputs": [],
   "source": [
    "def DFS(g, v):\n",
    "    visited = []\n",
    "    W = [v]\n",
    "    while W != []:\n",
    "        u = W.pop(-1)\n",
    "        if u in visited:\n",
    "            continue\n",
    "        else:\n",
    "            visited.append(u)\n",
    "            for nbr in g.neighbors(u):\n",
    "                if nbr not in visited:\n",
    "                    W.append(nbr)\n",
    "    return visited"
   ]
  },
  {
   "cell_type": "markdown",
   "metadata": {},
   "source": [
    "The code above returns all reachable vertices from $v$.  "
   ]
  },
  {
   "cell_type": "code",
   "execution_count": null,
   "metadata": {},
   "outputs": [],
   "source": [
    "g = graphs.PetersenGraph()\n",
    "v = 0\n",
    "print(DFS(g,v))\n",
    "g.show(figsize=(3,3))"
   ]
  },
  {
   "cell_type": "markdown",
   "metadata": {},
   "source": [
    "##### Exercise\n",
    "\n",
    "Revise the code so that the code generate the searching tree.  \n",
    "You may use the code below to generate a good picture.\n",
    "\n",
    "```python\n",
    "g = graphs.CycleGraph(5)\n",
    "g_pic = g.plot(save_pos=True)\n",
    "st = DFS_tree(g, 0)\n",
    "st.set_pos(g.get_pos())\n",
    "st_pic = st.plot(edge_color=\"orange\")\n",
    "pic = g_pic + st_pic\n",
    "pic.axes(False)\n",
    "pic\n",
    "```"
   ]
  },
  {
   "cell_type": "code",
   "execution_count": null,
   "metadata": {},
   "outputs": [],
   "source": [
    "def DFS_tree(g, v):\n",
    "    visited = []\n",
    "    W = [v]\n",
    "    ### build searching tree\n",
    "    st = DiGraph([g.vertices(),[]])\n",
    "    while W != []:\n",
    "        u = W.pop(-1)\n",
    "        if u in visited:\n",
    "            continue\n",
    "        else:\n",
    "            visited.append(u)\n",
    "            ### add arc\n",
    "            # st.add_edge(???,u)\n",
    "            for nbr in g.neighbors(u):\n",
    "                if nbr not in visited:\n",
    "                    W.append(nbr)\n",
    "    ### return the searching tree instead\n",
    "    return visited"
   ]
  }
 ],
 "metadata": {
  "kernelspec": {
   "display_name": "SageMath 9.6",
   "language": "sage",
   "name": "sagemath"
  },
  "language_info": {
   "codemirror_mode": {
    "name": "ipython",
    "version": 3
   },
   "file_extension": ".py",
   "mimetype": "text/x-python",
   "name": "python",
   "nbconvert_exporter": "python",
   "pygments_lexer": "ipython3",
   "version": "3.10.7"
  }
 },
 "nbformat": 4,
 "nbformat_minor": 2
}
