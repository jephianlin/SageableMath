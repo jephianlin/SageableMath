{
 "cells": [
  {
   "cell_type": "markdown",
   "metadata": {},
   "source": [
    "# Matrices and IEP-$G$"
   ]
  },
  {
   "cell_type": "markdown",
   "metadata": {},
   "source": [
    "![Creative Commons License](https://i.creativecommons.org/l/by/4.0/88x31.png)  \n",
    "This work by Jephian Lin is licensed under a [Creative Commons Attribution 4.0 International License](http://creativecommons.org/licenses/by/4.0/)."
   ]
  },
  {
   "cell_type": "markdown",
   "metadata": {},
   "source": [
    "## Create a matrix"
   ]
  },
  {
   "cell_type": "markdown",
   "metadata": {},
   "source": [
    "## Things to do on a matrix"
   ]
  },
  {
   "cell_type": "markdown",
   "metadata": {},
   "source": [
    "## IEP-$G$"
   ]
  },
  {
   "cell_type": "code",
   "execution_count": 1,
   "metadata": {},
   "outputs": [
    {
     "name": "stdout",
     "output_type": "stream",
     "text": [
      "Loading Zq_c.pyx...\n"
     ]
    },
    {
     "name": "stderr",
     "output_type": "stream",
     "text": [
      "Compiling /home/jephian/.sage/temp/webwork/13453/tmp_bm8pd7dw.pyx...\n"
     ]
    },
    {
     "name": "stdout",
     "output_type": "stream",
     "text": [
      "Loading Zq.py...\n",
      "Loading zero_forcing_64.pyx...\n"
     ]
    },
    {
     "name": "stderr",
     "output_type": "stream",
     "text": [
      "Compiling /home/jephian/.sage/temp/webwork/13453/tmp_j9z2qybd.pyx...\n"
     ]
    },
    {
     "name": "stdout",
     "output_type": "stream",
     "text": [
      "Loading zero_forcing_wavefront.pyx...\n"
     ]
    },
    {
     "name": "stderr",
     "output_type": "stream",
     "text": [
      "Compiling /home/jephian/.sage/temp/webwork/13453/tmp_11em4tub.pyx...\n"
     ]
    },
    {
     "name": "stdout",
     "output_type": "stream",
     "text": [
      "Loading minrank.py...\n",
      "Loading inertia.py...\n",
      "Loading general_Lib.sage...\n",
      "---sshow, multi_sshow, tuple_generator, minimal_graphs, empty_array, all_one_matrix, elementary_matrix, eigens_multi, sort_dictionary, has_minor, etc.\n",
      "Loading oc_diag_analysis.sage...\n",
      "---gZ_leq, find_gZ, find_EZ, diagonal_analysis, etc.\n",
      "Loading xi_dict.py...\n",
      "---SAPreduced_matrix, has_SAP, find_ZFloor, Zsap, etc.\n",
      "Loading mu_dict.py...\n",
      "---get_mu_from_dict, find_mu, etc.\n",
      "Loading SXP.sage...\n",
      "This code contains extra copy of Z_game, Zell_game, Zplus_game, for the completeness of Zsap_game program.\n",
      "Loading matrix_forcing.py...\n"
     ]
    }
   ],
   "source": [
    "load(\"https://raw.githubusercontent.com/jephianlin/minrank_aux/master/load_all.py\")\n",
    "load_all()"
   ]
  },
  {
   "cell_type": "code",
   "execution_count": null,
   "metadata": {},
   "outputs": [],
   "source": []
  }
 ],
 "metadata": {
  "kernelspec": {
   "display_name": "SageMath 9.0",
   "language": "sage",
   "name": "sagemath"
  },
  "language_info": {
   "codemirror_mode": {
    "name": "ipython",
    "version": 3
   },
   "file_extension": ".py",
   "mimetype": "text/x-python",
   "name": "python",
   "nbconvert_exporter": "python",
   "pygments_lexer": "ipython3",
   "version": "3.7.6"
  }
 },
 "nbformat": 4,
 "nbformat_minor": 2
}
