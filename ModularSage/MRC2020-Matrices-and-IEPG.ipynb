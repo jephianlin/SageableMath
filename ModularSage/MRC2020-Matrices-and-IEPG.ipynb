{
 "cells": [
  {
   "cell_type": "markdown",
   "metadata": {},
   "source": [
    "# Matrices and IEP-$G$"
   ]
  },
  {
   "cell_type": "markdown",
   "metadata": {},
   "source": [
    "![Creative Commons License](https://i.creativecommons.org/l/by/4.0/88x31.png)  \n",
    "This work by Jephian Lin is licensed under a [Creative Commons Attribution 4.0 International License](http://creativecommons.org/licenses/by/4.0/)."
   ]
  },
  {
   "cell_type": "markdown",
   "metadata": {},
   "source": [
    "## Create a matrix"
   ]
  },
  {
   "cell_type": "markdown",
   "metadata": {},
   "source": [
    "A matrix can be built  \n",
    "by **a list of lists**."
   ]
  },
  {
   "cell_type": "code",
   "execution_count": 5,
   "metadata": {},
   "outputs": [
    {
     "data": {
      "text/plain": [
       "[0 1 2]\n",
       "[3 4 5]\n",
       "[6 7 8]"
      ]
     },
     "execution_count": 5,
     "metadata": {},
     "output_type": "execute_result"
    }
   ],
   "source": [
    "A = matrix([\n",
    "    [0,1,2], \n",
    "    [3,4,5], \n",
    "    [6,7,8]\n",
    "])\n",
    "A"
   ]
  },
  {
   "cell_type": "markdown",
   "metadata": {},
   "source": [
    "Alternatively,  \n",
    "it can be built by  \n",
    "**the number of rows and a list**."
   ]
  },
  {
   "cell_type": "code",
   "execution_count": 7,
   "metadata": {},
   "outputs": [
    {
     "data": {
      "text/plain": [
       "[0 1 2]\n",
       "[3 4 5]\n",
       "[6 7 8]"
      ]
     },
     "execution_count": 7,
     "metadata": {},
     "output_type": "execute_result"
    }
   ],
   "source": [
    "A = matrix(3, range(9))\n",
    "A"
   ]
  },
  {
   "cell_type": "markdown",
   "metadata": {},
   "source": [
    "One may specify the **field** (or ring)  \n",
    "to be used.\n",
    "\n",
    "Possible choices are `ZZ`, `QQ`, `RR`, and so on."
   ]
  },
  {
   "cell_type": "code",
   "execution_count": 12,
   "metadata": {},
   "outputs": [
    {
     "data": {
      "text/plain": [
       "Rational Field"
      ]
     },
     "execution_count": 12,
     "metadata": {},
     "output_type": "execute_result"
    }
   ],
   "source": [
    "A = matrix(QQ, 3, range(9))\n",
    "A.base_ring()"
   ]
  },
  {
   "cell_type": "markdown",
   "metadata": {},
   "source": [
    "Some **commonly-used matrices**  \n",
    "are built-in."
   ]
  },
  {
   "cell_type": "code",
   "execution_count": 14,
   "metadata": {},
   "outputs": [
    {
     "data": {
      "text/plain": [
       "[1 0 0]\n",
       "[0 1 0]\n",
       "[0 0 1]"
      ]
     },
     "execution_count": 14,
     "metadata": {},
     "output_type": "execute_result"
    }
   ],
   "source": [
    "identity_matrix(3)"
   ]
  },
  {
   "cell_type": "code",
   "execution_count": 16,
   "metadata": {},
   "outputs": [
    {
     "data": {
      "text/plain": [
       "[0 0 0]\n",
       "[0 0 0]\n",
       "[0 0 0]"
      ]
     },
     "execution_count": 16,
     "metadata": {},
     "output_type": "execute_result"
    }
   ],
   "source": [
    "zero_matrix(3)"
   ]
  },
  {
   "cell_type": "code",
   "execution_count": 15,
   "metadata": {
    "scrolled": true
   },
   "outputs": [
    {
     "data": {
      "text/plain": [
       "[1 1 1]\n",
       "[1 1 1]\n",
       "[1 1 1]"
      ]
     },
     "execution_count": 15,
     "metadata": {},
     "output_type": "execute_result"
    }
   ],
   "source": [
    "ones_matrix(3)"
   ]
  },
  {
   "cell_type": "markdown",
   "metadata": {},
   "source": [
    "## Things to do on a matrix"
   ]
  },
  {
   "cell_type": "markdown",
   "metadata": {},
   "source": [
    "The basic **arithmic operations** `+-*/`  \n",
    "can be applied to matrices.  \n",
    "(Different from Numpy or MATLAB,  \n",
    "`*` stands for the matrix product  \n",
    "rather than the entrywise product)"
   ]
  },
  {
   "cell_type": "code",
   "execution_count": 17,
   "metadata": {},
   "outputs": [
    {
     "data": {
      "text/plain": [
       "[2 1 1]\n",
       "[1 2 1]\n",
       "[1 1 2]"
      ]
     },
     "execution_count": 17,
     "metadata": {},
     "output_type": "execute_result"
    }
   ],
   "source": [
    "A = ones_matrix(3)\n",
    "B = identity_matrix(3)\n",
    "A + B"
   ]
  },
  {
   "cell_type": "code",
   "execution_count": 18,
   "metadata": {},
   "outputs": [
    {
     "data": {
      "text/plain": [
       "[3 3 3]\n",
       "[3 3 3]\n",
       "[3 3 3]"
      ]
     },
     "execution_count": 18,
     "metadata": {},
     "output_type": "execute_result"
    }
   ],
   "source": [
    "A * A"
   ]
  },
  {
   "cell_type": "code",
   "execution_count": 21,
   "metadata": {},
   "outputs": [
    {
     "data": {
      "text/plain": [
       "[ 3/4 -1/4 -1/4]\n",
       "[-1/4  3/4 -1/4]\n",
       "[-1/4 -1/4  3/4]"
      ]
     },
     "execution_count": 21,
     "metadata": {},
     "output_type": "execute_result"
    }
   ],
   "source": [
    "1 / (A + B)"
   ]
  },
  {
   "cell_type": "markdown",
   "metadata": {},
   "source": [
    "As a consequence,  \n",
    "`1 / A` is the **inverse** of `A` (if invertible).  \n",
    "\n",
    "One may also use `A.inverse()` or `~A`  \n",
    "for the same effect."
   ]
  },
  {
   "cell_type": "code",
   "execution_count": 23,
   "metadata": {},
   "outputs": [
    {
     "data": {
      "text/plain": [
       "[1 0 0]\n",
       "[0 1 0]\n",
       "[0 0 1]"
      ]
     },
     "execution_count": 23,
     "metadata": {},
     "output_type": "execute_result"
    }
   ],
   "source": [
    "C = (A + B).inverse()\n",
    "# C = ~(A + B)\n",
    "C * (A + B)"
   ]
  },
  {
   "cell_type": "markdown",
   "metadata": {},
   "source": [
    "The **power** of a matrix  \n",
    "can be done by `**` or `^`."
   ]
  },
  {
   "cell_type": "code",
   "execution_count": 26,
   "metadata": {},
   "outputs": [
    {
     "data": {
      "text/plain": [
       "[3 3 3]\n",
       "[3 3 3]\n",
       "[3 3 3]"
      ]
     },
     "execution_count": 26,
     "metadata": {},
     "output_type": "execute_result"
    }
   ],
   "source": [
    "C = A**2\n",
    "# C = A^2\n",
    "C"
   ]
  },
  {
   "cell_type": "markdown",
   "metadata": {},
   "source": [
    "Once a graph `A` is built,  \n",
    "there are many **associated functions**.  \n",
    "\n",
    "When the cursor is at the end of `A.`  \n",
    "press `tab` to see them."
   ]
  },
  {
   "cell_type": "code",
   "execution_count": null,
   "metadata": {},
   "outputs": [],
   "source": [
    "A."
   ]
  },
  {
   "cell_type": "markdown",
   "metadata": {},
   "source": [
    "Compute the **rank**, the __nullity__,  \n",
    "and **test invertibility**."
   ]
  },
  {
   "cell_type": "code",
   "execution_count": 27,
   "metadata": {},
   "outputs": [
    {
     "name": "stdout",
     "output_type": "stream",
     "text": [
      "rank: 1\n",
      "nullity: 2\n",
      "is_invertible False\n"
     ]
    }
   ],
   "source": [
    "A = ones_matrix(3)\n",
    "print('rank:', A.rank())\n",
    "print('nullity:', A.nullity())\n",
    "print('is_invertible', A.is_invertible())"
   ]
  },
  {
   "cell_type": "markdown",
   "metadata": {},
   "source": [
    "Compute the **characteristic polynomial**,  \n",
    "__eigenvalues__,  \n",
    "and **minimal polynomial**."
   ]
  },
  {
   "cell_type": "code",
   "execution_count": 28,
   "metadata": {},
   "outputs": [
    {
     "name": "stdout",
     "output_type": "stream",
     "text": [
      "char poly: x^3 - 3*x^2\n",
      "eigenvalues: [3, 0, 0]\n",
      "min poly x^2 - 3*x\n"
     ]
    }
   ],
   "source": [
    "A = ones_matrix(3)\n",
    "print('char poly:', A.characteristic_polynomial())\n",
    "print('eigenvalues:', A.eigenvalues())\n",
    "print('min poly', A.minpoly())"
   ]
  },
  {
   "cell_type": "markdown",
   "metadata": {},
   "source": [
    "Use `A[i,j]` to  \n",
    "get the `i,j`-entry of `A`.  \n",
    "(`0`-indexing)"
   ]
  },
  {
   "cell_type": "code",
   "execution_count": 29,
   "metadata": {},
   "outputs": [
    {
     "data": {
      "text/plain": [
       "5"
      ]
     },
     "execution_count": 29,
     "metadata": {},
     "output_type": "execute_result"
    }
   ],
   "source": [
    "A = matrix(3, range(9))\n",
    "A[1,2]"
   ]
  },
  {
   "cell_type": "markdown",
   "metadata": {},
   "source": [
    "Use  \n",
    "`A[list of rows, list of columns]`  \n",
    "to get a submatrix of `A`."
   ]
  },
  {
   "cell_type": "code",
   "execution_count": 30,
   "metadata": {},
   "outputs": [
    {
     "data": {
      "text/plain": [
       "[1 2]\n",
       "[4 5]"
      ]
     },
     "execution_count": 30,
     "metadata": {},
     "output_type": "execute_result"
    }
   ],
   "source": [
    "A = matrix(3, range(9))\n",
    "A[[0,1],[1,2]]"
   ]
  },
  {
   "cell_type": "markdown",
   "metadata": {},
   "source": [
    "Possible input  \n",
    "to specify rows/columns also include:  \n",
    "- `a:b` means `a, a+1, ..., b-1`\n",
    "- `:b` means `0, 1, ..., b-1`\n",
    "- `a:` means `a, a+1, ..., end`\n",
    "- `:` means all"
   ]
  },
  {
   "cell_type": "code",
   "execution_count": 31,
   "metadata": {},
   "outputs": [
    {
     "data": {
      "text/plain": [
       "[1 2]\n",
       "[4 5]"
      ]
     },
     "execution_count": 31,
     "metadata": {},
     "output_type": "execute_result"
    }
   ],
   "source": [
    "A = matrix(3, range(9))\n",
    "A[:2,1:]"
   ]
  },
  {
   "cell_type": "markdown",
   "metadata": {},
   "source": [
    "The extracted entry or submatrix  \n",
    "can be modified."
   ]
  },
  {
   "cell_type": "code",
   "execution_count": 32,
   "metadata": {},
   "outputs": [
    {
     "data": {
      "text/plain": [
       "[0 0 0]\n",
       "[0 1 0]\n",
       "[0 0 0]"
      ]
     },
     "execution_count": 32,
     "metadata": {},
     "output_type": "execute_result"
    }
   ],
   "source": [
    "A = zero_matrix(3)\n",
    "A[1,1] = 1\n",
    "A"
   ]
  },
  {
   "cell_type": "code",
   "execution_count": 33,
   "metadata": {},
   "outputs": [
    {
     "data": {
      "text/plain": [
       "[0 1 1]\n",
       "[0 1 1]\n",
       "[0 0 0]"
      ]
     },
     "execution_count": 33,
     "metadata": {},
     "output_type": "execute_result"
    }
   ],
   "source": [
    "A = zero_matrix(3)\n",
    "A[:2,1:] = ones_matrix(2)\n",
    "A"
   ]
  },
  {
   "cell_type": "markdown",
   "metadata": {},
   "source": [
    "## IEP-$G$"
   ]
  },
  {
   "cell_type": "markdown",
   "metadata": {},
   "source": [
    "[Minimum Rank Sage Library](https://github.com/jephianlin/mr_JG):  computing bounds of minimum rank, and many other features.  \n",
    "[minrank_aux](https://github.com/jephianlin/minrank_aux):  auxiliary tools for the minimum rank problem  \n",
    "\n",
    "The `load_all` function is provided  \n",
    "to load both libraries."
   ]
  },
  {
   "cell_type": "markdown",
   "metadata": {},
   "source": [
    "If the output reaches the line\n",
    "\n",
    "    Loading matrix_forcing.py...  \n",
    "\n",
    "then it is likely to work.  \n",
    "\n",
    "If there is any error,  \n",
    "please report it to Jephian Lin `jephianlin [at] gmail [dot] com`."
   ]
  },
  {
   "cell_type": "code",
   "execution_count": 34,
   "metadata": {
    "scrolled": false
   },
   "outputs": [
    {
     "name": "stdout",
     "output_type": "stream",
     "text": [
      "xrange test failed: define xrange = range\n",
      "Loading Zq_c.pyx...\n"
     ]
    },
    {
     "name": "stderr",
     "output_type": "stream",
     "text": [
      "Compiling /home/jephian/.sage/temp/webwork/11579/tmp_d_k0qa4p.pyx...\n"
     ]
    },
    {
     "name": "stdout",
     "output_type": "stream",
     "text": [
      "Loading Zq.py...\n",
      "Loading zero_forcing_64.pyx...\n"
     ]
    },
    {
     "name": "stderr",
     "output_type": "stream",
     "text": [
      "Compiling /home/jephian/.sage/temp/webwork/11579/tmp_za68d5kv.pyx...\n"
     ]
    },
    {
     "name": "stdout",
     "output_type": "stream",
     "text": [
      "Loading zero_forcing_wavefront.pyx...\n"
     ]
    },
    {
     "name": "stderr",
     "output_type": "stream",
     "text": [
      "Compiling /home/jephian/.sage/temp/webwork/11579/tmp_er5ooko6.pyx...\n"
     ]
    },
    {
     "name": "stdout",
     "output_type": "stream",
     "text": [
      "Loading minrank.py...\n",
      "Loading inertia.py...\n",
      "Loading general_Lib.sage...\n",
      "---sshow, multi_sshow, tuple_generator, minimal_graphs, empty_array, all_one_matrix, elementary_matrix, eigens_multi, sort_dictionary, has_minor, etc.\n",
      "Loading oc_diag_analysis.sage...\n",
      "---gZ_leq, find_gZ, find_EZ, diagonal_analysis, etc.\n",
      "Loading xi_dict.py...\n",
      "---SAPreduced_matrix, has_SAP, find_ZFloor, Zsap, etc.\n",
      "Loading mu_dict.py...\n",
      "---get_mu_from_dict, find_mu, etc.\n",
      "Loading SXP.sage...\n",
      "This code contains extra copy of Z_game, Zell_game, Zplus_game, for the completeness of Zsap_game program.\n",
      "Loading matrix_forcing.py...\n"
     ]
    }
   ],
   "source": [
    "load(\"https://raw.githubusercontent.com/jephianlin/minrank_aux/master/load_all.py\")\n",
    "load_all()"
   ]
  },
  {
   "cell_type": "markdown",
   "metadata": {},
   "source": [
    "The `min_rank` function allows you  \n",
    "to compute the bounds for the minimum rank of a graph.  \n",
    "\n",
    "If `all_bounds=False` (default),  \n",
    "the output is a pair `(best lower bound, best upper bound)`.  \n",
    "If the two bounds meet,  \n",
    "the the minimum rank is found."
   ]
  },
  {
   "cell_type": "code",
   "execution_count": 38,
   "metadata": {},
   "outputs": [
    {
     "data": {
      "text/plain": [
       "(2, 2)"
      ]
     },
     "execution_count": 38,
     "metadata": {},
     "output_type": "execute_result"
    }
   ],
   "source": [
    "g = graphs.CycleGraph(4)\n",
    "minrank_bounds(g)"
   ]
  },
  {
   "cell_type": "markdown",
   "metadata": {},
   "source": [
    "If `all_bounds=True`,  \n",
    "the output is a pair of two dictionaries,  \n",
    "one recording the lower bounds while  \n",
    "the other recording the upper bounds."
   ]
  },
  {
   "cell_type": "code",
   "execution_count": 35,
   "metadata": {},
   "outputs": [
    {
     "data": {
      "text/plain": [
       "({'rank': 0,\n",
       "  'zero forcing': 5,\n",
       "  'zero forcing fast': 5,\n",
       "  'forbidden minrank 2': 3,\n",
       "  'diameter': 2},\n",
       " {'rank': 10,\n",
       "  'order': 9,\n",
       "  'not path': 8,\n",
       "  'not planar': 6,\n",
       "  'not outer planar': 7,\n",
       "  'clique cover': 15})"
      ]
     },
     "execution_count": 35,
     "metadata": {},
     "output_type": "execute_result"
    }
   ],
   "source": [
    "g = graphs.PetersenGraph()\n",
    "minrank_bounds(g, all_bounds=True)"
   ]
  },
  {
   "cell_type": "markdown",
   "metadata": {},
   "source": [
    "The `eigens_multi` function  \n",
    "print the dictionary  \n",
    "`{eigenvalue: multiplicity}`.  \n",
    "\n",
    "This function allows you  \n",
    "to guess the maximum multiplicity."
   ]
  },
  {
   "cell_type": "code",
   "execution_count": 37,
   "metadata": {},
   "outputs": [
    {
     "data": {
      "text/plain": [
       "{3: 1, -2: 4, 1: 5}"
      ]
     },
     "execution_count": 37,
     "metadata": {},
     "output_type": "execute_result"
    }
   ],
   "source": [
    "g = graphs.PetersenGraph()\n",
    "A = g.adjacency_matrix()\n",
    "eigens_multi(A)"
   ]
  },
  {
   "cell_type": "markdown",
   "metadata": {},
   "source": [
    "For the Petersen graph,  \n",
    "the maximum multiplicity is at least $5$  \n",
    "so the minimum rank is at most $10 - 5 = 5$.  \n",
    "\n",
    "The lower bounds provided by `minrank_bounds`  \n",
    "indicates that the minimum rank is at least $5$.  \n",
    "\n",
    "Thus, the minimum rank of the Petersen graph is $5$."
   ]
  },
  {
   "cell_type": "markdown",
   "metadata": {},
   "source": [
    "### Exercises"
   ]
  },
  {
   "cell_type": "markdown",
   "metadata": {},
   "source": [
    "##### Exercise"
   ]
  },
  {
   "cell_type": "markdown",
   "metadata": {},
   "source": [
    "clique cover  \n",
    "cut vertex  \n",
    "solve det(A(x)) = 0  \n",
    "PW thm\n",
    "tree sign similar  \n",
    "01 rank"
   ]
  },
  {
   "cell_type": "code",
   "execution_count": null,
   "metadata": {},
   "outputs": [],
   "source": []
  }
 ],
 "metadata": {
  "kernelspec": {
   "display_name": "SageMath 9.0",
   "language": "sage",
   "name": "sagemath"
  },
  "language_info": {
   "codemirror_mode": {
    "name": "ipython",
    "version": 3
   },
   "file_extension": ".py",
   "mimetype": "text/x-python",
   "name": "python",
   "nbconvert_exporter": "python",
   "pygments_lexer": "ipython3",
   "version": "3.7.6"
  }
 },
 "nbformat": 4,
 "nbformat_minor": 2
}
