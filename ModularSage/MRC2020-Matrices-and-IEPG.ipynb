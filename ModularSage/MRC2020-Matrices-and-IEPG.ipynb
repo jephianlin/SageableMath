{
 "cells": [
  {
   "cell_type": "markdown",
   "metadata": {},
   "source": [
    "# Matrices and IEP-$G$"
   ]
  },
  {
   "cell_type": "markdown",
   "metadata": {},
   "source": [
    "![Creative Commons License](https://i.creativecommons.org/l/by/4.0/88x31.png)  \n",
    "This work by Jephian Lin is licensed under a [Creative Commons Attribution 4.0 International License](http://creativecommons.org/licenses/by/4.0/)."
   ]
  },
  {
   "cell_type": "markdown",
   "metadata": {},
   "source": [
    "## Create a matrix"
   ]
  },
  {
   "cell_type": "markdown",
   "metadata": {},
   "source": [
    "## Things to do on a matrix"
   ]
  },
  {
   "cell_type": "markdown",
   "metadata": {},
   "source": [
    "Once a graph `g` is built,  \n",
    "there are many **associated functions**.  \n",
    "\n",
    "When the cursor is at the end of `g.`  \n",
    "press `tab` to see them."
   ]
  },
  {
   "cell_type": "markdown",
   "metadata": {},
   "source": [
    "## IEP-$G$"
   ]
  },
  {
   "cell_type": "markdown",
   "metadata": {},
   "source": [
    "[Minimum Rank Sage Library](https://github.com/jephianlin/mr_JG):  computing bounds of minimum rank, and many other features.  \n",
    "[minrank_aux](https://github.com/jephianlin/minrank_aux):  auxiliary tools for the minimum rank problem  \n",
    "\n",
    "The `load_all` function is provided  \n",
    "to load both libraries."
   ]
  },
  {
   "cell_type": "markdown",
   "metadata": {},
   "source": [
    "If the output reaches the line\n",
    "\n",
    "    Loading matrix_forcing.py...  \n",
    "\n",
    "then it is likely to work.  \n",
    "\n",
    "If there is any error,  \n",
    "please report it to Jephian Lin `jephianlin [at] gmail [dot] com`."
   ]
  },
  {
   "cell_type": "code",
   "execution_count": 1,
   "metadata": {},
   "outputs": [
    {
     "name": "stdout",
     "output_type": "stream",
     "text": [
      "Loading Zq_c.pyx...\n"
     ]
    },
    {
     "name": "stderr",
     "output_type": "stream",
     "text": [
      "Compiling /home/jephian/.sage/temp/webwork/13453/tmp_bm8pd7dw.pyx...\n"
     ]
    },
    {
     "name": "stdout",
     "output_type": "stream",
     "text": [
      "Loading Zq.py...\n",
      "Loading zero_forcing_64.pyx...\n"
     ]
    },
    {
     "name": "stderr",
     "output_type": "stream",
     "text": [
      "Compiling /home/jephian/.sage/temp/webwork/13453/tmp_j9z2qybd.pyx...\n"
     ]
    },
    {
     "name": "stdout",
     "output_type": "stream",
     "text": [
      "Loading zero_forcing_wavefront.pyx...\n"
     ]
    },
    {
     "name": "stderr",
     "output_type": "stream",
     "text": [
      "Compiling /home/jephian/.sage/temp/webwork/13453/tmp_11em4tub.pyx...\n"
     ]
    },
    {
     "name": "stdout",
     "output_type": "stream",
     "text": [
      "Loading minrank.py...\n",
      "Loading inertia.py...\n",
      "Loading general_Lib.sage...\n",
      "---sshow, multi_sshow, tuple_generator, minimal_graphs, empty_array, all_one_matrix, elementary_matrix, eigens_multi, sort_dictionary, has_minor, etc.\n",
      "Loading oc_diag_analysis.sage...\n",
      "---gZ_leq, find_gZ, find_EZ, diagonal_analysis, etc.\n",
      "Loading xi_dict.py...\n",
      "---SAPreduced_matrix, has_SAP, find_ZFloor, Zsap, etc.\n",
      "Loading mu_dict.py...\n",
      "---get_mu_from_dict, find_mu, etc.\n",
      "Loading SXP.sage...\n",
      "This code contains extra copy of Z_game, Zell_game, Zplus_game, for the completeness of Zsap_game program.\n",
      "Loading matrix_forcing.py...\n"
     ]
    }
   ],
   "source": [
    "load(\"https://raw.githubusercontent.com/jephianlin/minrank_aux/master/load_all.py\")\n",
    "load_all()"
   ]
  },
  {
   "cell_type": "code",
   "execution_count": null,
   "metadata": {},
   "outputs": [],
   "source": [
    "The `min_rank` function allows you  \n",
    "to compute the bounds for the minimum rank of a graph.  \n",
    "\n",
    "You may set `all_bounds=True`  \n",
    "to see all bounds."
   ]
  }
 ],
 "metadata": {
  "kernelspec": {
   "display_name": "SageMath 9.0",
   "language": "sage",
   "name": "sagemath"
  },
  "language_info": {
   "codemirror_mode": {
    "name": "ipython",
    "version": 3
   },
   "file_extension": ".py",
   "mimetype": "text/x-python",
   "name": "python",
   "nbconvert_exporter": "python",
   "pygments_lexer": "ipython3",
   "version": "3.7.6"
  }
 },
 "nbformat": 4,
 "nbformat_minor": 2
}
