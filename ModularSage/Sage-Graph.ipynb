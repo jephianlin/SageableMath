{
 "cells": [
  {
   "cell_type": "markdown",
   "metadata": {},
   "source": [
    "# Sage Special Topics: Graph"
   ]
  },
  {
   "cell_type": "markdown",
   "metadata": {},
   "source": [
    "## Create a graph"
   ]
  },
  {
   "cell_type": "markdown",
   "metadata": {},
   "source": [
    "There are many **built-in graphs**  \n",
    "under the `graphs` module."
   ]
  },
  {
   "cell_type": "code",
   "execution_count": null,
   "metadata": {},
   "outputs": [],
   "source": [
    "g = graphs.PathGraph(5)\n",
    "# g = graphs.CycleGraph(5)\n",
    "# g = graphs.PetersenGraph()\n",
    "g.show()"
   ]
  },
  {
   "cell_type": "markdown",
   "metadata": {},
   "source": [
    "Or, one may use  \n",
    "the **vertex set** and the **edge set**  \n",
    "to define a graph."
   ]
  },
  {
   "cell_type": "code",
   "execution_count": null,
   "metadata": {},
   "outputs": [],
   "source": [
    "V = [0,1,2,3,4]\n",
    "E = [(0,1), (1,2), (2,3), (3,4)]\n",
    "g = Graph([V,E])\n",
    "g.show()"
   ]
  },
  {
   "cell_type": "markdown",
   "metadata": {},
   "source": [
    "Alternatively,  \n",
    "build the graph by **adding vertices/edges**."
   ]
  },
  {
   "cell_type": "code",
   "execution_count": null,
   "metadata": {},
   "outputs": [],
   "source": [
    "### start with one vertex without any edge\n",
    "g = Graph(1) \n",
    "### keep adding vertices and edges\n",
    "for i in range(1,5):\n",
    "    g.add_vertex(i)\n",
    "    g.add_edge(i,i-1)\n",
    "g.show()"
   ]
  },
  {
   "cell_type": "markdown",
   "metadata": {},
   "source": [
    "The `show` function  \n",
    "has many keywords for you  \n",
    "to adjust the **graph illustration**.\n",
    "\n",
    "See [Sage Reference Manual](http://doc.sagemath.org/html/en/reference/plotting/sage/graphs/graph_plot.html) for more details."
   ]
  },
  {
   "cell_type": "code",
   "execution_count": null,
   "metadata": {},
   "outputs": [],
   "source": [
    "g = graphs.PathGraph(5)\n",
    "g.show(figsize=[3,3], \n",
    "       vertex_labels=False, \n",
    "       vertex_size=30\n",
    "      )"
   ]
  },
  {
   "cell_type": "markdown",
   "metadata": {},
   "source": [
    "## Work on a grpah"
   ]
  },
  {
   "cell_type": "markdown",
   "metadata": {},
   "source": [
    "Once a graph `g` is built,  \n",
    "there are many **associated functions**.  \n",
    "\n",
    "When the cursor is at the end of `g.`  \n",
    "press `tab` to see them."
   ]
  },
  {
   "cell_type": "code",
   "execution_count": null,
   "metadata": {},
   "outputs": [],
   "source": [
    "g."
   ]
  },
  {
   "cell_type": "markdown",
   "metadata": {},
   "source": [
    "Thus, you may easily call  \n",
    "the **adjacency matrix** or the **Laplacian matrix**."
   ]
  },
  {
   "cell_type": "code",
   "execution_count": null,
   "metadata": {},
   "outputs": [],
   "source": [
    "g = graphs.PathGraph(5)\n",
    "A = g.adjacency_matrix()\n",
    "# A = g.laplacian_matrix()\n",
    "A"
   ]
  },
  {
   "cell_type": "markdown",
   "metadata": {},
   "source": [
    "Find the **vertex set**  \n",
    "and the **edge set**."
   ]
  },
  {
   "cell_type": "code",
   "execution_count": null,
   "metadata": {},
   "outputs": [],
   "source": [
    "g = graphs.PathGraph(5)\n",
    "V = g.vertices()\n",
    "E_with_label = g.edges()\n",
    "E_without_label = g.edges(labels=False)\n",
    "print('V:', V)\n",
    "print('E_with_label', E_with_label)\n",
    "print('E_without_label', E_without_label)"
   ]
  },
  {
   "cell_type": "markdown",
   "metadata": {},
   "source": [
    "Find the **neighbors**  \n",
    "of a vertex."
   ]
  },
  {
   "cell_type": "code",
   "execution_count": null,
   "metadata": {},
   "outputs": [],
   "source": [
    "g = graphs.PathGraph(5)\n",
    "g.neighbors(1)"
   ]
  },
  {
   "cell_type": "markdown",
   "metadata": {},
   "source": [
    "Call the (induced) **subgraph**."
   ]
  },
  {
   "cell_type": "code",
   "execution_count": null,
   "metadata": {},
   "outputs": [],
   "source": [
    "g = graphs.PathGraph(5)\n",
    "g.subgraph([0,1,3,4])"
   ]
  },
  {
   "cell_type": "markdown",
   "metadata": {},
   "source": [
    "[nauty and Traces](http://pallini.di.uniroma1.it/)  \n",
    "are programs developed by Brendan McKay and Adolfo Piperno  \n",
    "used for computing graph automorphism,  \n",
    "testing graph isomorphism, generating non-isomorphic graphs,  \n",
    "and many more.\n",
    "\n",
    "One may use Sage to call `nauty`  \n",
    "and **search for graphs**.  \n",
    "\n",
    "In the example below,  \n",
    "`4 -c` stands for 4 vertices and connected graphs."
   ]
  },
  {
   "cell_type": "code",
   "execution_count": null,
   "metadata": {},
   "outputs": [],
   "source": [
    "for g in graphs.nauty_geng('4 -c'):\n",
    "    g.show(figsize=[2,2], \n",
    "       vertex_labels=False, \n",
    "       vertex_size=30\n",
    "          )"
   ]
  },
  {
   "cell_type": "markdown",
   "metadata": {},
   "source": [
    "Each graph under a labeling  \n",
    "has a **graph6 string**."
   ]
  },
  {
   "cell_type": "code",
   "execution_count": null,
   "metadata": {},
   "outputs": [],
   "source": [
    "g = graphs.CycleGraph(4)\n",
    "g.graph6_string()"
   ]
  },
  {
   "cell_type": "markdown",
   "metadata": {},
   "source": [
    "Different labelings  \n",
    "results in different strings."
   ]
  },
  {
   "cell_type": "code",
   "execution_count": null,
   "metadata": {},
   "outputs": [],
   "source": [
    "h = graphs.CompleteBipartiteGraph(2,2)\n",
    "h.graph6_string()"
   ]
  },
  {
   "cell_type": "markdown",
   "metadata": {},
   "source": [
    "Each graph has a **canonical labeling**  \n",
    "that provides a \"standard\" way  \n",
    "to label the graph.  \n",
    "\n",
    "Thus, one may use it to test isomorphism."
   ]
  },
  {
   "cell_type": "code",
   "execution_count": null,
   "metadata": {},
   "outputs": [],
   "source": [
    "g = graphs.CycleGraph(4)\n",
    "h = graphs.CompleteBipartiteGraph(2,2)\n",
    "print(g.canonical_label().graph6_string())\n",
    "print(h.canonical_label().graph6_string())"
   ]
  },
  {
   "cell_type": "markdown",
   "metadata": {},
   "source": [
    "### Exercises"
   ]
  },
  {
   "cell_type": "markdown",
   "metadata": {},
   "source": [
    "##### Exercise\n",
    "Create a double star `g` on $10$ vertices  \n",
    "with $3$ leaves sharing a common neighbor  \n",
    "and another $5$ leaves sharing another common neighbor."
   ]
  },
  {
   "cell_type": "code",
   "execution_count": null,
   "metadata": {},
   "outputs": [],
   "source": [
    "### your answer here"
   ]
  },
  {
   "cell_type": "markdown",
   "metadata": {},
   "source": [
    "##### Exercise\n",
    "Create the $5$-sun `g` on 10 vertices  \n",
    "obtained by adding 5 leaves to  \n",
    "each vertices of $C_5$."
   ]
  },
  {
   "cell_type": "code",
   "execution_count": null,
   "metadata": {},
   "outputs": [],
   "source": [
    "### your answer here"
   ]
  },
  {
   "cell_type": "markdown",
   "metadata": {},
   "source": [
    "##### Exercise\n",
    "Create a graph `g` on 10 vertices  \n",
    "obtained from three disjoint paths $P_4$  \n",
    "by picking an endpoint from each of them  \n",
    "and identifying these endpoints."
   ]
  },
  {
   "cell_type": "code",
   "execution_count": null,
   "metadata": {},
   "outputs": [],
   "source": [
    "### your answer here"
   ]
  },
  {
   "cell_type": "markdown",
   "metadata": {},
   "source": [
    "##### Exercise\n",
    "\n",
    "The **spectral radius** of a graph $G$  \n",
    "is the largest eigenvalue of  \n",
    "the adjacency matrix of $G$.  \n",
    "\n",
    "Find the spectral radius of the Petersen graph.  "
   ]
  },
  {
   "cell_type": "code",
   "execution_count": null,
   "metadata": {},
   "outputs": [],
   "source": [
    "### your answer here"
   ]
  },
  {
   "cell_type": "markdown",
   "metadata": {},
   "source": [
    "##### Exercise\n",
    "\n",
    "Search through all connected graphs on 5 vertices  \n",
    "print the graph6 string and the spectral radius  \n",
    "for each of them.  \n",
    "\n",
    "Which one has the maximum spectral radius?  \n",
    "Which one has the minimum spectral radius?"
   ]
  },
  {
   "cell_type": "code",
   "execution_count": null,
   "metadata": {},
   "outputs": [],
   "source": [
    "### your answer here"
   ]
  }
 ],
 "metadata": {
  "kernelspec": {
   "display_name": "SageMath 9.4",
   "language": "sage",
   "name": "sagemath"
  },
  "language_info": {
   "codemirror_mode": {
    "name": "ipython",
    "version": 3
   },
   "file_extension": ".py",
   "mimetype": "text/x-python",
   "name": "python",
   "nbconvert_exporter": "python",
   "pygments_lexer": "ipython3",
   "version": "3.9.7"
  }
 },
 "nbformat": 4,
 "nbformat_minor": 2
}
