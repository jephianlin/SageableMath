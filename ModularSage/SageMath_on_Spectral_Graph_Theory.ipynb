{
 "cells": [
  {
   "cell_type": "markdown",
   "metadata": {},
   "source": [
    "# SageMath on Spectral Graph Theory"
   ]
  },
  {
   "cell_type": "markdown",
   "metadata": {},
   "source": [
    "## What is [SageMath](http://www.sagemath.org/)?\n",
    "* A **free open-source mathematics software system** licensed under the GPL \n",
    "* Build **on top of many existing open-source packages**: NumPy, SciPy, matplotlib, Sympy, Maxima, GAP, FLINT, R and many more\n",
    "* **Python-based** language\n",
    "\n",
    "#### Some more stories\n",
    "* Sage was created by **William Stein**\n",
    "* Sage stands for \"**System for Algebra and Geometry Experimentation**\"\n",
    "* Sage **Mission Statement**:  Create a viable free open source alternative to Magma, Maple, Mathematica and Matlab\n",
    "* [The origins of SageMath](https://wstein.org/talks/2016-06-sage-bp/)"
   ]
  },
  {
   "cell_type": "markdown",
   "metadata": {},
   "source": [
    "## How to install?\n",
    "* [Quick Download and Installation Guide](https://wiki.sagemath.org/DownloadAndInstallationGuide)\n",
    "* [SageMath Installation Guide](http://doc.sagemath.org/html/en/installation/index.html)"
   ]
  },
  {
   "cell_type": "markdown",
   "metadata": {},
   "source": [
    "## How to not install?\n",
    "* [CoCalc](https://cocalc.com/)\n",
    "* [SageCell](https://sagecell.sagemath.org/)\n",
    "* Ask the IT to build a local Sage server for everyone!  (Sage notebook, CoCalc, and SageCell are all open-source.) "
   ]
  },
  {
   "cell_type": "markdown",
   "metadata": {},
   "source": [
    "## Tutorials\n",
    "* [A Tour of Sage](http://doc.sagemath.org/html/en/a_tour_of_sage/index.html)\n",
    "* [Official Sage Tutorials](http://doc.sagemath.org/html/en/tutorial/index.html)\n",
    "* [Modular Sage](https://github.com/jephianlin/SageableMath/blob/master/ModularSage.md)"
   ]
  },
  {
   "cell_type": "markdown",
   "metadata": {},
   "source": [
    "## Algebra and Matrices"
   ]
  },
  {
   "cell_type": "markdown",
   "metadata": {},
   "source": [
    "Press `shift + enter` to run the cell."
   ]
  },
  {
   "cell_type": "code",
   "execution_count": 1,
   "metadata": {},
   "outputs": [
    {
     "data": {
      "text/plain": [
       "2"
      ]
     },
     "execution_count": 1,
     "metadata": {},
     "output_type": "execute_result"
    }
   ],
   "source": [
    "1 + 1"
   ]
  },
  {
   "cell_type": "markdown",
   "metadata": {},
   "source": [
    "Integers are considered in the **integer ring**."
   ]
  },
  {
   "cell_type": "code",
   "execution_count": 2,
   "metadata": {},
   "outputs": [
    {
     "data": {
      "text/plain": [
       "2^3 * 3 * 5"
      ]
     },
     "execution_count": 2,
     "metadata": {},
     "output_type": "execute_result"
    }
   ],
   "source": [
    "120.factor()"
   ]
  },
  {
   "cell_type": "markdown",
   "metadata": {},
   "source": [
    "Thus, the `echelon_form()` of an integer matrix  \n",
    "is the **Hermite normal form**,  \n",
    "and the entries above a pivot can possibly be nonzero."
   ]
  },
  {
   "cell_type": "code",
   "execution_count": 10,
   "metadata": {},
   "outputs": [
    {
     "data": {
      "text/plain": [
       "[  1   0  50 -11]\n",
       "[  0   3  28  -2]\n",
       "[  0   0  61 -13]"
      ]
     },
     "execution_count": 10,
     "metadata": {},
     "output_type": "execute_result"
    }
   ],
   "source": [
    "A = matrix([\n",
    "    [2,3,6,2],\n",
    "    [5,6,1,6],\n",
    "    [8,3,1,1]\n",
    "])\n",
    "\n",
    "A.echelon_form()"
   ]
  },
  {
   "cell_type": "markdown",
   "metadata": {},
   "source": [
    "The `echelon_form()` of an matrix over the field of rational numbers `QQ`  \n",
    "is the **reduced echelon form**."
   ]
  },
  {
   "cell_type": "code",
   "execution_count": 11,
   "metadata": {},
   "outputs": [
    {
     "data": {
      "text/plain": [
       "[      1       0       0  -21/61]\n",
       "[      0       1       0 242/183]\n",
       "[      0       0       1  -13/61]"
      ]
     },
     "execution_count": 11,
     "metadata": {},
     "output_type": "execute_result"
    }
   ],
   "source": [
    "A = matrix(QQ,[\n",
    "    [2,3,6,2],\n",
    "    [5,6,1,6],\n",
    "    [8,3,1,1]\n",
    "])\n",
    "\n",
    "A.echelon_form()"
   ]
  },
  {
   "cell_type": "markdown",
   "metadata": {},
   "source": [
    "Sage is good at computations on **symbolic expressions**."
   ]
  },
  {
   "cell_type": "code",
   "execution_count": 12,
   "metadata": {},
   "outputs": [
    {
     "data": {
      "text/plain": [
       "x^5 - 5*x^4 + 10*x^3 - 10*x^2 + 5*x - 1"
      ]
     },
     "execution_count": 12,
     "metadata": {},
     "output_type": "execute_result"
    }
   ],
   "source": [
    "p = (x-1)^5\n",
    "expand(p)"
   ]
  },
  {
   "cell_type": "code",
   "execution_count": 13,
   "metadata": {},
   "outputs": [
    {
     "data": {
      "text/plain": [
       "(x - 1)^5"
      ]
     },
     "execution_count": 13,
     "metadata": {},
     "output_type": "execute_result"
    }
   ],
   "source": [
    "q = x^5 - 5*x^4 + 10*x^3 - 10*x^2 + 5*x - 1\n",
    "factor(q)"
   ]
  },
  {
   "cell_type": "markdown",
   "metadata": {},
   "source": [
    "Doing the **determinant** and the **characteristic polynomial** are straightforward."
   ]
  },
  {
   "cell_type": "code",
   "execution_count": 14,
   "metadata": {},
   "outputs": [
    {
     "data": {
      "text/plain": [
       "0"
      ]
     },
     "execution_count": 14,
     "metadata": {},
     "output_type": "execute_result"
    }
   ],
   "source": [
    "A = matrix([\n",
    "    [1,1,1,1,1],\n",
    "    [1,1,1,1,1],\n",
    "    [1,1,1,1,1],\n",
    "    [1,1,1,1,1],\n",
    "    [1,1,1,1,1]\n",
    "])\n",
    "\n",
    "A.determinant()"
   ]
  },
  {
   "cell_type": "code",
   "execution_count": 18,
   "metadata": {},
   "outputs": [
    {
     "data": {
      "text/plain": [
       "[x - 1    -1    -1    -1    -1]\n",
       "[   -1 x - 1    -1    -1    -1]\n",
       "[   -1    -1 x - 1    -1    -1]\n",
       "[   -1    -1    -1 x - 1    -1]\n",
       "[   -1    -1    -1    -1 x - 1]"
      ]
     },
     "execution_count": 18,
     "metadata": {},
     "output_type": "execute_result"
    }
   ],
   "source": [
    "B = x*identity_matrix(5) - A\n",
    "B"
   ]
  },
  {
   "cell_type": "code",
   "execution_count": 19,
   "metadata": {},
   "outputs": [
    {
     "data": {
      "text/plain": [
       "x^5 - 5*x^4"
      ]
     },
     "execution_count": 19,
     "metadata": {},
     "output_type": "execute_result"
    }
   ],
   "source": [
    "B.determinant()"
   ]
  },
  {
   "cell_type": "code",
   "execution_count": 17,
   "metadata": {},
   "outputs": [
    {
     "data": {
      "text/plain": [
       "x^5 - 5*x^4"
      ]
     },
     "execution_count": 17,
     "metadata": {},
     "output_type": "execute_result"
    }
   ],
   "source": [
    "A.characteristic_polynomial()"
   ]
  },
  {
   "cell_type": "markdown",
   "metadata": {},
   "source": [
    "Do you feel difficult to teach students  \n",
    "that the determinant of an $n\\times n$ matrix  \n",
    "has $n!$ terms?"
   ]
  },
  {
   "cell_type": "code",
   "execution_count": 20,
   "metadata": {},
   "outputs": [
    {
     "data": {
      "text/plain": [
       "[x00 x01 x02 x03]\n",
       "[x10 x11 x12 x13]\n",
       "[x20 x21 x22 x23]\n",
       "[x30 x31 x32 x33]"
      ]
     },
     "execution_count": 20,
     "metadata": {},
     "output_type": "execute_result"
    }
   ],
   "source": [
    "n = 4\n",
    "\n",
    "xs = [var('x%s%s'%(i,j)) for i in range(n) for j in range(n)]\n",
    "\n",
    "X = matrix(n, xs)\n",
    "X"
   ]
  },
  {
   "cell_type": "code",
   "execution_count": 21,
   "metadata": {},
   "outputs": [
    {
     "data": {
      "text/plain": [
       "x03*x12*x21*x30 - x02*x13*x21*x30 - x03*x11*x22*x30 + x01*x13*x22*x30 + x02*x11*x23*x30 - x01*x12*x23*x30 - x03*x12*x20*x31 + x02*x13*x20*x31 + x03*x10*x22*x31 - x00*x13*x22*x31 - x02*x10*x23*x31 + x00*x12*x23*x31 + x03*x11*x20*x32 - x01*x13*x20*x32 - x03*x10*x21*x32 + x00*x13*x21*x32 + x01*x10*x23*x32 - x00*x11*x23*x32 - x02*x11*x20*x33 + x01*x12*x20*x33 + x02*x10*x21*x33 - x00*x12*x21*x33 - x01*x10*x22*x33 + x00*x11*x22*x33"
      ]
     },
     "execution_count": 21,
     "metadata": {},
     "output_type": "execute_result"
    }
   ],
   "source": [
    "X.determinant()"
   ]
  },
  {
   "cell_type": "markdown",
   "metadata": {},
   "source": [
    "Compute the **eigenvalues** and **eigenvectors** for you."
   ]
  },
  {
   "cell_type": "code",
   "execution_count": 28,
   "metadata": {},
   "outputs": [
    {
     "data": {
      "text/plain": [
       "[5, 0, 0, 0, 0]"
      ]
     },
     "execution_count": 28,
     "metadata": {},
     "output_type": "execute_result"
    }
   ],
   "source": [
    "A = matrix([\n",
    "    [1,1,1,1,1],\n",
    "    [1,1,1,1,1],\n",
    "    [1,1,1,1,1],\n",
    "    [1,1,1,1,1],\n",
    "    [1,1,1,1,1]\n",
    "])\n",
    "\n",
    "A.eigenvalues()"
   ]
  },
  {
   "cell_type": "code",
   "execution_count": 31,
   "metadata": {},
   "outputs": [
    {
     "data": {
      "text/plain": [
       "(\n",
       "[5 0 0 0 0]  [ 1  1  0  0  0]\n",
       "[0 0 0 0 0]  [ 1  0  1  0  0]\n",
       "[0 0 0 0 0]  [ 1  0  0  1  0]\n",
       "[0 0 0 0 0]  [ 1  0  0  0  1]\n",
       "[0 0 0 0 0], [ 1 -1 -1 -1 -1]\n",
       ")"
      ]
     },
     "execution_count": 31,
     "metadata": {},
     "output_type": "execute_result"
    }
   ],
   "source": [
    "A.eigenmatrix_right() \n",
    "### output D and Q\n",
    "### D is diagonal\n",
    "### The columns of Q are the eigenvectors"
   ]
  },
  {
   "cell_type": "markdown",
   "metadata": {},
   "source": [
    "Compute the **inverse**."
   ]
  },
  {
   "cell_type": "code",
   "execution_count": 33,
   "metadata": {},
   "outputs": [
    {
     "data": {
      "text/plain": [
       "[ 0  1  0 -1]\n",
       "[ 1  0  0  0]\n",
       "[ 0  0  0  1]\n",
       "[-1  0  1  0]"
      ]
     },
     "execution_count": 33,
     "metadata": {},
     "output_type": "execute_result"
    }
   ],
   "source": [
    "A = matrix([\n",
    "    [0,1,0,0],\n",
    "    [1,0,1,0],\n",
    "    [0,1,0,1],\n",
    "    [0,0,1,0]\n",
    "])\n",
    "\n",
    "A.inverse()"
   ]
  },
  {
   "cell_type": "markdown",
   "metadata": {},
   "source": [
    "Way more features!\n",
    "\n",
    "Input a matrix `A` first.  \n",
    "Type `A.` and then press `tab`."
   ]
  },
  {
   "cell_type": "code",
   "execution_count": 34,
   "metadata": {},
   "outputs": [],
   "source": [
    "A = matrix([\n",
    "    [0,1,0,0],\n",
    "    [1,0,1,0],\n",
    "    [0,1,0,1],\n",
    "    [0,0,1,0]\n",
    "])"
   ]
  },
  {
   "cell_type": "code",
   "execution_count": null,
   "metadata": {},
   "outputs": [],
   "source": [
    "A."
   ]
  },
  {
   "cell_type": "markdown",
   "metadata": {},
   "source": [
    "## Matrices and Graphs"
   ]
  },
  {
   "cell_type": "markdown",
   "metadata": {},
   "source": [
    "Graphs can be input by its **adjacency matrix**  \n",
    "or a **neighborhood dictionary**."
   ]
  },
  {
   "cell_type": "code",
   "execution_count": 38,
   "metadata": {},
   "outputs": [
    {
     "data": {
      "image/png": "[encoded data removed]",
      "text/plain": [
       "Graphics object consisting of 8 graphics primitives"
      ]
     },
     "metadata": {},
     "output_type": "display_data"
    }
   ],
   "source": [
    "A = matrix([\n",
    "    [0,1,0,0],\n",
    "    [1,0,1,0],\n",
    "    [0,1,0,1],\n",
    "    [0,0,1,0]\n",
    "])\n",
    "\n",
    "g = Graph(A)\n",
    "g.show(figsize=[2,2])"
   ]
  },
  {
   "cell_type": "code",
   "execution_count": 39,
   "metadata": {},
   "outputs": [
    {
     "data": {
      "image/png": "[encoded data removed]",
      "text/plain": [
       "Graphics object consisting of 8 graphics primitives"
      ]
     },
     "metadata": {},
     "output_type": "display_data"
    }
   ],
   "source": [
    "nbr = {0:[1], 1:[2], 2:[3]}\n",
    "\n",
    "g = Graph(nbr)\n",
    "g.show(figsize=[2,2])"
   ]
  },
  {
   "cell_type": "markdown",
   "metadata": {},
   "source": [
    "Alternatively, `graphs` contains many built-in graphs."
   ]
  },
  {
   "cell_type": "code",
   "execution_count": 40,
   "metadata": {},
   "outputs": [
    {
     "data": {
      "image/png": "[encoded data removed]",
      "text/plain": [
       "Graphics object consisting of 8 graphics primitives"
      ]
     },
     "metadata": {},
     "output_type": "display_data"
    }
   ],
   "source": [
    "g = graphs.PathGraph(4)\n",
    "g.show(figsize=[2,2])"
   ]
  },
  {
   "cell_type": "code",
   "execution_count": 41,
   "metadata": {},
   "outputs": [
    {
     "data": {
      "image/png": "[encoded data removed]",
      "text/plain": [
       "Graphics object consisting of 26 graphics primitives"
      ]
     },
     "metadata": {},
     "output_type": "display_data"
    }
   ],
   "source": [
    "g = graphs.PetersenGraph()\n",
    "g.show(figsize=[2,2])"
   ]
  },
  {
   "cell_type": "markdown",
   "metadata": {},
   "source": [
    "Access the **adjacency matrix** and the **Laplacian matrix**."
   ]
  },
  {
   "cell_type": "code",
   "execution_count": 46,
   "metadata": {},
   "outputs": [
    {
     "name": "stdout",
     "output_type": "stream",
     "text": [
      "A =\n",
      "[0 1 0 0 1 1 0 0 0 0]\n",
      "[1 0 1 0 0 0 1 0 0 0]\n",
      "[0 1 0 1 0 0 0 1 0 0]\n",
      "[0 0 1 0 1 0 0 0 1 0]\n",
      "[1 0 0 1 0 0 0 0 0 1]\n",
      "[1 0 0 0 0 0 0 1 1 0]\n",
      "[0 1 0 0 0 0 0 0 1 1]\n",
      "[0 0 1 0 0 1 0 0 0 1]\n",
      "[0 0 0 1 0 1 1 0 0 0]\n",
      "[0 0 0 0 1 0 1 1 0 0]\n",
      "\n",
      "L =\n",
      "[ 3 -1  0  0 -1 -1  0  0  0  0]\n",
      "[-1  3 -1  0  0  0 -1  0  0  0]\n",
      "[ 0 -1  3 -1  0  0  0 -1  0  0]\n",
      "[ 0  0 -1  3 -1  0  0  0 -1  0]\n",
      "[-1  0  0 -1  3  0  0  0  0 -1]\n",
      "[-1  0  0  0  0  3  0 -1 -1  0]\n",
      "[ 0 -1  0  0  0  0  3  0 -1 -1]\n",
      "[ 0  0 -1  0  0 -1  0  3  0 -1]\n",
      "[ 0  0  0 -1  0 -1 -1  0  3  0]\n",
      "[ 0  0  0  0 -1  0 -1 -1  0  3]\n"
     ]
    }
   ],
   "source": [
    "g = graphs.PetersenGraph()\n",
    "A = g.adjacency_matrix()\n",
    "L = g.laplacian_matrix()\n",
    "\n",
    "print 'A ='\n",
    "print A\n",
    "print \n",
    "print 'L ='\n",
    "print L"
   ]
  },
  {
   "cell_type": "markdown",
   "metadata": {},
   "source": [
    "Compute the **critical group**.  \n",
    "(The Smith normal form of the Laplacian matrix.)"
   ]
  },
  {
   "cell_type": "code",
   "execution_count": 51,
   "metadata": {},
   "outputs": [
    {
     "data": {
      "text/plain": [
       "[ 1  0  0  0  0  0  0  0  0  0]\n",
       "[ 0  1  0  0  0  0  0  0  0  0]\n",
       "[ 0  0  1  0  0  0  0  0  0  0]\n",
       "[ 0  0  0  1  0  0  0  0  0  0]\n",
       "[ 0  0  0  0  1  0  0  0  0  0]\n",
       "[ 0  0  0  0  0  2  0  0  0  0]\n",
       "[ 0  0  0  0  0  0 10  0  0  0]\n",
       "[ 0  0  0  0  0  0  0 10  0  0]\n",
       "[ 0  0  0  0  0  0  0  0 10  0]\n",
       "[ 0  0  0  0  0  0  0  0  0  0]"
      ]
     },
     "execution_count": 51,
     "metadata": {},
     "output_type": "execute_result"
    }
   ],
   "source": [
    "L.smith_form(transformation=False)"
   ]
  },
  {
   "cell_type": "markdown",
   "metadata": {},
   "source": [
    "### [Abelian Sandpile Model](http://doc.sagemath.org/html/en/thematic_tutorials/sandpile.html)"
   ]
  },
  {
   "cell_type": "code",
   "execution_count": 55,
   "metadata": {},
   "outputs": [
    {
     "data": {
      "image/png": "[encoded data removed]",
      "text/plain": [
       "Graphics object consisting of 8 graphics primitives"
      ]
     },
     "metadata": {},
     "output_type": "display_data"
    }
   ],
   "source": [
    "g = graphs.PathGraph(4)\n",
    "g.show(figsize=[2,2])"
   ]
  },
  {
   "cell_type": "code",
   "execution_count": 65,
   "metadata": {},
   "outputs": [
    {
     "data": {
      "image/png": "[encoded data removed]",
      "text/plain": [
       "Path sandpile graph: 4 vertices, sink = 0"
      ]
     },
     "execution_count": 65,
     "metadata": {},
     "output_type": "execute_result"
    }
   ],
   "source": [
    "S = Sandpile(g,0)\n",
    "S"
   ]
  },
  {
   "cell_type": "code",
   "execution_count": 75,
   "metadata": {
    "scrolled": false
   },
   "outputs": [
    {
     "data": {
      "text/plain": [
       "{1: 3, 2: 6, 3: 5}"
      ]
     },
     "execution_count": 75,
     "metadata": {},
     "output_type": "execute_result"
    }
   ],
   "source": [
    "c = SandpileConfig(S, {1:5, 2:5, 3:5})\n",
    "c.fire_vertex(1)"
   ]
  },
  {
   "cell_type": "code",
   "execution_count": 76,
   "metadata": {},
   "outputs": [
    {
     "data": {
      "text/plain": [
       "{1: 1, 2: 1, 3: 0}"
      ]
     },
     "execution_count": 76,
     "metadata": {},
     "output_type": "execute_result"
    }
   ],
   "source": [
    "c.stabilize()"
   ]
  },
  {
   "cell_type": "code",
   "execution_count": 77,
   "metadata": {},
   "outputs": [
    {
     "data": {
      "text/plain": [
       "{1: 1, 2: 1, 3: 0}"
      ]
     },
     "execution_count": 77,
     "metadata": {},
     "output_type": "execute_result"
    }
   ],
   "source": [
    "e = S.identity()\n",
    "e"
   ]
  },
  {
   "cell_type": "code",
   "execution_count": 80,
   "metadata": {},
   "outputs": [
    {
     "data": {
      "text/plain": [
       "{1: 1, 2: 1, 3: 0}"
      ]
     },
     "execution_count": 80,
     "metadata": {},
     "output_type": "execute_result"
    }
   ],
   "source": [
    "(e + c).stabilize() ### the same as c.stabilize()"
   ]
  },
  {
   "cell_type": "markdown",
   "metadata": {},
   "source": [
    "### Matrix-tree Theorem\n",
    "\n",
    "Let $G$ be a graph and $L$ its Laplacian matrix.  \n",
    "Let $L(i,j)$ be the matrix obtained from $L$ by removing the $i$-th row and the $j$-th column.  \n",
    "Then $|\\det(L(i,j))|$ is the number of the spanning trees on $G$."
   ]
  },
  {
   "cell_type": "code",
   "execution_count": 84,
   "metadata": {},
   "outputs": [
    {
     "data": {
      "image/png": "[encoded data removed]",
      "text/plain": [
       "Graphics object consisting of 13 graphics primitives"
      ]
     },
     "metadata": {},
     "output_type": "display_data"
    }
   ],
   "source": [
    "g = graphs.CycleGraph(6)\n",
    "g.show(figsize=[2,2])"
   ]
  },
  {
   "cell_type": "code",
   "execution_count": 85,
   "metadata": {},
   "outputs": [
    {
     "data": {
      "text/plain": [
       "[ 2 -1  0  0  0 -1]\n",
       "[-1  2 -1  0  0  0]\n",
       "[ 0 -1  2 -1  0  0]\n",
       "[ 0  0 -1  2 -1  0]\n",
       "[ 0  0  0 -1  2 -1]\n",
       "[-1  0  0  0 -1  2]"
      ]
     },
     "execution_count": 85,
     "metadata": {},
     "output_type": "execute_result"
    }
   ],
   "source": [
    "L = g.laplacian_matrix()\n",
    "L"
   ]
  },
  {
   "cell_type": "code",
   "execution_count": 82,
   "metadata": {},
   "outputs": [
    {
     "data": {
      "text/plain": [
       "[ 2 -1  0  0  0]\n",
       "[-1  2 -1  0  0]\n",
       "[ 0 -1  2 -1  0]\n",
       "[ 0  0 -1  2 -1]\n",
       "[ 0  0  0 -1  2]"
      ]
     },
     "execution_count": 82,
     "metadata": {},
     "output_type": "execute_result"
    }
   ],
   "source": [
    "L[1:,1:] ### L(1,1)"
   ]
  },
  {
   "cell_type": "code",
   "execution_count": 83,
   "metadata": {},
   "outputs": [
    {
     "data": {
      "text/plain": [
       "6"
      ]
     },
     "execution_count": 83,
     "metadata": {},
     "output_type": "execute_result"
    }
   ],
   "source": [
    "det(L[1:,1:])"
   ]
  },
  {
   "cell_type": "markdown",
   "metadata": {},
   "source": [
    "## Fiedler's partition theorem (simple version)\n",
    "Let $G$ be a connected graph and $L$ its Laplacian matrix.  \n",
    "Assume the multiplicity of the second smallest eigenvalue $\\lambda_2$ is $1$.  \n",
    "Let $v=(v_0,\\ldots,v_{n-1})$ be the eigenvector of $L$ with respect to $\\lambda_2$.  \n",
    "Let $N_+=\\{i: v_i>0\\}$.  \n",
    "Let $N_0=\\{i: v_i=0\\}$.  \n",
    "Let $N_-=\\{i: v_i<0\\}$.  \n",
    "Then $G[N_+]$ and $G[N_0\\cup N_-]$ are **connected** subgraphs of $G$."
   ]
  },
  {
   "cell_type": "code",
   "execution_count": 114,
   "metadata": {},
   "outputs": [],
   "source": [
    "import matplotlib.pyplot as plt\n",
    "import scipy.linalg as LA\n",
    "### https://docs.scipy.org/doc/scipy/reference/generated/scipy.linalg.eigh.html"
   ]
  },
  {
   "cell_type": "code",
   "execution_count": 106,
   "metadata": {},
   "outputs": [
    {
     "data": {
      "image/png": "[encoded data removed]",
      "text/plain": [
       "Graphics object consisting of 20 graphics primitives"
      ]
     },
     "metadata": {},
     "output_type": "display_data"
    }
   ],
   "source": [
    "n = 10\n",
    "\n",
    "g = graphs.RandomTree(n)\n",
    "g.show(figsize=[2,2])"
   ]
  },
  {
   "cell_type": "code",
   "execution_count": 107,
   "metadata": {},
   "outputs": [
    {
     "data": {
      "text/plain": [
       "[ 3  0 -1  0  0  0  0  0 -1 -1]\n",
       "[ 0  2  0  0 -1 -1  0  0  0  0]\n",
       "[-1  0  1  0  0  0  0  0  0  0]\n",
       "[ 0  0  0  2  0 -1  0 -1  0  0]\n",
       "[ 0 -1  0  0  3  0 -1  0  0 -1]\n",
       "[ 0 -1  0 -1  0  2  0  0  0  0]\n",
       "[ 0  0  0  0 -1  0  1  0  0  0]\n",
       "[ 0  0  0 -1  0  0  0  1  0  0]\n",
       "[-1  0  0  0  0  0  0  0  1  0]\n",
       "[-1  0  0  0 -1  0  0  0  0  2]"
      ]
     },
     "execution_count": 107,
     "metadata": {},
     "output_type": "execute_result"
    }
   ],
   "source": [
    "L = g.laplacian_matrix()\n",
    "L"
   ]
  },
  {
   "cell_type": "code",
   "execution_count": 108,
   "metadata": {
    "scrolled": true
   },
   "outputs": [
    {
     "name": "stdout",
     "output_type": "stream",
     "text": [
      "0.12877293568254197\n",
      "[ 0.34045657 -0.15073031  0.39077823 -0.42617188  0.0262509  -0.30830154\n",
      "  0.03013095 -0.48916281  0.39077823  0.19597166]\n"
     ]
    }
   ],
   "source": [
    "eig = LA.eigh(L,eigvals=(1,1))\n",
    "lam = eig[0][0]\n",
    "v = eig[1].flatten()\n",
    "print lam\n",
    "print v"
   ]
  },
  {
   "cell_type": "code",
   "execution_count": 109,
   "metadata": {},
   "outputs": [
    {
     "data": {
      "image/png": "[encoded data removed]",
      "text/plain": [
       "Graphics object consisting of 20 graphics primitives"
      ]
     },
     "metadata": {},
     "output_type": "display_data"
    }
   ],
   "source": [
    "Np = [i for i in range(n) if v[i] > 0]\n",
    "Nzm = [i for i in range(n) if v[i] <= 0]\n",
    "coloring = {'pink':Np, 'lightblue': Nzm}\n",
    "\n",
    "g.show(vertex_colors=coloring)"
   ]
  },
  {
   "cell_type": "markdown",
   "metadata": {},
   "source": [
    "### Laplacian embedding\n",
    "Let $G$ be a graph on $n$ vertices and $L$ its Laplacian matrix.\n",
    "Suppose $Q^{-1}LQ = D$ such that  \n",
    "$Q$ is an orthogonal matrix $Q$ and   \n",
    "$D$ is a diagonal matrix whose diagonal entries are monotone increasing.  \n",
    "\n",
    "For a given integer $d$,  \n",
    "construct the $n\\times d$ matrix $Y:=Q[:,1:d+1]$.  \n",
    "(Columns of $Y$ consist of the second columns to the $(d+1)$-th column of $Q$.)\n",
    "\n",
    "The **Laplacian embedding** is a map $f:V(G)\\rightarrow \\mathbb{R}^d$  \n",
    "such that $f(i)$ is the $i$-th row of $Y$."
   ]
  },
  {
   "cell_type": "code",
   "execution_count": 112,
   "metadata": {},
   "outputs": [
    {
     "data": {
      "image/png": "[encoded data removed]",
      "text/plain": [
       "Graphics object consisting of 21 graphics primitives"
      ]
     },
     "metadata": {},
     "output_type": "display_data"
    }
   ],
   "source": [
    "n = 10\n",
    "d = 2 ### the code here only works for d = 2\n",
    "\n",
    "g = graphs.CycleGraph(n)\n",
    "g.show(figsize=[2,2])"
   ]
  },
  {
   "cell_type": "code",
   "execution_count": 113,
   "metadata": {},
   "outputs": [
    {
     "name": "stdout",
     "output_type": "stream",
     "text": [
      "[0.38196601 0.38196601]\n",
      "[[ 0.43974154 -0.08140873]\n",
      " [ 0.40360923  0.19261254]\n",
      " [ 0.21331191  0.39306237]\n",
      " [-0.0584633   0.44337573]\n",
      " [-0.30790752  0.32433464]\n",
      " [-0.43974154  0.08140873]\n",
      " [-0.40360923 -0.19261254]\n",
      " [-0.21331191 -0.39306237]\n",
      " [ 0.0584633  -0.44337573]\n",
      " [ 0.30790752 -0.32433464]]\n"
     ]
    }
   ],
   "source": [
    "L = g.laplacian_matrix()\n",
    "\n",
    "lam, Y = LA.eigh(L,eigvals=(1,d))\n",
    "print lam\n",
    "print Y"
   ]
  },
  {
   "cell_type": "code",
   "execution_count": 134,
   "metadata": {},
   "outputs": [
    {
     "data": {
      "image/png": "[encoded data removed]",
      "text/plain": [
       "<Figure size 432x288 with 1 Axes>"
      ]
     },
     "metadata": {},
     "output_type": "display_data"
    }
   ],
   "source": [
    "x,y = Y.T\n",
    "\n",
    "fig = plt.figure()\n",
    "ax = plt.subplot(1,1,1)\n",
    "\n",
    "### plot points\n",
    "ax.scatter(x,y,s=50, zorder=3)\n",
    "\n",
    "### add vertex labels\n",
    "for i in range(n):\n",
    "    ax.annotate(i, (x[i], y[i]), zorder=4)\n",
    "    \n",
    "### add lines\n",
    "for i,j in g.edges(labels=False):\n",
    "    ax.plot([x[i],x[j]], [y[i],y[j]],'c')"
   ]
  },
  {
   "cell_type": "code",
   "execution_count": 143,
   "metadata": {},
   "outputs": [],
   "source": [
    "def Laplacian_2_embedding(g):\n",
    "    L = g.laplacian_matrix()\n",
    "    lam, Y = LA.eigh(L,eigvals=(1,2))\n",
    "    x,y = Y.T\n",
    "\n",
    "    fig = plt.figure()\n",
    "    ax = plt.subplot(1,1,1)\n",
    "    ### plot points\n",
    "    ax.scatter(x,y,s=50, zorder=3)\n",
    "    ### add vertex labels\n",
    "    for i in range(n):\n",
    "        ax.annotate(i, (x[i], y[i]), zorder=4)\n",
    "    ### add lines\n",
    "    for i,j in g.edges(labels=False):\n",
    "        ax.plot([x[i],x[j]], [y[i],y[j]],'c')\n",
    "        \n",
    "    #return fig"
   ]
  },
  {
   "cell_type": "code",
   "execution_count": 147,
   "metadata": {},
   "outputs": [
    {
     "data": {
      "image/png": "[encoded data removed]",
      "text/plain": [
       "<Figure size 432x288 with 1 Axes>"
      ]
     },
     "metadata": {},
     "output_type": "display_data"
    }
   ],
   "source": [
    "g = graphs.PetersenGraph()\n",
    "Laplacian_2_embedding(g)"
   ]
  },
  {
   "cell_type": "code",
   "execution_count": 148,
   "metadata": {},
   "outputs": [
    {
     "data": {
      "image/png": "[encoded data removed]",
      "text/plain": [
       "<Figure size 432x288 with 1 Axes>"
      ]
     },
     "metadata": {},
     "output_type": "display_data"
    }
   ],
   "source": [
    "g = graphs.PathGraph(10)\n",
    "Laplacian_2_embedding(g)"
   ]
  },
  {
   "cell_type": "code",
   "execution_count": 159,
   "metadata": {},
   "outputs": [
    {
     "data": {
      "image/png": "[encoded data removed]",
      "text/plain": [
       "<Figure size 432x288 with 1 Axes>"
      ]
     },
     "metadata": {},
     "output_type": "display_data"
    }
   ],
   "source": [
    "k = 5 ### length of each branch\n",
    "b = 3 ### number of branches\n",
    "g = Graph(b*k + 1)\n",
    "g.add_edges([(0,i*k+1) for i in range(b)])\n",
    "for i in range(b):\n",
    "    for j in range(k-1):\n",
    "        g.add_edge(i*k+1+j,i*k+1+j+1)\n",
    "Laplacian_2_embedding(g)"
   ]
  },
  {
   "cell_type": "markdown",
   "metadata": {},
   "source": [
    "## Enjoy!"
   ]
  },
  {
   "cell_type": "code",
   "execution_count": null,
   "metadata": {},
   "outputs": [],
   "source": []
  }
 ],
 "metadata": {
  "kernelspec": {
   "display_name": "SageMath (stable)",
   "language": "sagemath",
   "name": "sagemath"
  },
  "language_info": {
   "codemirror_mode": {
    "name": "ipython",
    "version": 2
   },
   "file_extension": ".py",
   "mimetype": "text/x-python",
   "name": "python",
   "nbconvert_exporter": "python",
   "pygments_lexer": "ipython2",
   "version": "2.7.15"
  }
 },
 "nbformat": 4,
 "nbformat_minor": 2
}
