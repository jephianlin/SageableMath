{
 "cells": [
  {
   "cell_type": "markdown",
   "metadata": {},
   "source": [
    "# Sage Special Topics: Object"
   ]
  },
  {
   "cell_type": "markdown",
   "metadata": {},
   "source": [
    "## Object-oriented programming"
   ]
  },
  {
   "cell_type": "markdown",
   "metadata": {},
   "source": [
    "**class**: objects with the same structure and properties  \n",
    "e.g., integer, Permutation, graph  \n",
    "type and class are interchangeable in Python 3 (but here is Python 2)"
   ]
  },
  {
   "cell_type": "code",
   "execution_count": null,
   "metadata": {},
   "outputs": [],
   "source": [
    "type(1)"
   ]
  },
  {
   "cell_type": "code",
   "execution_count": null,
   "metadata": {},
   "outputs": [],
   "source": [
    "type(1.5)"
   ]
  },
  {
   "cell_type": "code",
   "execution_count": null,
   "metadata": {},
   "outputs": [],
   "source": [
    "type(Permutation([1,3,2]))"
   ]
  },
  {
   "cell_type": "code",
   "execution_count": null,
   "metadata": {},
   "outputs": [],
   "source": [
    "type(matrix([[1,2,3],[1,2,3]]))"
   ]
  },
  {
   "cell_type": "markdown",
   "metadata": {},
   "source": [
    "As an example,  \n",
    "let's define a class called `fraction`  \n",
    "`__init__` takes some inputs and create an object in the class."
   ]
  },
  {
   "cell_type": "code",
   "execution_count": null,
   "metadata": {},
   "outputs": [],
   "source": [
    "class fraction:\n",
    "    def __init__(self,a,b):\n",
    "        self.numerator = a\n",
    "        self.denominator = b\n",
    "        \n",
    "q = fraction(1,2)\n",
    "print q.numerator\n",
    "print q.denominator"
   ]
  },
  {
   "cell_type": "markdown",
   "metadata": {},
   "source": [
    "An **instance** of a class is an **object**."
   ]
  },
  {
   "cell_type": "code",
   "execution_count": null,
   "metadata": {},
   "outputs": [],
   "source": [
    "type(fraction)"
   ]
  },
  {
   "cell_type": "code",
   "execution_count": null,
   "metadata": {},
   "outputs": [],
   "source": [
    "isinstance(q,fraction)"
   ]
  },
  {
   "cell_type": "markdown",
   "metadata": {},
   "source": [
    "Each object can be associated with many **attributes** defined by the user  \n",
    "such as numerator, denominator, etc."
   ]
  },
  {
   "cell_type": "code",
   "execution_count": null,
   "metadata": {},
   "outputs": [],
   "source": [
    "class fraction:\n",
    "    def __init__(self,a,b):\n",
    "        self.numerator = a\n",
    "        self.denominator = b\n",
    "        self.gcd = gcd(a,b)\n",
    "        \n",
    "q = fraction(4,6)\n",
    "q.gcd"
   ]
  },
  {
   "cell_type": "markdown",
   "metadata": {},
   "source": [
    "The functions associated with an object are called a **method**."
   ]
  },
  {
   "cell_type": "code",
   "execution_count": null,
   "metadata": {},
   "outputs": [],
   "source": [
    "class fraction:\n",
    "    def __init__(self,a,b):\n",
    "        self.numerator = a\n",
    "        self.denominator = b\n",
    "        self.gcd = gcd(a,b)\n",
    "        \n",
    "    def reciprocal(self):\n",
    "        return fraction(self.denominator,self.numerator)\n",
    "\n",
    "q = fraction(2,3)\n",
    "print q.numerator\n",
    "print q.denominator\n",
    "\n",
    "p = q.reciprocal();\n",
    "print p.numerator\n",
    "print p.denominator"
   ]
  },
  {
   "cell_type": "markdown",
   "metadata": {},
   "source": [
    "Methods are callable \\[with ()\\]  \n",
    "while attributes are not \\[without ()\\]"
   ]
  },
  {
   "cell_type": "code",
   "execution_count": null,
   "metadata": {},
   "outputs": [],
   "source": [
    "q.numerator()"
   ]
  },
  {
   "cell_type": "code",
   "execution_count": null,
   "metadata": {},
   "outputs": [],
   "source": [
    "q.reciprocal"
   ]
  },
  {
   "cell_type": "markdown",
   "metadata": {},
   "source": [
    "remark: `_` is just a normal character without special meaning  \n",
    "so it can also be a variable"
   ]
  },
  {
   "cell_type": "code",
   "execution_count": null,
   "metadata": {},
   "outputs": [],
   "source": [
    "for _ in range(10):\n",
    "    print _"
   ]
  },
  {
   "cell_type": "markdown",
   "metadata": {},
   "source": [
    "There are many special methods in Python  \n",
    "e.g., `__init__`, ` __repr__`, ` __add__`, `__contain__`"
   ]
  },
  {
   "cell_type": "markdown",
   "metadata": {},
   "source": [
    "`__repr__` tells Python what to **print**  \n",
    "(it defines the meaning of print)"
   ]
  },
  {
   "cell_type": "code",
   "execution_count": null,
   "metadata": {},
   "outputs": [],
   "source": [
    "class fraction:\n",
    "    def __init__(self,a,b):\n",
    "        self.numerator = a\n",
    "        self.denominator = b\n",
    "        self.gcd = gcd(a,b)\n",
    "        \n",
    "    def reciprocal(self):\n",
    "        return fraction(self.denominator,self.numerator)\n",
    "\n",
    "    def __repr__(self):\n",
    "        return \"{} / {}\".format(self.numerator,self.denominator)\n",
    "\n",
    "q = fraction(2,3)\n",
    "print q"
   ]
  },
  {
   "cell_type": "markdown",
   "metadata": {},
   "source": [
    "`__add__` tells Python how to add  \n",
    "(it defines the meaning of `+`)\n",
    "\n",
    "Similarly:  \n",
    "`__sub__` defines **substraction** `-`  \n",
    "`__mul__` defines **multiplication** `*`  \n",
    "`__div__` defines **division** `/`"
   ]
  },
  {
   "cell_type": "code",
   "execution_count": null,
   "metadata": {},
   "outputs": [],
   "source": [
    "class fraction:\n",
    "    def __init__(self,a,b):\n",
    "        self.numerator = a\n",
    "        self.denominator = b\n",
    "        self.gcd = gcd(a,b)\n",
    "        \n",
    "    def reciprocal(self):\n",
    "        return fraction(self.denominator,self.numerator)\n",
    "\n",
    "    def __repr__(self):\n",
    "        return \"{} / {}\".format(self.numerator,self.denominator)\n",
    "\n",
    "    def __add__(self,other):\n",
    "        a,b = self.numerator,self.denominator\n",
    "        c,d = other.numerator,other.denominator\n",
    "        return fraction( a*d + b*c, b*d)\n",
    "\n",
    "q = fraction(2,3)\n",
    "print q\n",
    "p = fraction(2,5)\n",
    "print p\n",
    "print p+q"
   ]
  },
  {
   "cell_type": "markdown",
   "metadata": {},
   "source": [
    "`__eq__` tells Python when two objects are the **same**  \n",
    "(it defines the meaning of `==`)\n",
    "\n",
    "Similarly:  \n",
    "`__ne__` for **not equal** `!=`."
   ]
  },
  {
   "cell_type": "code",
   "execution_count": null,
   "metadata": {},
   "outputs": [],
   "source": [
    "class fraction:\n",
    "    def __init__(self,a,b):\n",
    "        self.numerator = a\n",
    "        self.denominator = b\n",
    "        self.gcd = gcd(a,b)\n",
    "        \n",
    "    def reciprocal(self):\n",
    "        return fraction(self.denominator,self.numerator)\n",
    "\n",
    "    def __repr__(self):\n",
    "        return \"{} / {}\".format(self.numerator,self.denominator)\n",
    "\n",
    "    def __add__(self,other):\n",
    "        a,b = self.numerator,self.denominator\n",
    "        c,d = other.numerator,other.denominator\n",
    "        return fraction( a*d + b*c, b*d)\n",
    "\n",
    "    def __eq__(self,other):\n",
    "        a,b = self.numerator,self.denominator\n",
    "        c,d = other.numerator,other.denominator\n",
    "        return a*d == b*c\n",
    "\n",
    "q = fraction(2,3)\n",
    "print q\n",
    "p = fraction(4,6)\n",
    "print p\n",
    "print p == q"
   ]
  },
  {
   "cell_type": "markdown",
   "metadata": {},
   "source": [
    "`__le__` tells Python when one object is **less than or equal to** the other object  \n",
    "(it defines the meaning of `<=`)\n",
    "\n",
    "Similarly:  \n",
    "`__lt__` defines **less than** `<`  \n",
    "`__ge__` defines **greater than or equal to** `>=`  \n",
    "`__gt__` defines **greater than** `>`"
   ]
  },
  {
   "cell_type": "code",
   "execution_count": null,
   "metadata": {},
   "outputs": [],
   "source": [
    "class fraction:\n",
    "    def __init__(self,a,b):\n",
    "        self.numerator = a\n",
    "        self.denominator = b\n",
    "        self.gcd = gcd(a,b)\n",
    "        \n",
    "    def reciprocal(self):\n",
    "        return fraction(self.denominator,self.numerator)\n",
    "\n",
    "    def __repr__(self):\n",
    "        return \"{} / {}\".format(self.numerator,self.denominator)\n",
    "\n",
    "    def __add__(self,other):\n",
    "        a,b = self.numerator,self.denominator\n",
    "        c,d = other.numerator,other.denominator\n",
    "        return fraction( a*d + b*c, b*d)\n",
    "\n",
    "    def __eq__(self,other):\n",
    "        a,b = self.numerator,self.denominator\n",
    "        c,d = other.numerator,other.denominator\n",
    "        return a*d == b*c\n",
    "\n",
    "    def __le__(self,other):\n",
    "        a,b = self.numerator,self.denominator\n",
    "        c,d = other.numerator,other.denominator\n",
    "        if b*d < 0:\n",
    "            return a*d >= b*c\n",
    "        if b*d > 0:\n",
    "            return a*d <= b*c\n",
    "\n",
    "q = fraction(2,3)\n",
    "print q\n",
    "p = fraction(5,6)\n",
    "print p\n",
    "print p <= q\n",
    "print q <= p"
   ]
  },
  {
   "cell_type": "markdown",
   "metadata": {},
   "source": [
    "Use `dir` to check all attributes and methods of an object.  "
   ]
  },
  {
   "cell_type": "code",
   "execution_count": null,
   "metadata": {},
   "outputs": [],
   "source": [
    "dir(q)"
   ]
  },
  {
   "cell_type": "markdown",
   "metadata": {},
   "source": [
    "The class `integer` has a lot of attributes."
   ]
  },
  {
   "cell_type": "code",
   "execution_count": null,
   "metadata": {},
   "outputs": [],
   "source": [
    "dir(1)"
   ]
  },
  {
   "cell_type": "markdown",
   "metadata": {},
   "source": [
    "If you don't put restrictions on inputs  \n",
    "weird things can happen."
   ]
  },
  {
   "cell_type": "code",
   "execution_count": null,
   "metadata": {},
   "outputs": [],
   "source": [
    "q = fraction(2,0)\n",
    "print q\n",
    "p = fraction(3,0)\n",
    "print p\n",
    "print p == q"
   ]
  },
  {
   "cell_type": "markdown",
   "metadata": {},
   "source": [
    "`raise` Error to avoid bugs"
   ]
  },
  {
   "cell_type": "code",
   "execution_count": null,
   "metadata": {},
   "outputs": [],
   "source": [
    "class fraction:\n",
    "    def __init__(self,a,b):\n",
    "        if b == 0:\n",
    "            raise ValueError, \"The divisor cannot be zero.\"\n",
    "        self.numerator = a\n",
    "        self.denominator = b\n",
    "        self.gcd = gcd(a,b)\n",
    "        \n",
    "    def reciprocal(self):\n",
    "        return fraction(self.denominator,self.numerator)\n",
    "\n",
    "    def __repr__(self):\n",
    "        return \"{} / {}\".format(self.numerator,self.denominator)\n",
    "\n",
    "    def __add__(self,other):\n",
    "        a,b = self.numerator,self.denominator\n",
    "        c,d = other.numerator,other.denominator\n",
    "        return fraction( a*d + b*c, b*d)\n",
    "\n",
    "    def __eq__(self,other):\n",
    "        a,b = self.numerator,self.denominator\n",
    "        c,d = other.numerator,other.denominator\n",
    "        return a*d == b*c\n",
    "\n",
    "    def __le__(self,other):\n",
    "        a,b = self.numerator,self.denominator\n",
    "        c,d = other.numerator,other.denominator\n",
    "        if b*d < 0:\n",
    "            return a*d >= b*c\n",
    "        if b*d > 0:\n",
    "            return a*d <= b*c\n",
    "\n",
    "q = fraction(2,0)\n",
    "print q"
   ]
  },
  {
   "cell_type": "markdown",
   "metadata": {},
   "source": [
    "#### Exercise\n",
    "Define a class `mymatrix`  \n",
    "and define the additions and the multiplications on this class.  "
   ]
  },
  {
   "cell_type": "code",
   "execution_count": null,
   "metadata": {},
   "outputs": [],
   "source": [
    "### your answer here\n"
   ]
  },
  {
   "cell_type": "markdown",
   "metadata": {},
   "source": [
    "#### Exercise\n",
    "Define a class `Z7` to implement the cyclic group $\\mathbb{Z}_7$.  \n",
    "Define the the additions and the multiplications so that  \n",
    "```Python \n",
    "Z7(a) + Z7(b) == Z7(c)\n",
    "Z7(a) * Z7(b) == Z7(d)\n",
    "```\n",
    "where `c = (a + b) % 7` and `d = (a * b) % 7`.  \n",
    "Also define the inverse so that  \n",
    "```Python\n",
    "Z7(a).inverse() == Z7(ainv)\n",
    "```\n",
    "has the property `Z7(a) * Z7(ainv) == Z7(1)`."
   ]
  },
  {
   "cell_type": "code",
   "execution_count": null,
   "metadata": {},
   "outputs": [],
   "source": [
    "### your answer here\n"
   ]
  },
  {
   "cell_type": "code",
   "execution_count": null,
   "metadata": {},
   "outputs": [],
   "source": []
  }
 ],
 "metadata": {
  "kernelspec": {
   "display_name": "SageMath (stable)",
   "language": "sagemath",
   "name": "sagemath"
  },
  "language_info": {
   "codemirror_mode": {
    "name": "ipython",
    "version": 2
   },
   "file_extension": ".py",
   "mimetype": "text/x-python",
   "name": "python",
   "nbconvert_exporter": "python",
   "pygments_lexer": "ipython2",
   "version": "2.7.15"
  }
 },
 "nbformat": 4,
 "nbformat_minor": 2
}
